{
 "cells": [
  {
   "cell_type": "markdown",
   "id": "37b971c6-7263-4b6a-b255-fb0218d2b94b",
   "metadata": {},
   "source": [
    "# Demo: Preparing and Exploring Image Data"
   ]
  },
  {
   "cell_type": "code",
   "execution_count": 178,
   "id": "d0999ee3-2252-4b7a-a573-be9682f1b3f3",
   "metadata": {},
   "outputs": [],
   "source": [
    "# Now that we understand how convolutional layers and pooling layers work,\n",
    "# let's set up our first convolutional neural network to classify images.\n",
    "# We'll work with the MNIST dataset that we've seen before.\n",
    "# We'll work on  this notebook where we first set up our convolutional neural network.\n",
    "# We'll then perform some hyperparameter tuning to see how the model changes as we change its design."
   ]
  },
  {
   "cell_type": "code",
   "execution_count": 179,
   "id": "05660f59-9223-4c70-9a9f-274834c6771d",
   "metadata": {},
   "outputs": [],
   "source": [
    "# Set up the import statements for the PyTorch and other data science libraries that we might need.\n",
    "\n",
    "import pandas as pd\n",
    "import numpy as np\n",
    "import matplotlib.pyplot as plt\n",
    "\n",
    "import torch\n",
    "import torchvision"
   ]
  },
  {
   "cell_type": "code",
   "execution_count": 180,
   "id": "9c82d13a-8d09-48f3-b435-bbae054a5ef3",
   "metadata": {},
   "outputs": [],
   "source": [
    "# Let's read in the MNIST data that we've worked with before.\n",
    "# This data is available in the form of CSV files.\n",
    "\n",
    "mnist_train = pd.read_csv('datasets/mnist-in-csv/mnist_train.csv')\n",
    "mnist_test = pd.read_csv('datasets/mnist-in-csv/mnist_test.csv')"
   ]
  },
  {
   "cell_type": "code",
   "execution_count": 181,
   "id": "c99282b1-8051-462d-929e-682fbbf118e2",
   "metadata": {},
   "outputs": [
    {
     "data": {
      "text/html": [
       "<div>\n",
       "<style scoped>\n",
       "    .dataframe tbody tr th:only-of-type {\n",
       "        vertical-align: middle;\n",
       "    }\n",
       "\n",
       "    .dataframe tbody tr th {\n",
       "        vertical-align: top;\n",
       "    }\n",
       "\n",
       "    .dataframe thead th {\n",
       "        text-align: right;\n",
       "    }\n",
       "</style>\n",
       "<table border=\"1\" class=\"dataframe\">\n",
       "  <thead>\n",
       "    <tr style=\"text-align: right;\">\n",
       "      <th></th>\n",
       "      <th>label</th>\n",
       "      <th>1x1</th>\n",
       "      <th>1x2</th>\n",
       "      <th>1x3</th>\n",
       "      <th>1x4</th>\n",
       "      <th>1x5</th>\n",
       "      <th>1x6</th>\n",
       "      <th>1x7</th>\n",
       "      <th>1x8</th>\n",
       "      <th>1x9</th>\n",
       "      <th>...</th>\n",
       "      <th>28x19</th>\n",
       "      <th>28x20</th>\n",
       "      <th>28x21</th>\n",
       "      <th>28x22</th>\n",
       "      <th>28x23</th>\n",
       "      <th>28x24</th>\n",
       "      <th>28x25</th>\n",
       "      <th>28x26</th>\n",
       "      <th>28x27</th>\n",
       "      <th>28x28</th>\n",
       "    </tr>\n",
       "  </thead>\n",
       "  <tbody>\n",
       "    <tr>\n",
       "      <th>0</th>\n",
       "      <td>5</td>\n",
       "      <td>0</td>\n",
       "      <td>0</td>\n",
       "      <td>0</td>\n",
       "      <td>0</td>\n",
       "      <td>0</td>\n",
       "      <td>0</td>\n",
       "      <td>0</td>\n",
       "      <td>0</td>\n",
       "      <td>0</td>\n",
       "      <td>...</td>\n",
       "      <td>0</td>\n",
       "      <td>0</td>\n",
       "      <td>0</td>\n",
       "      <td>0</td>\n",
       "      <td>0</td>\n",
       "      <td>0</td>\n",
       "      <td>0</td>\n",
       "      <td>0</td>\n",
       "      <td>0</td>\n",
       "      <td>0</td>\n",
       "    </tr>\n",
       "    <tr>\n",
       "      <th>1</th>\n",
       "      <td>0</td>\n",
       "      <td>0</td>\n",
       "      <td>0</td>\n",
       "      <td>0</td>\n",
       "      <td>0</td>\n",
       "      <td>0</td>\n",
       "      <td>0</td>\n",
       "      <td>0</td>\n",
       "      <td>0</td>\n",
       "      <td>0</td>\n",
       "      <td>...</td>\n",
       "      <td>0</td>\n",
       "      <td>0</td>\n",
       "      <td>0</td>\n",
       "      <td>0</td>\n",
       "      <td>0</td>\n",
       "      <td>0</td>\n",
       "      <td>0</td>\n",
       "      <td>0</td>\n",
       "      <td>0</td>\n",
       "      <td>0</td>\n",
       "    </tr>\n",
       "    <tr>\n",
       "      <th>2</th>\n",
       "      <td>4</td>\n",
       "      <td>0</td>\n",
       "      <td>0</td>\n",
       "      <td>0</td>\n",
       "      <td>0</td>\n",
       "      <td>0</td>\n",
       "      <td>0</td>\n",
       "      <td>0</td>\n",
       "      <td>0</td>\n",
       "      <td>0</td>\n",
       "      <td>...</td>\n",
       "      <td>0</td>\n",
       "      <td>0</td>\n",
       "      <td>0</td>\n",
       "      <td>0</td>\n",
       "      <td>0</td>\n",
       "      <td>0</td>\n",
       "      <td>0</td>\n",
       "      <td>0</td>\n",
       "      <td>0</td>\n",
       "      <td>0</td>\n",
       "    </tr>\n",
       "    <tr>\n",
       "      <th>3</th>\n",
       "      <td>1</td>\n",
       "      <td>0</td>\n",
       "      <td>0</td>\n",
       "      <td>0</td>\n",
       "      <td>0</td>\n",
       "      <td>0</td>\n",
       "      <td>0</td>\n",
       "      <td>0</td>\n",
       "      <td>0</td>\n",
       "      <td>0</td>\n",
       "      <td>...</td>\n",
       "      <td>0</td>\n",
       "      <td>0</td>\n",
       "      <td>0</td>\n",
       "      <td>0</td>\n",
       "      <td>0</td>\n",
       "      <td>0</td>\n",
       "      <td>0</td>\n",
       "      <td>0</td>\n",
       "      <td>0</td>\n",
       "      <td>0</td>\n",
       "    </tr>\n",
       "    <tr>\n",
       "      <th>4</th>\n",
       "      <td>9</td>\n",
       "      <td>0</td>\n",
       "      <td>0</td>\n",
       "      <td>0</td>\n",
       "      <td>0</td>\n",
       "      <td>0</td>\n",
       "      <td>0</td>\n",
       "      <td>0</td>\n",
       "      <td>0</td>\n",
       "      <td>0</td>\n",
       "      <td>...</td>\n",
       "      <td>0</td>\n",
       "      <td>0</td>\n",
       "      <td>0</td>\n",
       "      <td>0</td>\n",
       "      <td>0</td>\n",
       "      <td>0</td>\n",
       "      <td>0</td>\n",
       "      <td>0</td>\n",
       "      <td>0</td>\n",
       "      <td>0</td>\n",
       "    </tr>\n",
       "  </tbody>\n",
       "</table>\n",
       "<p>5 rows × 785 columns</p>\n",
       "</div>"
      ],
      "text/plain": [
       "   label  1x1  1x2  1x3  1x4  1x5  1x6  1x7  1x8  1x9  ...  28x19  28x20  \\\n",
       "0      5    0    0    0    0    0    0    0    0    0  ...      0      0   \n",
       "1      0    0    0    0    0    0    0    0    0    0  ...      0      0   \n",
       "2      4    0    0    0    0    0    0    0    0    0  ...      0      0   \n",
       "3      1    0    0    0    0    0    0    0    0    0  ...      0      0   \n",
       "4      9    0    0    0    0    0    0    0    0    0  ...      0      0   \n",
       "\n",
       "   28x21  28x22  28x23  28x24  28x25  28x26  28x27  28x28  \n",
       "0      0      0      0      0      0      0      0      0  \n",
       "1      0      0      0      0      0      0      0      0  \n",
       "2      0      0      0      0      0      0      0      0  \n",
       "3      0      0      0      0      0      0      0      0  \n",
       "4      0      0      0      0      0      0      0      0  \n",
       "\n",
       "[5 rows x 785 columns]"
      ]
     },
     "execution_count": 181,
     "metadata": {},
     "output_type": "execute_result"
    }
   ],
   "source": [
    "# If you remember, these are grayscale 28 x 28 images.\n",
    "# Every row in this dataset corresponds to a single image along with its label.\n",
    "\n",
    "mnist_train.head()"
   ]
  },
  {
   "cell_type": "code",
   "execution_count": 182,
   "id": "0e644a7e-be26-46ec-bf7c-64e8d3fbb8aa",
   "metadata": {},
   "outputs": [
    {
     "data": {
      "text/plain": [
       "(60000, 785)"
      ]
     },
     "metadata": {},
     "output_type": "display_data"
    },
    {
     "data": {
      "text/plain": [
       "(10000, 785)"
      ]
     },
     "metadata": {},
     "output_type": "display_data"
    }
   ],
   "source": [
    "display(mnist_train.shape)\n",
    "display(mnist_test.shape)"
   ]
  },
  {
   "cell_type": "code",
   "execution_count": 183,
   "id": "de0819f9-699a-4a8e-b9c1-83e7a6ce53ad",
   "metadata": {},
   "outputs": [],
   "source": [
    "# We'll clean up our data first.\n",
    "# Let's drop all records which we have missing fields using dropna.\n",
    "\n",
    "mnist_train = mnist_train.dropna()\n",
    "mnist_test = mnist_test.dropna()"
   ]
  },
  {
   "cell_type": "code",
   "execution_count": 184,
   "id": "3e126d81-71c0-4713-b3f6-878c0b21289a",
   "metadata": {},
   "outputs": [
    {
     "data": {
      "text/plain": [
       "(60000, 785)"
      ]
     },
     "metadata": {},
     "output_type": "display_data"
    },
    {
     "data": {
      "text/plain": [
       "(10000, 785)"
      ]
     },
     "metadata": {},
     "output_type": "display_data"
    }
   ],
   "source": [
    "display(mnist_train.shape)\n",
    "display(mnist_test.shape)"
   ]
  },
  {
   "cell_type": "code",
   "execution_count": 185,
   "id": "9da1a1d2-8549-4f05-92a3-5537293368b0",
   "metadata": {},
   "outputs": [
    {
     "data": {
      "text/plain": [
       "(8, 785)"
      ]
     },
     "execution_count": 185,
     "metadata": {},
     "output_type": "execute_result"
    }
   ],
   "source": [
    "# We've seen these images before,\n",
    "# but let's just explore our data before we work with it.\n",
    "# I'm going to choose eight images at random to display and view.\n",
    "# These are eight records from our CSV file,\n",
    "# and you can see that each record has 785 columns.\n",
    "\n",
    "random_sel = mnist_train.sample(8)\n",
    "random_sel.shape"
   ]
  },
  {
   "cell_type": "code",
   "execution_count": 186,
   "id": "f59bfc8e-efd5-4ae9-8e0d-40ebf53d027e",
   "metadata": {},
   "outputs": [
    {
     "data": {
      "text/plain": [
       "torch.Size([8, 28, 28])"
      ]
     },
     "execution_count": 186,
     "metadata": {},
     "output_type": "execute_result"
    }
   ],
   "source": [
    "# I'm going to go ahead and drop the label column because we're only\n",
    "# interested in the image features of this batch.\n",
    "\n",
    "image_features = random_sel.drop('label', axis=1) # drop 'label' column\n",
    "\n",
    "# If you remember, the pixel intensity values were represented using integers from 0 to 255.\n",
    "# I'm going to convert this to a 0-1 scale by dividing every pixel by 255 (min-max normalization)\n",
    "# and that'll convert the result to a torch.Tensor.\n",
    "\n",
    "\n",
    "# In addition, I've also reshaped the images to be 28 x 28 images so that they can be displayed in matplotlib.\n",
    "# One shape dimension can be -1. In this case, the value is inferred from the length of the array and \n",
    "# remaining dimensions.\n",
    "image_batch = (torch.Tensor(image_features.values / 255.)).reshape(-1, 28, 28)\n",
    "\n",
    "# We have eight images in our batch here, and every image is 28 x 28 pixels.\n",
    "image_batch.shape"
   ]
  },
  {
   "cell_type": "code",
   "execution_count": 187,
   "id": "c407df3c-05cb-4b8d-9611-75e5e6ccf02b",
   "metadata": {},
   "outputs": [
    {
     "data": {
      "text/plain": [
       "torch.Size([3, 32, 242])"
      ]
     },
     "execution_count": 187,
     "metadata": {},
     "output_type": "execute_result"
    }
   ],
   "source": [
    "# Let's make a grid using torchvision.utils.make_grid(), and here is our grid shape.\n",
    "# .unsqueeze(1) is used to add an additional dimension, which is generally used for the channel. \n",
    "# Since the images are grayscale, they don't have a channel dimension, and .unsqueeze(1) adds that. \n",
    "# After this operation, the shape of new object representing batch of images (image_batch.unsqueeze(1)) \n",
    "# becomes [8, 1, 28, 28].\n",
    "# nrow=8 specifies that there should be 8 images in each row of the grid.\n",
    "grid = torchvision.utils.make_grid(image_batch.unsqueeze(1), nrow=8)\n",
    "\n",
    "# Observe that the make_grid utility converts our images to multi-channel or three-channel RGB images.\n",
    "# Now we are just doing it for this batch of eight images so that we can \n",
    "# display it because we've used the make_grid utility.\n",
    "# When we work with the images to feed into our CNN,\n",
    "# we'll work with them as single-channel grayscale images.\n",
    "grid.shape\n",
    "\n",
    "\n",
    "# The output tensor `grid` has a shape of `[3, 32, 242]` due to the default behavior of \n",
    "# `torchvision.utils.make_grid`:\n",
    "\n",
    "# 1. **Number of Channels**: The first dimension is 3 because `make_grid` by default converts \n",
    "# the images to have 3 channels (RGB) to create the grid image. \n",
    "# Even though the input images are grayscale (1 channel), the grid is created as an RGB image.\n",
    "\n",
    "# 2. **Height**: The second dimension is 32 because each input image has a height of 28, and \n",
    "# there is a padding of 2 pixels added by default to both top and bottom of each image. \n",
    "# So, 28 + 2 (top padding) + 2 (bottom padding) = 32.\n",
    "\n",
    "# 3. **Width**: The third dimension is 242 because each image has a width of 28, \n",
    "# there are 8 images in a row (`nrow=8`), and by default, \n",
    "# there is a padding of 2 pixels between each image as well as at the beginning and end of the row. \n",
    "# So, (28 * 8) + 2 (beginning padding) + 2 * 7 (padding between images) + 2 (end padding) = 242.\n",
    "\n",
    "# This output tensor represents an RGB image of the grid. \n",
    "# The height and width are slightly more than the dimensions of the \n",
    "# individual images due to the padding added between the images and on the borders."
   ]
  },
  {
   "cell_type": "code",
   "execution_count": 188,
   "id": "d24d3168-ac0d-4521-8c95-52b4bec99657",
   "metadata": {},
   "outputs": [
    {
     "data": {
      "text/plain": [
       "(-0.5, 241.5, 31.5, -0.5)"
      ]
     },
     "execution_count": 188,
     "metadata": {},
     "output_type": "execute_result"
    },
    {
     "data": {
      "image/png": "[encoded data removed]",
      "text/plain": [
       "<Figure size 1200x1200 with 1 Axes>"
      ]
     },
     "metadata": {},
     "output_type": "display_data"
    }
   ],
   "source": [
    "# Now let's move the channel information to be the last dimension by using the transpose method.\n",
    "# This is because matplotlib expects our images to have\n",
    "# channel information in the last dimension.\n",
    "# Let's go ahead and take a look at the images that we're going to work with.\n",
    "# Here are eight images from our sample.\n",
    "\n",
    "plt.figure(figsize=(12, 12))\n",
    "plt.imshow(grid.numpy().transpose((1, 2, 0)))\n",
    "plt.axis('off')"
   ]
  },
  {
   "cell_type": "code",
   "execution_count": 189,
   "id": "1f98780c-85ca-4ba0-bc16-68b150cdb27e",
   "metadata": {},
   "outputs": [],
   "source": [
    "# The next few operations that I'm about to perform are familiar to us,\n",
    "# so I'm going to run through them quickly.\n",
    "# We extract the training features, that is the image pixel intensities and the\n",
    "# corresponding labels into separate tensors.\n",
    "# We do this for both the training data, as well as the test data.\n",
    "\n",
    "mnist_train_features = mnist_train.drop('label', axis=1)\n",
    "mnist_train_target = mnist_train['label']\n",
    "\n",
    "mnist_test_features = mnist_test.drop('label', axis=1)\n",
    "mnist_test_target = mnist_test['label']"
   ]
  },
  {
   "cell_type": "code",
   "execution_count": 190,
   "id": "9fd59f4a-8380-4e2d-b5b3-7e1f73895642",
   "metadata": {},
   "outputs": [],
   "source": [
    "# We then convert all of the image data and the corresponding labels to torch.tensors.\n",
    "# Images are of type float, the labels are of type long.\n",
    "\n",
    "\n",
    "X_train_tensor = torch.tensor(mnist_train_features.values, dtype=torch.float)\n",
    "Y_train_tensor = torch.tensor(mnist_train_target.values, dtype=torch.long)\n",
    "\n",
    "x_test_tensor = torch.tensor(mnist_test_features.values, dtype=torch.float)\n",
    "y_test_tensor = torch.tensor(mnist_test_target.values, dtype=torch.long)"
   ]
  },
  {
   "cell_type": "code",
   "execution_count": 191,
   "id": "5e20879f-33e8-4824-8a91-0d053862f829",
   "metadata": {},
   "outputs": [
    {
     "name": "stdout",
     "output_type": "stream",
     "text": [
      "torch.Size([60000, 784])\n",
      "torch.Size([60000])\n",
      "torch.Size([10000, 784])\n",
      "torch.Size([10000])\n"
     ]
    }
   ],
   "source": [
    "# Before we move on, let's quickly print out the shape of the training and test image data,\n",
    "# as well as the corresponding labels.\n",
    "# There are 60000 images in the training data and 10000 in the test data.\n",
    "print(X_train_tensor.shape)\n",
    "print(Y_train_tensor.shape)\n",
    "print(x_test_tensor.shape)\n",
    "print(y_test_tensor.shape)"
   ]
  },
  {
   "cell_type": "code",
   "execution_count": 192,
   "id": "865b0c49-cbba-4733-bc3c-abfe1fae7deb",
   "metadata": {},
   "outputs": [
    {
     "name": "stdout",
     "output_type": "stream",
     "text": [
      "torch.Size([60000, 1, 28, 28])\n",
      "torch.Size([60000])\n",
      "torch.Size([10000, 1, 28, 28])\n",
      "torch.Size([10000])\n"
     ]
    }
   ],
   "source": [
    "# Remember that convolutional neural networks are\n",
    "# built to mimic the visual cortex,\n",
    "# which means it views images in the original two dimensions; height and width.\n",
    "# In addition, CNNs in PyTorch expect images to be fed in batches,\n",
    "# and also expect channel information to be one of the dimensions.\n",
    "# This is why we need to reshape the images in our training and\n",
    "# test data to be in four-dimensional form.\n",
    "\n",
    "X_train_tensor = X_train_tensor.reshape(-1, 1, 28, 28)\n",
    "x_test_tensor = x_test_tensor.reshape(-1, 1, 28, 28)\n",
    "\n",
    "# The first dimension is the batch. Here the first dimension is -1 (it means - inferred from the other dimensions)\n",
    "# It'll correspond to the number of images that we have to work with,\n",
    "# and the remaining three dimensions refer to a single image.\n",
    "# Each image is a 28 x 28 grayscale image.\n",
    "# Let's take a look at the shape of our training and test data after we've performed this reshape.\n",
    "# You can see that we have 60000 images, and each image is 28 x 28 x 1.\n",
    "# This is in the training data, \n",
    "# and we have 10000 images in the same format in the test data.\n",
    "print(X_train_tensor.shape)\n",
    "print(Y_train_tensor.shape)\n",
    "print(x_test_tensor.shape)\n",
    "print(y_test_tensor.shape)"
   ]
  },
  {
   "cell_type": "markdown",
   "id": "333f71dd-f248-4d19-9f86-70a653fa524d",
   "metadata": {},
   "source": [
    "# Demo: Setting up a Convolutional Neural Network"
   ]
  },
  {
   "cell_type": "code",
   "execution_count": 193,
   "id": "0ac9ae65-86d2-4c2b-baa9-a3dc6e2bbdcf",
   "metadata": {},
   "outputs": [],
   "source": [
    "# Now ready to set up our convolutional neural network.\n",
    "# Go ahead and import the PyTorch modules that we'll need.\n",
    "\n",
    "import torch.nn as nn\n",
    "import torch.nn.functional as F"
   ]
  },
  {
   "cell_type": "code",
   "execution_count": 194,
   "id": "98576827-cc4b-4dc1-b043-200d6a90ba27",
   "metadata": {},
   "outputs": [],
   "source": [
    "# I'll set up a few variables which holds the different size information in our convolutional neural network.\n",
    "# Let's look at each of these in turn.\n",
    "\n",
    "# in_size here refers to the number of channels in your input image.\n",
    "# The MNIST dataset is made up of grayscale images, which is why in_size is 1 here.\n",
    "# If you're working with RGB images, in_size will be 3.\n",
    "in_size = 1\n",
    "\n",
    "# We'll have two convolutional layers in our neural network.\n",
    "# The first of these will be of size 16, and the second of size 32.\n",
    "# These refer to the number of feature maps generated by each convolutional layer,\n",
    "# that is the depth of the output produced by each convolutional layer.\n",
    "hid1_size = 16\n",
    "hid2_size = 32\n",
    "\n",
    "# The output size here refers to the size of the output\n",
    "# from the final linear layer of our CNN.\n",
    "# Because we have 10 digits into which the input images can be classified,\n",
    "# this is equal to 10.\n",
    "out_size = 10\n",
    "\n",
    "# This is the convolutional kernel size.\n",
    "# Both of our convolutional layers will use a square kernel that is 5 x 5.\n",
    "k_conv_size = 5"
   ]
  },
  {
   "cell_type": "code",
   "execution_count": 195,
   "id": "652e1bcc-0921-48e2-b9af-e976f6ff49a2",
   "metadata": {},
   "outputs": [],
   "source": [
    "# Let's set up our custom neural network,\n",
    "# which inherits from the nn.Module base class.\n",
    "\n",
    "\n",
    "class ConvNet(nn.Module):\n",
    "    # Let's first set up the init method where we initialize the\n",
    "    # convolutional and pooling layers of our neural network.\n",
    "    def __init__(self):\n",
    "        super(ConvNet, self).__init__()\n",
    "        \n",
    "        # Observe that we have set up two sequential layers.\n",
    "        # Each sequential layer is made up of a convolutional layer,\n",
    "        # batch normalization, ReLU activation, followed by a MaxPool layer.\n",
    "        self.layer1 = nn.Sequential(\n",
    "                                   # Here is the first convolutional layer where the input size is\n",
    "                                   # the number of channels in the input images.\n",
    "                                   # hid1_size refers to the depth of the output of this convolutional layer.\n",
    "                                   # This is equal to 16 for this first convolutional layer,\n",
    "                                   # and this convolutional layer will apply a 5 x 5 kernel to the input images.\n",
    "                                   # The default horizontal and vertical stride for the convolutional kernel is 1.\n",
    "                                   nn.Conv2d(in_size, hid1_size, k_conv_size),\n",
    "                                   # Batch normalization is a technique that is often used to improve the speed,\n",
    "                                   # performance, and stability of your neural networks.\n",
    "                                   # Batch normalization is used to 0 center and normalize the output of each\n",
    "                                   # convolutional layer before the activations that follow.\n",
    "                                   # This allows your model to learn the optimal scale and\n",
    "                                   # the mean of the inputs for each layer.\n",
    "                                   # Neural networks often work better and convert faster in training\n",
    "                                   # when the inputs to each layer are batch normalized,\n",
    "                                   # so we apply batch normalization to the output of our convolutional\n",
    "                                   # layer before we pass into the ReLU activation layer.\n",
    "                                   # OUTPUT HERE: (28-5 + 0) / 1 + 1 = 24. 24x24\n",
    "                                   nn.BatchNorm2d(hid1_size), # 24x24\n",
    "                                   nn.ReLU(), #  24x24\n",
    "                                   # And the output of this convolutional layer is passed into a MaxPool layer\n",
    "                                   # where we use a 2 x 2 kernel to subsample the input.\n",
    "                                   # The default horizontal and vertical stride for a pooling layer\n",
    "                                   # kernel is equal to the size of the kernel itself,\n",
    "                                   # which will be 2 here in our example.\n",
    "                                   nn.MaxPool2d(kernel_size=2)) # 2x2 pooling filter\n",
    "                                   # OUTPUT after pooling: (24 - 2 + 0) / 2 + 1 = 12. So 12x12.\n",
    "        \n",
    "        # After this first combination of a convolutional and a pooling layer,\n",
    "        # we pass it in to another convolutional and pooling layer.\n",
    "        # Remember that convolutional layers make your input deeper.\n",
    "        # The output of the second convolutional layer will have 32 feature maps.\n",
    "        self.layer2 = nn.Sequential(nn.Conv2d(hid1_size, hid2_size, k_conv_size),\n",
    "                                    # OUTPUT HERE: (12 - 5 + 0) / 1 + 1 = 8. So 8x8\n",
    "                                   nn.BatchNorm2d(hid2_size), # 8x8\n",
    "                                   nn.ReLU(), # 8x8\n",
    "                                   nn.MaxPool2d(kernel_size=2)) \n",
    "                                    # OUTPUT after pooling: (8 - 2 + 0) / 2 + 1 = 4. So 4 x 4. \n",
    "        \n",
    "        # After the two sets of layers performing convolution and pooling,\n",
    "        # we pass this output into a final linear layer.\n",
    "        # The size of this linear layer depends on the size of the\n",
    "        # outputs produced by our previous layers,\n",
    "        # and it's 512 here based on our input image size and the strides and the\n",
    "        # kernel size that we have chosen for our convolution,\n",
    "        # as well as pooling layers.\n",
    "        # 4 x 4 output image from the last layer, and 32 feature maps, which makes 4 x 4 x 32 = 512.\n",
    "        self.fc = nn.Linear(512, out_size)\n",
    "        \n",
    "        \n",
    "    # Let's set up the forward function for this neural network,\n",
    "    # which takes in the input images and applies the convolutional,\n",
    "    # pooling, and linear layers to the input.\n",
    "    def forward(self, x):\n",
    "        # We'll first apply the first layer to our input batch of images,\n",
    "        # and I'm going to print out the shape of the output so that I can\n",
    "        # see what the convolution result looks like.\n",
    "        out = self.layer1(x)\n",
    "        # print(out.shape)\n",
    "            \n",
    "        # The output of the first layer is then passed in to the second layer,\n",
    "        # and I print out the shape of the output which we get\n",
    "        # from the second layer as well.\n",
    "        out = self.layer2(out)\n",
    "        # print(out.shape)\n",
    "            \n",
    "        # Now remember the convolutional and pooling layers\n",
    "        # act on images in two dimensions, images that have height and width,\n",
    "        # but when we feed in this information to the linear layer,\n",
    "        # we'll need to reshape the output that we get from our\n",
    "        # convolutional and pooling layers.\n",
    "        # This reshape operation serves to flatten the images that we get in each batch so\n",
    "        # that every image is represented in the form of a 1D vector.\n",
    "        out = out.reshape(out.size(0), -1) # keep the batch dimension, flatten other dimensions into one dim\n",
    "        # I'll print out the shape of these flattened images as well so that\n",
    "        # you can see how the shape of the image changes as you flow through\n",
    "        # the convolutional neural network.\n",
    "        # print(out.shape)\n",
    "            \n",
    "            \n",
    "        # And this output will now be fed into our fully connected layer.\n",
    "        # Remember we had specified 512 pixels in our fully connected layer.\n",
    "        # By printing out these output shapes, you'll see how we got 512.\n",
    "        # So if you're not sure of how many pixels you should have in your linear layer,\n",
    "        # you can simply leave the linear layer out,\n",
    "        # print out the shapes at every layer of your convolutional neural network,\n",
    "        # and once you know the shape of the final output you\n",
    "        # can then set up your linear layer.\n",
    "        out = self.fc(out)\n",
    "        # print(out.shape)\n",
    "            \n",
    "            \n",
    "        # I'm going to train this model using cross entropy loss,\n",
    "        # which can directly take as input the output of your last linear layer.\n",
    "        # You can choose to apply the softmax function here if you want to,\n",
    "        # and that works as well,\n",
    "        # or you can simply use the output of this last linear layer.\n",
    "        return out"
   ]
  },
  {
   "cell_type": "code",
   "execution_count": 196,
   "id": "862c3df2-1529-4738-9f6d-e3a1530dd3ce",
   "metadata": {},
   "outputs": [
    {
     "name": "stdout",
     "output_type": "stream",
     "text": [
      "cuda:0\n"
     ]
    },
    {
     "data": {
      "text/plain": [
       "ConvNet(\n",
       "  (layer1): Sequential(\n",
       "    (0): Conv2d(1, 16, kernel_size=(5, 5), stride=(1, 1))\n",
       "    (1): BatchNorm2d(16, eps=1e-05, momentum=0.1, affine=True, track_running_stats=True)\n",
       "    (2): ReLU()\n",
       "    (3): MaxPool2d(kernel_size=2, stride=2, padding=0, dilation=1, ceil_mode=False)\n",
       "  )\n",
       "  (layer2): Sequential(\n",
       "    (0): Conv2d(16, 32, kernel_size=(5, 5), stride=(1, 1))\n",
       "    (1): BatchNorm2d(32, eps=1e-05, momentum=0.1, affine=True, track_running_stats=True)\n",
       "    (2): ReLU()\n",
       "    (3): MaxPool2d(kernel_size=2, stride=2, padding=0, dilation=1, ceil_mode=False)\n",
       "  )\n",
       "  (fc): Linear(in_features=512, out_features=10, bias=True)\n",
       ")"
      ]
     },
     "execution_count": 196,
     "metadata": {},
     "output_type": "execute_result"
    }
   ],
   "source": [
    "# Create an instance of this model,\n",
    "model = ConvNet()\n",
    "\n",
    "device = torch.device(\"cuda:0\" if torch.cuda.is_available() else \"cpu\")\n",
    "print(device)\n",
    "\n",
    "# and because I want to train this model using the GPU available,\n",
    "# I'm going to copy over the model parameters to this coda:0 device\n",
    "# calling model.to(device) in order to perform this copy.\n",
    "model.to(device)"
   ]
  },
  {
   "cell_type": "code",
   "execution_count": 197,
   "id": "1861df6b-0fb2-450b-900e-1f5478090d93",
   "metadata": {},
   "outputs": [],
   "source": [
    "# In addition to the model parameters,\n",
    "# you also need to copy over the tensors for the training and\n",
    "# test images and the corresponding labels,\n",
    "# and we do this as well using the to() function.\n",
    "\n",
    "X_train_tensor = X_train_tensor.to(device)\n",
    "x_test_tensor = x_test_tensor.to(device)\n",
    "\n",
    "Y_train_tensor = Y_train_tensor.to(device)\n",
    "y_test_tensor = y_test_tensor.to(device)"
   ]
  },
  {
   "cell_type": "markdown",
   "id": "bddac141-081e-463e-936a-c0e3c25f6519",
   "metadata": {},
   "source": [
    "# Demo: Training a CNN"
   ]
  },
  {
   "cell_type": "code",
   "execution_count": 165,
   "id": "2fce123e-e928-468a-a702-d038ee6ebdea",
   "metadata": {},
   "outputs": [],
   "source": [
    "# The learning_rate that we'll use to train our\n",
    "# convolutional neural network is 0.001,\n",
    "# and the loss function is the CrossEntropyLoss.\n",
    "learning_rate = 0.001"
   ]
  },
  {
   "cell_type": "code",
   "execution_count": 198,
   "id": "de9561bb-2f90-41a3-bff5-a43b26925e18",
   "metadata": {
    "tags": []
   },
   "outputs": [],
   "source": [
    "# We use the CrossEntropyLoss when we apply softmax activation to our linear layer,\n",
    "# or this can work directly with the output of the linear layer as well.\n",
    "criterion = nn.CrossEntropyLoss()"
   ]
  },
  {
   "cell_type": "code",
   "execution_count": 199,
   "id": "ad83048c-f1cd-4432-83ad-e2ee4aee2f9a",
   "metadata": {},
   "outputs": [],
   "source": [
    "# Instantiate an Adam optimizer with our model parameters and\n",
    "# the learning rate that we have chosen.\n",
    "optimizer = torch.optim.Adam(model.parameters(), lr=learning_rate)"
   ]
  },
  {
   "cell_type": "code",
   "execution_count": 200,
   "id": "75eb1598-7e6a-4cf4-91ad-44fe84c7b004",
   "metadata": {},
   "outputs": [],
   "source": [
    "# We'll train our convolutional neural network for a total of 10 epochs,\n",
    "# and we'll maintain the loss for each epoch in a list called loss_values.\n",
    "\n",
    "num_epochs = 10\n",
    "loss_values = list()"
   ]
  },
  {
   "cell_type": "code",
   "execution_count": 201,
   "id": "b7efbcaa-22db-43e9-b8b2-3d42b5d7788d",
   "metadata": {},
   "outputs": [],
   "source": [
    "def get_cuda_stats():\n",
    "    #Additional Info when using cuda\n",
    "    if device.type == 'cuda':\n",
    "        print(torch.cuda.get_device_name(0))\n",
    "        print('Memory Usage:')\n",
    "        print('Allocated:', round(torch.cuda.memory_allocated(0)/1024**3,1), 'GB')\n",
    "        print('Cached:   ', round(torch.cuda.memory_reserved(0)/1024**3,1), 'GB')"
   ]
  },
  {
   "cell_type": "code",
   "execution_count": 202,
   "id": "24d4289a-697c-433a-9917-0d9cc45a0844",
   "metadata": {},
   "outputs": [
    {
     "name": "stdout",
     "output_type": "stream",
     "text": [
      "Quadro RTX 5000 with Max-Q Design\n",
      "Memory Usage:\n",
      "Allocated: 0.2 GB\n",
      "Cached:    27.9 GB\n"
     ]
    }
   ],
   "source": [
    "get_cuda_stats()"
   ]
  },
  {
   "cell_type": "code",
   "execution_count": 203,
   "id": "822b5b1d-5f2f-449b-8949-3826ee54c40b",
   "metadata": {},
   "outputs": [
    {
     "name": "stdout",
     "output_type": "stream",
     "text": [
      "Epoch - 1, loss - 2.52409 \n",
      "Epoch - 2, loss - 3.46788 \n",
      "Epoch - 3, loss - 2.58975 \n",
      "Epoch - 4, loss - 1.70555 \n",
      "Epoch - 5, loss - 1.55359 \n",
      "Epoch - 6, loss - 1.13371 \n",
      "Epoch - 7, loss - 1.09458 \n",
      "Epoch - 8, loss - 1.02838 \n",
      "Epoch - 9, loss - 0.78641 \n"
     ]
    }
   ],
   "source": [
    "# We find that the code to train this convolutional neural network is the same\n",
    "# as the fully connected neural network that we saw before.\n",
    "# We run a for loop for each epoch, calculate the output of the current model,\n",
    "# calculate the loss of the actual labels versus the\n",
    "# predicted labels from our model,\n",
    "# zero out the gradients for our model by calling optimizer.zero_grad,\n",
    "# make a backward pass for the neural network,\n",
    "# and call optimizer.step to update the model parameters.\n",
    "# I'll then print out and append the value of loss for each epoch.\n",
    "for epoch in range (1, num_epochs):\n",
    "    \n",
    "    outputs = model(X_train_tensor)\n",
    "    loss = criterion(outputs, Y_train_tensor)\n",
    "    \n",
    "    optimizer.zero_grad()\n",
    "    loss.backward()\n",
    "    optimizer.step() # update model parameters\n",
    "    \n",
    "    print('Epoch - %d, loss - %0.5f '%(epoch, loss.item()))\n",
    "    loss_values.append(loss.item())\n",
    "    \n",
    "\n",
    "\n",
    "# Let's start the training process, and thanks to all of the print statements that we put in\n",
    "# the forward pass of the neural network,\n",
    "# you can see how the shape of the data changes as it passes through your various layers.\n",
    "# You can see that the output of the first layer which contains a\n",
    "# convolutional layer as well as a pooling layer is the 60000 images that we had in our training data \n",
    "# and 16, 12, 12. So how did we get this?\n",
    "# The first 16 here refers to the depth of the convolutional layer output.\n",
    "# This convolutional layer outputs 16 feature maps.\n",
    "# The default padding on the input is 0,\n",
    "# that means we haven't added any additional padding pixels,\n",
    "# and the stride of the convolutional kernel is equal to 1 in both the\n",
    "# horizontal as well as the vertical directions.\n",
    "# Given that our input images were 28 x 28 images,\n",
    "# the size of the output convolutional result will be 24 x 24 images\n",
    "# thanks to our convolutional kernel size of 5.\n",
    "# When the output of the convolutional layer,\n",
    "# which are feature maps, 16 feature maps,\n",
    "# each of size 24 x 24, are passed into the MaxPool layer,\n",
    "# the output of the MaxPool layer will be 12 pixels by 12 pixels.\n",
    "# This is because the kernel size of our MaxPool layer is 2 and the stride is 2 by default, \n",
    "# both horizonatally and vertically. This will halve the size of the input fed into this MaxPool layer.\n",
    "\n",
    "\n",
    "# So 12 x 12 inputs will be fed into layer 2,\n",
    "# and the output of layer 2 will be 4 x 4.\n",
    "# The depth of the feature maps will change because the convolutional\n",
    "# layer in layer 2 will output 32 feature maps.\n",
    "# You can apply the same math that we did before to see how the 12 x 12\n",
    "# inputs were reduced to 4 x 4 outputs of this layer.\n",
    "\n",
    "\n",
    "# Now that we know the output of this layer 2,\n",
    "# you can now see how we calculated the size of the linear layer,\n",
    "# 32 multiplied by 4 multiplied by 4 gives us 512.\n",
    "# This fully connected linear layer has an output size of 10 corresponding\n",
    "# to the 10 digits that images can be classified into.\n",
    "# And this is an easy, practical way for you to calculate the shape of your output as it passes\n",
    "# through the layers that you've set up in your neural network."
   ]
  },
  {
   "cell_type": "code",
   "execution_count": 204,
   "id": "8fb7c03b-190b-4d8c-b32f-dbdb9e44e090",
   "metadata": {},
   "outputs": [
    {
     "name": "stdout",
     "output_type": "stream",
     "text": [
      "Quadro RTX 5000 with Max-Q Design\n",
      "Memory Usage:\n",
      "Allocated: 0.2 GB\n",
      "Cached:    27.9 GB\n"
     ]
    }
   ],
   "source": [
    "get_cuda_stats()"
   ]
  },
  {
   "cell_type": "code",
   "execution_count": 205,
   "id": "b021b913-fe2e-4317-bf00-6bf7c624bb5e",
   "metadata": {},
   "outputs": [
    {
     "data": {
      "text/plain": [
       "Text(0, 0.5, 'Loss')"
      ]
     },
     "execution_count": 205,
     "metadata": {},
     "output_type": "execute_result"
    },
    {
     "data": {
      "image/png": "[encoded data removed]",
      "text/plain": [
       "<Figure size 800x800 with 1 Axes>"
      ]
     },
     "metadata": {},
     "output_type": "display_data"
    }
   ],
   "source": [
    "# As we train our neural network,\n",
    "# we store the loss values for each epoch in a list.\n",
    "#  Let's plot these loss values to see how the loss\n",
    "# moved through the training process.\n",
    "x = range(0, 9)\n",
    "\n",
    "# We use matplotlib for this,\n",
    "# and you can see that as we trained our model\n",
    "# further the loss value fell sharply.\n",
    "plt.figure(figsize = (8, 8))\n",
    "plt.plot(x, loss_values)\n",
    "plt.xlabel('Epoch')\n",
    "plt.ylabel('Loss')"
   ]
  },
  {
   "cell_type": "code",
   "execution_count": 206,
   "id": "2510f2a5-b533-4a58-ba6b-8aada462d36a",
   "metadata": {},
   "outputs": [
    {
     "data": {
      "text/plain": [
       "ConvNet(\n",
       "  (layer1): Sequential(\n",
       "    (0): Conv2d(1, 16, kernel_size=(5, 5), stride=(1, 1))\n",
       "    (1): BatchNorm2d(16, eps=1e-05, momentum=0.1, affine=True, track_running_stats=True)\n",
       "    (2): ReLU()\n",
       "    (3): MaxPool2d(kernel_size=2, stride=2, padding=0, dilation=1, ceil_mode=False)\n",
       "  )\n",
       "  (layer2): Sequential(\n",
       "    (0): Conv2d(16, 32, kernel_size=(5, 5), stride=(1, 1))\n",
       "    (1): BatchNorm2d(32, eps=1e-05, momentum=0.1, affine=True, track_running_stats=True)\n",
       "    (2): ReLU()\n",
       "    (3): MaxPool2d(kernel_size=2, stride=2, padding=0, dilation=1, ceil_mode=False)\n",
       "  )\n",
       "  (fc): Linear(in_features=512, out_features=10, bias=True)\n",
       ")"
      ]
     },
     "execution_count": 206,
     "metadata": {},
     "output_type": "execute_result"
    }
   ],
   "source": [
    "# We are now ready to see how this model performs on the test data.\n",
    "# Switch over to the eval mode.\n",
    "# Because we have batch normalization after our convolutional layers,\n",
    "# this eval mode is important for this particular model.\n",
    "# Batch normalization will be turned off during prediction.\n",
    "\n",
    "model.eval()"
   ]
  },
  {
   "cell_type": "code",
   "execution_count": 207,
   "id": "dcb0150c-e897-4e28-8fd0-9f04f05764f5",
   "metadata": {},
   "outputs": [],
   "source": [
    "# Once again, we'll evaluate our model by calculating the accuracy,\n",
    "# precision, and recall scores.\n",
    "from sklearn.metrics import accuracy_score, precision_score, recall_score"
   ]
  },
  {
   "cell_type": "code",
   "execution_count": 208,
   "id": "be56c732-1f63-4c14-8f8e-1c61875247c8",
   "metadata": {},
   "outputs": [
    {
     "name": "stdout",
     "output_type": "stream",
     "text": [
      "<class 'torch.Tensor'> torch.Size([10000, 10])\n",
      "Accuracy:  0.6789\n",
      "Precision:  0.8219186365403566\n",
      "Recall:  0.6789\n"
     ]
    }
   ],
   "source": [
    "# Now the code to feed in the test data to our model for\n",
    "# evaluation is exactly the same as we saw earlier when we built up our fully connected neural network.\n",
    "\n",
    "# When we use a model for prediction, we turn off gradient calculations,\n",
    "# we enclose all of our code within a torch.no_grad block.\n",
    "with torch.no_grad():\n",
    "    # We'll initialize two variables that'll keep track of the total number of\n",
    "    # correct predictions and the total number of predictions.\n",
    "    correct = 0\n",
    "    total = 0\n",
    "    \n",
    "    # We then feed all of the 10000 images in our test tensor to our model,\n",
    "    # and store the output of the model in the outputs variable.\n",
    "    outputs = model(x_test_tensor)\n",
    "    print(type(outputs), outputs.shape)\n",
    "    \n",
    "    # In order to get the predictions of our model,\n",
    "    # we need to find the maximum probability score from our output.\n",
    "    # https://pytorch.org/docs/stable/generated/torch.max.html?highlight=torch+max#torch.max\n",
    "    # second element of the tuple will be indices of max values over the dimension 1, in this case, they\n",
    "    # will correspond to labels, since our labels are also from 0 to 9.\n",
    "    # That will give us the predicted label for each input image in the test data.\n",
    "    _, predicted = torch.max(outputs.data, dim=1)\n",
    "    \n",
    "    \n",
    "    # Our test tensor and the model parameters are all on the GPU.\n",
    "    # I now get the actual labels from our y_test_tensor in the numpy format,\n",
    "    # and I get the predicted labels from our model onto the\n",
    "    # CPU before I calculate the accuracy, precision, and recall scores.\n",
    "    y_test = y_test_tensor.cpu().numpy()\n",
    "    predicted = predicted.cpu()\n",
    "    \n",
    "    \n",
    "    # Accuracy, precision, and recall are calculated using the actual labels from the test\n",
    "    # data versus the predicted labels from our model.\n",
    "    # This classification model performs multi-class classification,\n",
    "    # that is the input image can belong to one of ten categories.\n",
    "    # To calculate precision and recall scores for multi-class calculation,\n",
    "    # you need an averaging method,\n",
    "    # and the weighted method basically averages these scores based on the number\n",
    "    # of samples of the different categories in your test data.\n",
    "    print(\"Accuracy: \", accuracy_score(predicted, y_test))\n",
    "    print(\"Precision: \", precision_score(predicted, y_test, average='weighted'))\n",
    "    print(\"Recall: \", recall_score(predicted, y_test, average='weighted'))"
   ]
  },
  {
   "cell_type": "code",
   "execution_count": 109,
   "id": "34d82f4c-ff0f-41c3-bad2-1a1fa6ffd9e9",
   "metadata": {},
   "outputs": [],
   "source": [
    "# And here is the Accuracy, Precision,\n",
    "# and Recall of our convolutional neural network.\n",
    "# You might feel that these values are lower,\n",
    "# but we haven't trained the model for very long.\n",
    "# You can increase the number of epochs and you'll find\n",
    "# that the model performs better.\n",
    "\n",
    "# And we can also perform hyperparameter tuning, which we'll do in the next demo."
   ]
  },
  {
   "cell_type": "markdown",
   "id": "edde3fd8-c347-48ac-b6ab-6c590249b226",
   "metadata": {},
   "source": [
    "# Demo: Hyperparameter Tuning"
   ]
  },
  {
   "cell_type": "code",
   "execution_count": 75,
   "id": "4750704e-3410-4a30-a809-5d7b25a08dbd",
   "metadata": {},
   "outputs": [],
   "source": [
    "# In the real world,\n",
    "# you have to experiment with the different design parameters for your\n",
    "# neural network to see what works well in your data.\n",
    "# This process is called hyperparameter tuning,\n",
    "# and often deep learning frameworks running on cloud platforms\n",
    "# offer you an automated way of doing this.\n",
    "# Here we'll change these parameters manually,\n",
    "# rerun and retrain our model to see how it performs.\n",
    "\n",
    "\n",
    "in_size = 1\n",
    "\n",
    "# I'll first change the number of feature maps that our first\n",
    "# convolutional layer outputs from 16 down to 8.\n",
    "hid1_size = 8\n",
    "hid2_size = 32\n",
    "\n",
    "out_size = 10\n",
    "\n",
    "k_conv_size = 5"
   ]
  },
  {
   "cell_type": "code",
   "execution_count": 76,
   "id": "8c766e25-aade-4f3b-8514-5905c3380727",
   "metadata": {},
   "outputs": [],
   "source": [
    "# We'll work with the same design of the convolutional neural network. So, no change on ConvNet class.\n",
    "# Remember that I had printed out the shapes of the output layer after each layer.\n",
    "# I'm going to comment all of this out so that our output is clean.\n",
    "# All you need to do to execute and train this new model.\n",
    "# For hid1_size = 8, You can see that for the same number of epochs of training,\n",
    "# all of these metrics have fallen.\n",
    "# This is a worse model.\n",
    "# Clearly the additional feature maps that we had were\n",
    "# detecting important features in the input.\n",
    "# I'll now scroll back up on this notebook and reset the hid1_size back to 16."
   ]
  },
  {
   "cell_type": "code",
   "execution_count": 177,
   "id": "a3e7aca3-965f-453c-a993-373df1e8d7c6",
   "metadata": {},
   "outputs": [],
   "source": [
    "# The next change that I'll make here is not in the design\n",
    "# of my convolutional neural network, but to the learning_rate of my model.\n",
    "# I'll increase the learning_rate so that it learns more at every epoch.\n",
    "\n",
    "learning_rate = 0.01\n",
    "\n",
    "\n",
    "# Let's scroll down to the very bottom, and you can see that the Accuracy,\n",
    "# Precision, and Recall of this model have increased thanks to the increased learning_rate.\n",
    "# When you design your neural network,\n",
    "# you don't know what design parameters work well\n",
    "# until you try it out on your data, and this is exactly what we're doing here.\n",
    "# This is our hyperparameter tuning."
   ]
  },
  {
   "cell_type": "code",
   "execution_count": 130,
   "id": "a482e595-11f6-4286-ab1a-bd69b320f9b1",
   "metadata": {},
   "outputs": [],
   "source": [
    "# Let's try one more thing here.\n",
    "# I'm going to switch the learning_rate back to 0.001,\n",
    "# and instead of CrossEntropyLoss I'm going to switch\n",
    "# this model over to use NLLLoss.\n",
    "learning_rate = 0.001\n",
    "\n",
    "criterion = nn.NLLLoss()"
   ]
  },
  {
   "cell_type": "code",
   "execution_count": 129,
   "id": "2b33a259-5d15-4a6c-98c3-88122a2701b9",
   "metadata": {},
   "outputs": [],
   "source": [
    "# Now I'll need to make another change to the design of my model.\n",
    "# Instead of the output linear layer,\n",
    "# I need to apply a log_softmax function to the output.\n",
    "# Remember, when you're using NLLLoss you have to have a log_softmax output.\n",
    "\n",
    "\n",
    "class ConvNet(nn.Module):\n",
    "    def __init__(self):\n",
    "        super(ConvNet, self).__init__()\n",
    "        \n",
    "        self.layer1 = nn.Sequential(\n",
    "                                   nn.Conv2d(in_size, hid1_size, k_conv_size),\n",
    "                                   # OUTPUT HERE: (28-5 + 0) / 1 + 1 = 24. 24x24\n",
    "                                   nn.BatchNorm2d(hid1_size), # 24x24\n",
    "                                   nn.ReLU(), #  24x24\n",
    "                                   nn.MaxPool2d(kernel_size=2)) # 2x2 pooling filter\n",
    "                                   # OUTPUT after pooling: (24 - 2 + 0) / 2 + 1 = 12. So 12x12.\n",
    "        \n",
    "        self.layer2 = nn.Sequential(nn.Conv2d(hid1_size, hid2_size, k_conv_size),\n",
    "                                    # OUTPUT HERE: (12 - 5 + 0) / 1 + 1 = 8. So 8x8\n",
    "                                   nn.BatchNorm2d(hid2_size), # 8x8\n",
    "                                   nn.ReLU(), # 8x8\n",
    "                                   nn.MaxPool2d(kernel_size=2)) \n",
    "                                    # OUTPUT after pooling: (8 - 2 + 0) / 2 + 1 = 4. So 4 x 4. \n",
    "        \n",
    "        self.fc = nn.Linear(512, out_size)\n",
    "        \n",
    "        \n",
    "    # Let's set up the forward function for this neural network,\n",
    "    # which takes in the input images and applies the convolutional,\n",
    "    # pooling, and linear layers to the input.\n",
    "    def forward(self, x):\n",
    "        out = self.layer1(x)\n",
    "        # print(out.shape)\n",
    "            \n",
    "        out = self.layer2(out)\n",
    "        # print(out.shape)\n",
    "            \n",
    "        out = out.reshape(out.size(0), -1) # keep the batch dimension, flatten other dimensions into one dim\n",
    "        # print(out.shape)\n",
    "            \n",
    "            \n",
    "        out = self.fc(out)\n",
    "        # print(out.shape)\n",
    "            \n",
    "            \n",
    "        return F.log_softmax(out, dim=-1) # -1 means last dimension."
   ]
  },
  {
   "cell_type": "code",
   "execution_count": 110,
   "id": "d98aac8b-69ac-43d0-bf86-7ad04bca8da2",
   "metadata": {},
   "outputs": [],
   "source": [
    "# Go ahead and choose the Run option and run all of the\n",
    "# cells and see how this model performs.\n",
    "# We'll run training for the same 10 epochs,\n",
    "# scroll down to the very bottom, and you can see that the Accuracy,\n",
    "# Precision, and Recall of this model has fallen a bit."
   ]
  },
  {
   "cell_type": "code",
   "execution_count": 167,
   "id": "fa3f9668-f26c-4a44-9646-387dbdd8f85d",
   "metadata": {},
   "outputs": [],
   "source": [
    "# There are other things that we can change.\n",
    "# Before that, let's get back to the original state.\n",
    "# I'll choose CrossEntropyLoss, and this time,\n",
    "# instead of the Adam optimizer I'll choose another optimizer,\n",
    "# the SGD, or the Stochastic gradient descent optimizer with momentum.\n",
    "\n",
    "optimizer = torch.optim.SGD(model.parameters(), lr=learning_rate, momentum=0.9)\n",
    "\n",
    "\n",
    "# Now since we switched back to using the CrossEntropyLoss,\n",
    "# the output layer can no longer be a log_softmax layer,\n",
    "# so I'm going to go ahead and get rid of this and return\n",
    "# the output of the linear layer directly."
   ]
  },
  {
   "cell_type": "code",
   "execution_count": null,
   "id": "8c69e866-a919-4c6d-989b-e325f00758c6",
   "metadata": {},
   "outputs": [],
   "source": [
    "# If I go down to the very bottom, once this model has been trained,\n",
    "# you can see that the Accuracy, Precision,\n",
    "# and Recall scores of this model have fallen terribly.\n",
    "\n",
    "# These are just a few examples of hyperparameters that you could do.\n",
    "# Let's go back to the Adam optimizer that worked well for us,\n",
    "# let's go back to a learning_rate of 0.01,\n",
    "# and let's go ahead and run all of the cells once again so that we\n",
    "# continue working with the best model that we've seen so far.\n",
    "# There will always be slight variations in your model each time you run training,\n",
    "# and you can see that the Accuracy, Precision,\n",
    "# and Recall of this model is 88% or above."
   ]
  }
 ],
 "metadata": {
  "kernelspec": {
   "display_name": "Python [conda env:pytorch_env] *",
   "language": "python",
   "name": "conda-env-pytorch_env-py"
  },
  "language_info": {
   "codemirror_mode": {
    "name": "ipython",
    "version": 3
   },
   "file_extension": ".py",
   "mimetype": "text/x-python",
   "name": "python",
   "nbconvert_exporter": "python",
   "pygments_lexer": "ipython3",
   "version": "3.7.1"
  }
 },
 "nbformat": 4,
 "nbformat_minor": 5
}
