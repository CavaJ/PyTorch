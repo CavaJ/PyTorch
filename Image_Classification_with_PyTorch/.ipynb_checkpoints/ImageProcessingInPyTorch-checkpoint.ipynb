{
 "cells": [
  {
   "cell_type": "markdown",
   "id": "5bb02608-9e2b-490a-8dc4-3ebdb7ade766",
   "metadata": {},
   "source": [
    "# Demo: Standardizing Images in PyTorch"
   ]
  },
  {
   "cell_type": "code",
   "execution_count": 46,
   "id": "6a205118-2790-4879-9124-b3eaa0257433",
   "metadata": {},
   "outputs": [],
   "source": [
    "# In this demo,\n",
    "# we'll see how we can perform image pre-processing\n",
    "# operations using the PyTorch framework."
   ]
  },
  {
   "cell_type": "code",
   "execution_count": 47,
   "id": "f0272981-9395-46e2-9776-239001a2fc33",
   "metadata": {},
   "outputs": [],
   "source": [
    "import pickle\n",
    "import numpy as np\n",
    "import matplotlib.pyplot as plt"
   ]
  },
  {
   "cell_type": "code",
   "execution_count": 48,
   "id": "555e5723-9754-487a-8101-f40321fb9f33",
   "metadata": {},
   "outputs": [],
   "source": [
    "# If you're going to be feeding in images to your ML model,\n",
    "# you won't work with a single image.\n",
    "# Unless it's for prediction, you'll be working with a dataset of images,\n",
    "# and the dataset that I'm going to download here is the CIFAR-10 [saifar] dataset.\n",
    "# This dataset is freely available at the cs.toronto.edu URL that you see here on screen.\n",
    "# It consists of images. All of the images are 32 pixels by 32 pixels.\n",
    "# They have labels, and they're images of a dog, cat, bird, ship, airplane, and so on (10 different classes).\n",
    "# This is a great dataset to use to build and train your classifier.\n",
    "\n",
    "# !wget https://www.cs.toronto.edu/~kriz/cifar-10-python.tar.gz -P datasets\n",
    "\n",
    "# This is a tar and gzip file.\n",
    "# I'm going to run the tar command to untar and unzip this file\n",
    "# so that it's available on this VM here.\n",
    "#!tar xf datasets/cifar-10-python.tar.gz -C datasets"
   ]
  },
  {
   "cell_type": "code",
   "execution_count": 49,
   "id": "9b483d2a-0cd2-46c2-9cce-0f25ff1590da",
   "metadata": {},
   "outputs": [],
   "source": [
    "# I've unzipped the contents of this file to the datasets\n",
    "# folder that we had set up earlier.\n",
    "# a new subfolder has been created\n",
    "# there  called cifar-10-batches-py,\n",
    "# and you can click through and you'll find the cifar-10\n",
    "# images which have been split up into batches."
   ]
  },
  {
   "cell_type": "code",
   "execution_count": 50,
   "id": "bd2fe036-3763-4ad9-9d6f-74d5f4877a6f",
   "metadata": {},
   "outputs": [],
   "source": [
    "# Here is the Python code to read in the cifar-10 images from a single batch.\n",
    "# This is a pickle file,\n",
    "# so I'll use the pickle utility in Python to load in the contents of this file. rb means read + binary.\n",
    "with open('datasets/cifar-10-batches-py/data_batch_1', 'rb') as input_file:\n",
    "    # Pickle.load deserializes this file and saves the contents in the X variable.\n",
    "    X = pickle.load(input_file, encoding='latin1')"
   ]
  },
  {
   "cell_type": "code",
   "execution_count": 51,
   "id": "7ba7ed95-35e0-4924-ac5a-ab7035f4b287",
   "metadata": {},
   "outputs": [],
   "source": [
    "# Now the X variable has this key called data,\n",
    "# which contains the actual images,\n",
    "# so I'm going to extract the images from the X variable.\n",
    "# The X variable now holds the tensor containing our images.\n",
    "\n",
    "X = X['data']"
   ]
  },
  {
   "cell_type": "code",
   "execution_count": 52,
   "id": "aade8b3c-f50b-44b1-95eb-3362bb83f019",
   "metadata": {},
   "outputs": [
    {
     "data": {
      "text/plain": [
       "(10000, 3072)"
      ]
     },
     "execution_count": 52,
     "metadata": {},
     "output_type": "execute_result"
    }
   ],
   "source": [
    "# Let's take a look at the shape of the image data that we've got.\n",
    "# You can see that we have 10000 images.\n",
    "# That is the first dimension.\n",
    "# The second dimension is a 1D vector representation of the image, height multiplied by width multiplied by number of channels,\n",
    "# That gives us 3072. 32 x 32 x 3 for color images.\n",
    "X.shape # batch_size, height * width * num_channels"
   ]
  },
  {
   "cell_type": "code",
   "execution_count": 53,
   "id": "b9cbe70a-3eaa-4423-8876-8530573375fa",
   "metadata": {},
   "outputs": [
    {
     "data": {
      "text/plain": [
       "(10000, 3, 32, 32)"
      ]
     },
     "execution_count": 53,
     "metadata": {},
     "output_type": "execute_result"
    }
   ],
   "source": [
    "# Let's reshape these images to represent them in a different format.\n",
    "# Here we'll have the number of images in a batch first,\n",
    "# that is -1, the number of channels in an image,\n",
    "# and then height and width.\n",
    "\n",
    "X = X.reshape((-1, 3, 32, 32))\n",
    "\n",
    "# You have 10000 images, they are all 3-channel or color images,\n",
    "# and each image is 32 pixels by 32 pixels.\n",
    "X.shape\n",
    "\n",
    "# Remember that different machine learning frameworks might\n",
    "# expect images to be in different formats,\n",
    "# so you should know how you can use the reshape command to\n",
    "# get the images in the form that you want."
   ]
  },
  {
   "cell_type": "code",
   "execution_count": 54,
   "id": "a7fe0a3e-e3f0-41ad-8fe0-01a7300974fa",
   "metadata": {},
   "outputs": [
    {
     "data": {
      "text/plain": [
       "(10000, 32, 32, 3)"
      ]
     },
     "execution_count": 54,
     "metadata": {},
     "output_type": "execute_result"
    }
   ],
   "source": [
    "# If you want to change the representation of your image tensors,\n",
    "# you want to move the dimensions around, you can use the transpose operation.\n",
    "# Here we originally had batch_size, channels,\n",
    "# height and width, and we've transposed it to be batch_size,\n",
    "# height, width, and channels.\n",
    "# Batch_size was at index 0. It continues to remain at that index.\n",
    "# At index 1 we had number of channels in the image,\n",
    "# and we moved that to the very end.\n",
    "\n",
    "# from (batch_size, channels, height, width) into (batch_size, height, width, channels)\n",
    "X = X.transpose(0, 2, 3, 1)\n",
    "\n",
    "# The X tensor now contains number of images height, width, and then number of channels.\n",
    "X.shape"
   ]
  },
  {
   "cell_type": "code",
   "execution_count": 55,
   "id": "762e57c3-8650-47bf-ab1e-e2af4812c7de",
   "metadata": {},
   "outputs": [
    {
     "data": {
      "text/plain": [
       "(10000, 3072)"
      ]
     },
     "execution_count": 55,
     "metadata": {},
     "output_type": "execute_result"
    }
   ],
   "source": [
    "# And here is how you can use the reshape operation on a\n",
    "# tensor to go back to the original format where every image\n",
    "# is in the form of a 1D vector.\n",
    "\n",
    "X = X.reshape(-1, 3 * 32 * 32)\n",
    "\n",
    "X.shape"
   ]
  },
  {
   "cell_type": "code",
   "execution_count": 56,
   "id": "6cc01548-410b-45ea-8b7f-0a35384126e3",
   "metadata": {},
   "outputs": [
    {
     "name": "stdout",
     "output_type": "stream",
     "text": [
      "[164 206  84 ... 122 170  44]\n"
     ]
    }
   ],
   "source": [
    "# Let's check the array for the image at index 6\n",
    "print(X[6])"
   ]
  },
  {
   "cell_type": "code",
   "execution_count": 57,
   "id": "84dc4ca8-213b-493d-9518-19404b50fa1a",
   "metadata": {},
   "outputs": [
    {
     "data": {
      "image/png": "[encoded data removed]",
      "text/plain": [
       "<Figure size 640x480 with 1 Axes>"
      ]
     },
     "metadata": {},
     "output_type": "display_data"
    }
   ],
   "source": [
    "# Let's take a look at one of these images.\n",
    "# I'm going to reshape the image at index position 6 so that it's height, width, number of channels, and display it using matplotlib.\n",
    "\n",
    "plt.imshow(X[6].reshape(32, 32, 3))\n",
    "plt.show()\n",
    "\n",
    "# Here is an image of a bird."
   ]
  },
  {
   "cell_type": "code",
   "execution_count": 58,
   "id": "47702cc1-bf74-4f66-849f-8cc971dcf527",
   "metadata": {},
   "outputs": [
    {
     "data": {
      "text/plain": [
       "numpy.ndarray"
      ]
     },
     "execution_count": 58,
     "metadata": {},
     "output_type": "execute_result"
    }
   ],
   "source": [
    "type(X)"
   ]
  },
  {
   "cell_type": "code",
   "execution_count": 59,
   "id": "888e354e-048c-49cc-8640-020b7000e1a4",
   "metadata": {},
   "outputs": [],
   "source": [
    "# When you're working with neural networks,\n",
    "# it's often useful to center your data, and this is true of images as well.\n",
    "# You can subtract the mean value of all of the pixels \n",
    "X = X - X.mean(axis=0) # do it for all images, axis=0 means batch_dimension.\n",
    "# and divide by the\n",
    "# standard deviation so that your resulting images are all centered\n",
    "# around 0 and expressed in terms z scores,\n",
    "# or standard deviations.\n",
    "X = X / np.std(X, axis=0) # do it for all images, axis=0 means batch_dimension. X is z-normalized now, every pixel is z-normalized separately.\n",
    "# This will help the performance of the ML models that you build using these images."
   ]
  },
  {
   "cell_type": "code",
   "execution_count": 60,
   "id": "66f80f01-3634-4106-95f4-5eca50b6ef2e",
   "metadata": {},
   "outputs": [
    {
     "name": "stderr",
     "output_type": "stream",
     "text": [
      "Clipping input data to the valid range for imshow with RGB data ([0..1] for floats or [0..255] for integers).\n"
     ]
    },
    {
     "data": {
      "image/png": "[encoded data removed]",
      "text/plain": [
       "<Figure size 640x480 with 1 Axes>"
      ]
     },
     "metadata": {},
     "output_type": "display_data"
    }
   ],
   "source": [
    "# Let's take a look at again on the image at index 6, after z_normalization.\n",
    "# since as z_normalization we can have negative values, warning will be generated.\n",
    "plt.imshow(X[6].reshape(32, 32, 3))\n",
    "plt.show()"
   ]
  },
  {
   "cell_type": "code",
   "execution_count": 61,
   "id": "b5d979a9-432a-4fd9-8288-602dd5cdf33d",
   "metadata": {},
   "outputs": [
    {
     "data": {
      "image/png": "[encoded data removed]",
      "text/plain": [
       "<Figure size 640x480 with 1 Axes>"
      ]
     },
     "metadata": {},
     "output_type": "display_data"
    }
   ],
   "source": [
    "# I'm going to set up a little helper function called\n",
    "# show here which takes in one image, reshapes it to be 32 x 32 x 3.\n",
    "# I then find the minimum and maximum value of the pixel intensities,\n",
    "# and scale all pixels to be within 0 and 1 using these min and max values.\n",
    "def show(i):\n",
    "    i = i.reshape((32, 32, 3))\n",
    "    \n",
    "    m, M = i.min(), i.max() # get min and mix for every pixel\n",
    "    plt.imshow((i-m) / (M-m)) # standard min-max normalization which makes the values to be in the range of 0 and 1.\n",
    "    plt.show()\n",
    "\n",
    "    \n",
    "# I'll now use this show function to display the image at index position 6.\n",
    "# This is the same bird that we saw earlier,\n",
    "# but remember, this image has been standardized.\n",
    "show(X[6])"
   ]
  },
  {
   "cell_type": "markdown",
   "id": "84667692-6d8f-4812-b2a8-e8cc488eb3f6",
   "metadata": {},
   "source": [
    "# Demo: ZCA Whitening to Decorrelate Features"
   ]
  },
  {
   "cell_type": "code",
   "execution_count": 66,
   "id": "31e6b4cd-547a-48b1-bca3-e16461d0786d",
   "metadata": {},
   "outputs": [
    {
     "data": {
      "text/plain": [
       "(1000, 3072)"
      ]
     },
     "execution_count": 66,
     "metadata": {},
     "output_type": "execute_result"
    }
   ],
   "source": [
    "# We've seen how to standardize batches of images, \n",
    "# the next operation I'm going to perform is called whitening, \n",
    "# which can be used to decorrelate features in our input images.\n",
    "# Whitening is a computationally intense operation, \n",
    "# so I'm going to work with just a subset of images.\n",
    "# I'll select the first thousand images, and we'll work with that. \n",
    "X_subset = X[:1000] # take the first 1000 images\n",
    "\n",
    "X_subset.shape"
   ]
  },
  {
   "cell_type": "code",
   "execution_count": 67,
   "id": "dcb4e400-ba07-45fc-b476-ee43aa6fce3f",
   "metadata": {},
   "outputs": [],
   "source": [
    "# The technique that we're about to perform is called ZCA whitening. \n",
    "# Whitening is the transformation of data in such a way that a \n",
    "# covariance matrix is the identity matrix, \n",
    "# and the effect of this mathematical transformation is to \n",
    "# decorrelate the features that exist in your images."
   ]
  },
  {
   "cell_type": "code",
   "execution_count": null,
   "id": "235bc538-92e8-4626-862a-fda26c55e986",
   "metadata": {},
   "outputs": [],
   "source": []
  }
 ],
 "metadata": {
  "kernelspec": {
   "display_name": "Python [conda env:pytorch_env] *",
   "language": "python",
   "name": "conda-env-pytorch_env-py"
  },
  "language_info": {
   "codemirror_mode": {
    "name": "ipython",
    "version": 3
   },
   "file_extension": ".py",
   "mimetype": "text/x-python",
   "name": "python",
   "nbconvert_exporter": "python",
   "pygments_lexer": "ipython3",
   "version": "3.7.1"
  }
 },
 "nbformat": 4,
 "nbformat_minor": 5
}
