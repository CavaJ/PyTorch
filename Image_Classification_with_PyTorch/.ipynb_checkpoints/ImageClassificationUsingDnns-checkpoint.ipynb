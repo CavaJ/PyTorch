{
 "cells": [
  {
   "cell_type": "code",
   "execution_count": 45,
   "id": "081a8f88-0db1-423c-bc5b-936d94b94dd0",
   "metadata": {},
   "outputs": [],
   "source": [
    "import pandas as pd\n",
    "import numpy as np\n",
    "import matplotlib.pyplot as plt"
   ]
  },
  {
   "cell_type": "code",
   "execution_count": 46,
   "id": "c8b154bd-875f-46e8-8e69-5da8a5478d88",
   "metadata": {},
   "outputs": [],
   "source": [
    "mnist_train = pd.read_csv('datasets/mnist-in-csv/mnist_train.csv')\n",
    "mnist_test = pd.read_csv('datasets/mnist-in-csv/mnist_test.csv')"
   ]
  },
  {
   "cell_type": "code",
   "execution_count": 47,
   "id": "43647fdb-4ad6-4f2a-8bee-3e9cb04ec89a",
   "metadata": {},
   "outputs": [
    {
     "data": {
      "text/plain": [
       "((60000, 785), (10000, 785))"
      ]
     },
     "execution_count": 47,
     "metadata": {},
     "output_type": "execute_result"
    }
   ],
   "source": [
    "# There are 60, 000 images in the training data,\n",
    "# and 10, 000 images in the test data.\n",
    "# Observe that the second dimension is 785.\n",
    "mnist_train.shape, mnist_test.shape"
   ]
  },
  {
   "cell_type": "code",
   "execution_count": 48,
   "id": "d6e1176c-d3e2-45df-ab24-f366c24ff222",
   "metadata": {},
   "outputs": [
    {
     "data": {
      "text/html": [
       "<div>\n",
       "<style scoped>\n",
       "    .dataframe tbody tr th:only-of-type {\n",
       "        vertical-align: middle;\n",
       "    }\n",
       "\n",
       "    .dataframe tbody tr th {\n",
       "        vertical-align: top;\n",
       "    }\n",
       "\n",
       "    .dataframe thead th {\n",
       "        text-align: right;\n",
       "    }\n",
       "</style>\n",
       "<table border=\"1\" class=\"dataframe\">\n",
       "  <thead>\n",
       "    <tr style=\"text-align: right;\">\n",
       "      <th></th>\n",
       "      <th>label</th>\n",
       "      <th>1x1</th>\n",
       "      <th>1x2</th>\n",
       "      <th>1x3</th>\n",
       "      <th>1x4</th>\n",
       "      <th>1x5</th>\n",
       "      <th>1x6</th>\n",
       "      <th>1x7</th>\n",
       "      <th>1x8</th>\n",
       "      <th>1x9</th>\n",
       "      <th>...</th>\n",
       "      <th>28x19</th>\n",
       "      <th>28x20</th>\n",
       "      <th>28x21</th>\n",
       "      <th>28x22</th>\n",
       "      <th>28x23</th>\n",
       "      <th>28x24</th>\n",
       "      <th>28x25</th>\n",
       "      <th>28x26</th>\n",
       "      <th>28x27</th>\n",
       "      <th>28x28</th>\n",
       "    </tr>\n",
       "  </thead>\n",
       "  <tbody>\n",
       "    <tr>\n",
       "      <th>0</th>\n",
       "      <td>5</td>\n",
       "      <td>0</td>\n",
       "      <td>0</td>\n",
       "      <td>0</td>\n",
       "      <td>0</td>\n",
       "      <td>0</td>\n",
       "      <td>0</td>\n",
       "      <td>0</td>\n",
       "      <td>0</td>\n",
       "      <td>0</td>\n",
       "      <td>...</td>\n",
       "      <td>0</td>\n",
       "      <td>0</td>\n",
       "      <td>0</td>\n",
       "      <td>0</td>\n",
       "      <td>0</td>\n",
       "      <td>0</td>\n",
       "      <td>0</td>\n",
       "      <td>0</td>\n",
       "      <td>0</td>\n",
       "      <td>0</td>\n",
       "    </tr>\n",
       "    <tr>\n",
       "      <th>1</th>\n",
       "      <td>0</td>\n",
       "      <td>0</td>\n",
       "      <td>0</td>\n",
       "      <td>0</td>\n",
       "      <td>0</td>\n",
       "      <td>0</td>\n",
       "      <td>0</td>\n",
       "      <td>0</td>\n",
       "      <td>0</td>\n",
       "      <td>0</td>\n",
       "      <td>...</td>\n",
       "      <td>0</td>\n",
       "      <td>0</td>\n",
       "      <td>0</td>\n",
       "      <td>0</td>\n",
       "      <td>0</td>\n",
       "      <td>0</td>\n",
       "      <td>0</td>\n",
       "      <td>0</td>\n",
       "      <td>0</td>\n",
       "      <td>0</td>\n",
       "    </tr>\n",
       "    <tr>\n",
       "      <th>2</th>\n",
       "      <td>4</td>\n",
       "      <td>0</td>\n",
       "      <td>0</td>\n",
       "      <td>0</td>\n",
       "      <td>0</td>\n",
       "      <td>0</td>\n",
       "      <td>0</td>\n",
       "      <td>0</td>\n",
       "      <td>0</td>\n",
       "      <td>0</td>\n",
       "      <td>...</td>\n",
       "      <td>0</td>\n",
       "      <td>0</td>\n",
       "      <td>0</td>\n",
       "      <td>0</td>\n",
       "      <td>0</td>\n",
       "      <td>0</td>\n",
       "      <td>0</td>\n",
       "      <td>0</td>\n",
       "      <td>0</td>\n",
       "      <td>0</td>\n",
       "    </tr>\n",
       "    <tr>\n",
       "      <th>3</th>\n",
       "      <td>1</td>\n",
       "      <td>0</td>\n",
       "      <td>0</td>\n",
       "      <td>0</td>\n",
       "      <td>0</td>\n",
       "      <td>0</td>\n",
       "      <td>0</td>\n",
       "      <td>0</td>\n",
       "      <td>0</td>\n",
       "      <td>0</td>\n",
       "      <td>...</td>\n",
       "      <td>0</td>\n",
       "      <td>0</td>\n",
       "      <td>0</td>\n",
       "      <td>0</td>\n",
       "      <td>0</td>\n",
       "      <td>0</td>\n",
       "      <td>0</td>\n",
       "      <td>0</td>\n",
       "      <td>0</td>\n",
       "      <td>0</td>\n",
       "    </tr>\n",
       "    <tr>\n",
       "      <th>4</th>\n",
       "      <td>9</td>\n",
       "      <td>0</td>\n",
       "      <td>0</td>\n",
       "      <td>0</td>\n",
       "      <td>0</td>\n",
       "      <td>0</td>\n",
       "      <td>0</td>\n",
       "      <td>0</td>\n",
       "      <td>0</td>\n",
       "      <td>0</td>\n",
       "      <td>...</td>\n",
       "      <td>0</td>\n",
       "      <td>0</td>\n",
       "      <td>0</td>\n",
       "      <td>0</td>\n",
       "      <td>0</td>\n",
       "      <td>0</td>\n",
       "      <td>0</td>\n",
       "      <td>0</td>\n",
       "      <td>0</td>\n",
       "      <td>0</td>\n",
       "    </tr>\n",
       "  </tbody>\n",
       "</table>\n",
       "<p>5 rows × 785 columns</p>\n",
       "</div>"
      ],
      "text/plain": [
       "   label  1x1  1x2  1x3  1x4  1x5  1x6  1x7  1x8  1x9  ...  28x19  28x20  \\\n",
       "0      5    0    0    0    0    0    0    0    0    0  ...      0      0   \n",
       "1      0    0    0    0    0    0    0    0    0    0  ...      0      0   \n",
       "2      4    0    0    0    0    0    0    0    0    0  ...      0      0   \n",
       "3      1    0    0    0    0    0    0    0    0    0  ...      0      0   \n",
       "4      9    0    0    0    0    0    0    0    0    0  ...      0      0   \n",
       "\n",
       "   28x21  28x22  28x23  28x24  28x25  28x26  28x27  28x28  \n",
       "0      0      0      0      0      0      0      0      0  \n",
       "1      0      0      0      0      0      0      0      0  \n",
       "2      0      0      0      0      0      0      0      0  \n",
       "3      0      0      0      0      0      0      0      0  \n",
       "4      0      0      0      0      0      0      0      0  \n",
       "\n",
       "[5 rows x 785 columns]"
      ]
     },
     "execution_count": 48,
     "metadata": {},
     "output_type": "execute_result"
    }
   ],
   "source": [
    "# I'm going to invoke the head function on these data frames so that we can explore this image data.\n",
    "# Observe that the individual columns in this csv file correspond to intensity values of pixels,\n",
    "# and observe that the very first column here is the label column. This corresponds to the numeric digit represented by those pixels, \n",
    "# 0 through 9 (namely, classes)\n",
    "mnist_train.head()\n",
    "\n",
    "\n",
    "# Each of these images is a 28 x 28 image,\n",
    "# which means it has a total of 784 pixels,\n",
    "# And there is one additional column corresponding to the label associated\n",
    "# with an image that gives us 785 columns for each row."
   ]
  },
  {
   "cell_type": "code",
   "execution_count": 49,
   "id": "9832c587-6a31-4417-ac23-aa4c830304f7",
   "metadata": {},
   "outputs": [],
   "source": [
    "# Let's take a look at one of these images.\n",
    "# I'm going to extract the row at index 1 from the training data,\n",
    "# and I'm going to drop the column corresponding to the label.\n",
    "\n",
    "img = mnist_train[1:2] # take the image at the row with index 1\n",
    "\n",
    "# drop the label column\n",
    "img = img.drop('label', axis=1) # axis=1 drop the entire column, column-wise."
   ]
  },
  {
   "cell_type": "code",
   "execution_count": 50,
   "id": "349afdf6-2067-4c99-8578-a2dff7a66037",
   "metadata": {},
   "outputs": [
    {
     "data": {
      "text/plain": [
       "(1, 784)"
      ]
     },
     "execution_count": 50,
     "metadata": {},
     "output_type": "execute_result"
    }
   ],
   "source": [
    "# This row only has the pixel intensity values for one image here.\n",
    "# I'm going to extract it in the form of a numpy array by accessing the values attribute of our pandas row.\n",
    "\n",
    "img = img.values\n",
    "img.shape"
   ]
  },
  {
   "cell_type": "code",
   "execution_count": 51,
   "id": "498226fd-0350-4fdb-8926-9fd949f38e91",
   "metadata": {},
   "outputs": [
    {
     "data": {
      "text/plain": [
       "(1, 28, 28)"
      ]
     },
     "execution_count": 51,
     "metadata": {},
     "output_type": "execute_result"
    }
   ],
   "source": [
    "# If you look at the shape of this numpy array, you can see that it's 1 x 784.\n",
    "# Let's reshape this to be a single-channel image with the shape 1, 28, 28.\n",
    "img = img.reshape(1, 28, 28)\n",
    "\n",
    "# Here is a representation of the single image with the channel dimension\n",
    "# first; height and width are the remaining two dimension.\n",
    "img.shape"
   ]
  },
  {
   "cell_type": "code",
   "execution_count": 52,
   "id": "53543c53-f2b3-4996-b2f7-c0a72089df7f",
   "metadata": {},
   "outputs": [
    {
     "data": {
      "text/plain": [
       "(28, 28)"
      ]
     },
     "execution_count": 52,
     "metadata": {},
     "output_type": "execute_result"
    }
   ],
   "source": [
    "# The squeeze function in a numpy array allows you to quickly eliminate\n",
    "# those dimensions which have just single values.\n",
    "# So image.squeeze will remove the unwanted one-dimensional access, so that we have an image which is just 28 x 28,\n",
    "# and the first dimension has been squeezed.\n",
    "img = img.squeeze()\n",
    "\n",
    "img.shape"
   ]
  },
  {
   "cell_type": "code",
   "execution_count": 53,
   "id": "d4cb73fc-c9ea-4e39-a02c-651ecb830c55",
   "metadata": {},
   "outputs": [
    {
     "data": {
      "text/plain": [
       "<matplotlib.image.AxesImage at 0x1b983efe278>"
      ]
     },
     "execution_count": 53,
     "metadata": {},
     "output_type": "execute_result"
    },
    {
     "data": {
      "image/png": "[encoded data removed]",
      "text/plain": [
       "<Figure size 600x600 with 1 Axes>"
      ]
     },
     "metadata": {},
     "output_type": "display_data"
    }
   ],
   "source": [
    "# I'll now use matplotlib to display this handwritten digit,\n",
    "# and you can see that this is the digit 0.\n",
    "plt.figure(figsize=(6,6))\n",
    "plt.imshow(img)"
   ]
  },
  {
   "cell_type": "code",
   "execution_count": 54,
   "id": "d0778cd4-af3b-4d15-a6d4-4655dcbed8a3",
   "metadata": {},
   "outputs": [],
   "source": [
    "# Let's set this image data up and use it to feed into a deep neural network.\n",
    "# The dropna function in a pandas data frame will drop any records which has missing fields,\n",
    "# so we now have a clean data set in mnist_train and mnist_test.\n",
    "\n",
    "mnist_train = mnist_train.dropna()\n",
    "mnist_test = mnist_test.dropna()"
   ]
  },
  {
   "cell_type": "code",
   "execution_count": 55,
   "id": "0ec6b6af-99a0-4d1b-b7ea-fc4b621ad471",
   "metadata": {},
   "outputs": [],
   "source": [
    "# We'll now extract the features and labels into separate data frames to feed into our ML model.\n",
    "# We have mnist_train features and mnist_target. The target contains only the label.\n",
    "# The features do not contain the label.\n",
    "mnist_train_features = mnist_train.drop('label', axis=1)\n",
    "mnist_train_target = minst_train['label']\n",
    "\n",
    "# We'll do exactly the same thing for the test data as well.\n",
    "# We'll extract the features and labels into separate data frames.\n",
    "mnist_test_features = mnist_test.drop('label', axis=1)\n",
    "mnist_test_target = mnist_test['label']"
   ]
  },
  {
   "cell_type": "code",
   "execution_count": 56,
   "id": "2295affd-bf94-4aef-98ce-b9abe4dd96d6",
   "metadata": {},
   "outputs": [
    {
     "name": "stdout",
     "output_type": "stream",
     "text": [
      "train max-- 255\n",
      "train min-- 0\n",
      "test max-- 255\n",
      "test min-- 0\n"
     ]
    }
   ],
   "source": [
    "# Let's take a look at how this pixel intensity data is stored in this data frame.\n",
    "# Let's calculate the max and min pixel values for the\n",
    "# training as well as the test data,\n",
    "# and you can see that the max value is 255 and the min value is 0.\n",
    "# You can also see that these are integer values representing intensity.\n",
    "print(\"train max--\", mnist_train.values.max())\n",
    "print(\"train min--\", mnist_train.values.min())\n",
    "print(\"test max--\", mnist_test.values.max())\n",
    "print(\"test min--\", mnist_test.values.min())"
   ]
  },
  {
   "cell_type": "code",
   "execution_count": 57,
   "id": "a205ba3f-ec49-4573-a819-e44736b48473",
   "metadata": {},
   "outputs": [],
   "source": [
    "# It's been empirically shown that machine learning models such as neural network,\n",
    "# train and perform better when they're dealing with smaller numbers,\n",
    "# smaller floating-point numbers, as opposed to large values.\n",
    "# Let's convert all of our data to float32 and divide all of our data by 255\n",
    "# so pixel intensity values are expressed in the range 0-1 (since min value is 0, it becomes min-max normalization),\n",
    "# and we'll do the exact same thing for the test data as well.\n",
    "minst_train = mnist_train.astype('float32')\n",
    "mnist_train = mnist_train / 255\n",
    "\n",
    "mnist_test = mnist_test.astype('float32')\n",
    "mnist_test = mnist_test / 255"
   ]
  },
  {
   "cell_type": "code",
   "execution_count": 58,
   "id": "95272186-1b17-455c-b8be-6f8ff8d9639d",
   "metadata": {},
   "outputs": [
    {
     "name": "stdout",
     "output_type": "stream",
     "text": [
      "train max-- 1.0\n",
      "train min-- 0.0\n",
      "test max-- 1.0\n",
      "test min-- 0.0\n"
     ]
    }
   ],
   "source": [
    "# If you now calculate the min and max values of pixel intensity\n",
    "# on the training as well as the test data,\n",
    "# you can see that they now lie in the range 0-1.\n",
    "# And they're all floating-point values.\n",
    "print(\"train max--\", mnist_train.values.max())\n",
    "print(\"train min--\", mnist_train.values.min())\n",
    "print(\"test max--\", mnist_test.values.max())\n",
    "print(\"test min--\", mnist_test.values.min())"
   ]
  },
  {
   "cell_type": "code",
   "execution_count": 59,
   "id": "59c4bb24-a66e-453d-8661-4cb2c533897a",
   "metadata": {},
   "outputs": [],
   "source": [
    "# With our image data set up in the way that we want to,\n",
    "# let's import the torch library.\n",
    "import torch"
   ]
  },
  {
   "cell_type": "code",
   "execution_count": 60,
   "id": "29616ea1-2da5-40b3-a6ac-b196790be556",
   "metadata": {},
   "outputs": [
    {
     "data": {
      "text/plain": [
       "(60000, 785)"
      ]
     },
     "metadata": {},
     "output_type": "display_data"
    },
    {
     "data": {
      "text/plain": [
       "(10000, 785)"
      ]
     },
     "metadata": {},
     "output_type": "display_data"
    }
   ],
   "source": [
    "display(mnist_train.shape)\n",
    "display(mnist_test.shape)"
   ]
  },
  {
   "cell_type": "code",
   "execution_count": 63,
   "id": "84d29ffc-5cc4-4fc3-8b5f-6ffd80c1c0b9",
   "metadata": {},
   "outputs": [],
   "source": [
    "# The first thing that we'll do is to convert our image data, training as well as test data,\n",
    "# to torch tensors by invoking the torch.tensor function.\n",
    "# Observe that the data type for these images is torch.float,\n",
    "# and we convert the 'y' data, or our labels, to torch tensors, as well as of type torch.long.\n",
    "\n",
    "# Remember that these 'y' values are 0 through 9 integers which represent what digit is shown in the image (classes).\n",
    "\n",
    "X_train_tensor = torch.tensor(mnist_train_features.values, dtype=torch.float)\n",
    "x_test_tensor = torch.tensor(mnist_test_features.values, dtype=torch.float)\n",
    "\n",
    "Y_train_tensor = torch.tensor(mnist_train_target.values, dtype=torch.long)\n",
    "y_test_tensor = torch.tensor(mnist_test_target.values, dtype=torch.long)"
   ]
  },
  {
   "cell_type": "code",
   "execution_count": 64,
   "id": "22193275-4ddc-44fe-9f25-e77cfbb0748d",
   "metadata": {},
   "outputs": [
    {
     "data": {
      "text/plain": [
       "(torch.Size([60000, 784]), torch.Size([60000]))"
      ]
     },
     "execution_count": 64,
     "metadata": {},
     "output_type": "execute_result"
    }
   ],
   "source": [
    "# Let's take a look at the shape of these tensors.\n",
    "# Here are our training features and the corresponding training labels.\n",
    "# There are 60000 images, and each image has 784 pixels,\n",
    "# and there are 60000 corresponding labels as well.\n",
    "\n",
    "X_train_tensor.shape, Y_train_tensor.shape"
   ]
  },
  {
   "cell_type": "code",
   "execution_count": 65,
   "id": "90d936d4-03de-4f36-8dac-a730a3c2b0fb",
   "metadata": {},
   "outputs": [
    {
     "data": {
      "text/plain": [
       "(torch.Size([10000, 784]), torch.Size([10000]))"
      ]
     },
     "execution_count": 65,
     "metadata": {},
     "output_type": "execute_result"
    }
   ],
   "source": [
    "# When we feed in images to a deep fully-connected (FC) neural network,\n",
    "# we'll feed them in as one-dimensional vectors.\n",
    "# Deep FC neural networks do not accept images in the original\n",
    "# two-dimensional format with height and width.\n",
    "\n",
    "\n",
    "# Let's take a look at our test data, there are 10000 test images that we'll use to evaluate our model.\n",
    "x_test_tensor.shape, y_test_tensor.shape"
   ]
  },
  {
   "cell_type": "code",
   "execution_count": null,
   "id": "eb46ded7-3808-4628-b25e-775e7bc4ced4",
   "metadata": {},
   "outputs": [],
   "source": []
  }
 ],
 "metadata": {
  "kernelspec": {
   "display_name": "Python [conda env:pytorch_env] *",
   "language": "python",
   "name": "conda-env-pytorch_env-py"
  },
  "language_info": {
   "codemirror_mode": {
    "name": "ipython",
    "version": 3
   },
   "file_extension": ".py",
   "mimetype": "text/x-python",
   "name": "python",
   "nbconvert_exporter": "python",
   "pygments_lexer": "ipython3",
   "version": "3.7.1"
  }
 },
 "nbformat": 4,
 "nbformat_minor": 5
}
