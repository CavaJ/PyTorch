{
 "cells": [
  {
   "cell_type": "markdown",
   "id": "bf7b77a1-4ad5-4144-8993-7985fcab714a",
   "metadata": {},
   "source": [
    "# Demo: Loading and Processing MNIST Images"
   ]
  },
  {
   "cell_type": "code",
   "execution_count": 153,
   "id": "081a8f88-0db1-423c-bc5b-936d94b94dd0",
   "metadata": {},
   "outputs": [],
   "source": [
    "import pandas as pd\n",
    "import numpy as np\n",
    "import matplotlib.pyplot as plt"
   ]
  },
  {
   "cell_type": "code",
   "execution_count": 154,
   "id": "c8b154bd-875f-46e8-8e69-5da8a5478d88",
   "metadata": {},
   "outputs": [],
   "source": [
    "mnist_train = pd.read_csv('datasets/mnist-in-csv/mnist_train.csv')\n",
    "mnist_test = pd.read_csv('datasets/mnist-in-csv/mnist_test.csv')"
   ]
  },
  {
   "cell_type": "code",
   "execution_count": 155,
   "id": "43647fdb-4ad6-4f2a-8bee-3e9cb04ec89a",
   "metadata": {},
   "outputs": [
    {
     "data": {
      "text/plain": [
       "((60000, 785), (10000, 785))"
      ]
     },
     "execution_count": 155,
     "metadata": {},
     "output_type": "execute_result"
    }
   ],
   "source": [
    "# There are 60, 000 images in the training data,\n",
    "# and 10, 000 images in the test data.\n",
    "# Observe that the second dimension is 785.\n",
    "mnist_train.shape, mnist_test.shape"
   ]
  },
  {
   "cell_type": "code",
   "execution_count": 156,
   "id": "d6e1176c-d3e2-45df-ab24-f366c24ff222",
   "metadata": {},
   "outputs": [
    {
     "data": {
      "text/html": [
       "<div>\n",
       "<style scoped>\n",
       "    .dataframe tbody tr th:only-of-type {\n",
       "        vertical-align: middle;\n",
       "    }\n",
       "\n",
       "    .dataframe tbody tr th {\n",
       "        vertical-align: top;\n",
       "    }\n",
       "\n",
       "    .dataframe thead th {\n",
       "        text-align: right;\n",
       "    }\n",
       "</style>\n",
       "<table border=\"1\" class=\"dataframe\">\n",
       "  <thead>\n",
       "    <tr style=\"text-align: right;\">\n",
       "      <th></th>\n",
       "      <th>label</th>\n",
       "      <th>1x1</th>\n",
       "      <th>1x2</th>\n",
       "      <th>1x3</th>\n",
       "      <th>1x4</th>\n",
       "      <th>1x5</th>\n",
       "      <th>1x6</th>\n",
       "      <th>1x7</th>\n",
       "      <th>1x8</th>\n",
       "      <th>1x9</th>\n",
       "      <th>...</th>\n",
       "      <th>28x19</th>\n",
       "      <th>28x20</th>\n",
       "      <th>28x21</th>\n",
       "      <th>28x22</th>\n",
       "      <th>28x23</th>\n",
       "      <th>28x24</th>\n",
       "      <th>28x25</th>\n",
       "      <th>28x26</th>\n",
       "      <th>28x27</th>\n",
       "      <th>28x28</th>\n",
       "    </tr>\n",
       "  </thead>\n",
       "  <tbody>\n",
       "    <tr>\n",
       "      <th>0</th>\n",
       "      <td>5</td>\n",
       "      <td>0</td>\n",
       "      <td>0</td>\n",
       "      <td>0</td>\n",
       "      <td>0</td>\n",
       "      <td>0</td>\n",
       "      <td>0</td>\n",
       "      <td>0</td>\n",
       "      <td>0</td>\n",
       "      <td>0</td>\n",
       "      <td>...</td>\n",
       "      <td>0</td>\n",
       "      <td>0</td>\n",
       "      <td>0</td>\n",
       "      <td>0</td>\n",
       "      <td>0</td>\n",
       "      <td>0</td>\n",
       "      <td>0</td>\n",
       "      <td>0</td>\n",
       "      <td>0</td>\n",
       "      <td>0</td>\n",
       "    </tr>\n",
       "    <tr>\n",
       "      <th>1</th>\n",
       "      <td>0</td>\n",
       "      <td>0</td>\n",
       "      <td>0</td>\n",
       "      <td>0</td>\n",
       "      <td>0</td>\n",
       "      <td>0</td>\n",
       "      <td>0</td>\n",
       "      <td>0</td>\n",
       "      <td>0</td>\n",
       "      <td>0</td>\n",
       "      <td>...</td>\n",
       "      <td>0</td>\n",
       "      <td>0</td>\n",
       "      <td>0</td>\n",
       "      <td>0</td>\n",
       "      <td>0</td>\n",
       "      <td>0</td>\n",
       "      <td>0</td>\n",
       "      <td>0</td>\n",
       "      <td>0</td>\n",
       "      <td>0</td>\n",
       "    </tr>\n",
       "    <tr>\n",
       "      <th>2</th>\n",
       "      <td>4</td>\n",
       "      <td>0</td>\n",
       "      <td>0</td>\n",
       "      <td>0</td>\n",
       "      <td>0</td>\n",
       "      <td>0</td>\n",
       "      <td>0</td>\n",
       "      <td>0</td>\n",
       "      <td>0</td>\n",
       "      <td>0</td>\n",
       "      <td>...</td>\n",
       "      <td>0</td>\n",
       "      <td>0</td>\n",
       "      <td>0</td>\n",
       "      <td>0</td>\n",
       "      <td>0</td>\n",
       "      <td>0</td>\n",
       "      <td>0</td>\n",
       "      <td>0</td>\n",
       "      <td>0</td>\n",
       "      <td>0</td>\n",
       "    </tr>\n",
       "    <tr>\n",
       "      <th>3</th>\n",
       "      <td>1</td>\n",
       "      <td>0</td>\n",
       "      <td>0</td>\n",
       "      <td>0</td>\n",
       "      <td>0</td>\n",
       "      <td>0</td>\n",
       "      <td>0</td>\n",
       "      <td>0</td>\n",
       "      <td>0</td>\n",
       "      <td>0</td>\n",
       "      <td>...</td>\n",
       "      <td>0</td>\n",
       "      <td>0</td>\n",
       "      <td>0</td>\n",
       "      <td>0</td>\n",
       "      <td>0</td>\n",
       "      <td>0</td>\n",
       "      <td>0</td>\n",
       "      <td>0</td>\n",
       "      <td>0</td>\n",
       "      <td>0</td>\n",
       "    </tr>\n",
       "    <tr>\n",
       "      <th>4</th>\n",
       "      <td>9</td>\n",
       "      <td>0</td>\n",
       "      <td>0</td>\n",
       "      <td>0</td>\n",
       "      <td>0</td>\n",
       "      <td>0</td>\n",
       "      <td>0</td>\n",
       "      <td>0</td>\n",
       "      <td>0</td>\n",
       "      <td>0</td>\n",
       "      <td>...</td>\n",
       "      <td>0</td>\n",
       "      <td>0</td>\n",
       "      <td>0</td>\n",
       "      <td>0</td>\n",
       "      <td>0</td>\n",
       "      <td>0</td>\n",
       "      <td>0</td>\n",
       "      <td>0</td>\n",
       "      <td>0</td>\n",
       "      <td>0</td>\n",
       "    </tr>\n",
       "  </tbody>\n",
       "</table>\n",
       "<p>5 rows × 785 columns</p>\n",
       "</div>"
      ],
      "text/plain": [
       "   label  1x1  1x2  1x3  1x4  1x5  1x6  1x7  1x8  1x9  ...  28x19  28x20  \\\n",
       "0      5    0    0    0    0    0    0    0    0    0  ...      0      0   \n",
       "1      0    0    0    0    0    0    0    0    0    0  ...      0      0   \n",
       "2      4    0    0    0    0    0    0    0    0    0  ...      0      0   \n",
       "3      1    0    0    0    0    0    0    0    0    0  ...      0      0   \n",
       "4      9    0    0    0    0    0    0    0    0    0  ...      0      0   \n",
       "\n",
       "   28x21  28x22  28x23  28x24  28x25  28x26  28x27  28x28  \n",
       "0      0      0      0      0      0      0      0      0  \n",
       "1      0      0      0      0      0      0      0      0  \n",
       "2      0      0      0      0      0      0      0      0  \n",
       "3      0      0      0      0      0      0      0      0  \n",
       "4      0      0      0      0      0      0      0      0  \n",
       "\n",
       "[5 rows x 785 columns]"
      ]
     },
     "execution_count": 156,
     "metadata": {},
     "output_type": "execute_result"
    }
   ],
   "source": [
    "# I'm going to invoke the head function on these data frames so that we can explore this image data.\n",
    "# Observe that the individual columns in this csv file correspond to intensity values of pixels,\n",
    "# and observe that the very first column here is the label column. This corresponds to the numeric digit represented by those pixels, \n",
    "# 0 through 9 (namely, classes)\n",
    "mnist_train.head()\n",
    "\n",
    "\n",
    "# Each of these images is a 28 x 28 image,\n",
    "# which means it has a total of 784 pixels,\n",
    "# And there is one additional column corresponding to the label associated\n",
    "# with an image that gives us 785 columns for each row."
   ]
  },
  {
   "cell_type": "code",
   "execution_count": 157,
   "id": "9832c587-6a31-4417-ac23-aa4c830304f7",
   "metadata": {},
   "outputs": [],
   "source": [
    "# Let's take a look at one of these images.\n",
    "# I'm going to extract the row at index 1 from the training data,\n",
    "# and I'm going to drop the column corresponding to the label.\n",
    "\n",
    "img = mnist_train[1:2] # take the image at the row with index 1\n",
    "\n",
    "# drop the label column\n",
    "img = img.drop('label', axis=1) # axis=1 drop the entire column, column-wise."
   ]
  },
  {
   "cell_type": "code",
   "execution_count": 158,
   "id": "349afdf6-2067-4c99-8578-a2dff7a66037",
   "metadata": {},
   "outputs": [
    {
     "data": {
      "text/plain": [
       "(1, 784)"
      ]
     },
     "execution_count": 158,
     "metadata": {},
     "output_type": "execute_result"
    }
   ],
   "source": [
    "# This row only has the pixel intensity values for one image here.\n",
    "# I'm going to extract it in the form of a numpy array by accessing the values attribute of our pandas row.\n",
    "\n",
    "img = img.values\n",
    "img.shape"
   ]
  },
  {
   "cell_type": "code",
   "execution_count": 159,
   "id": "498226fd-0350-4fdb-8926-9fd949f38e91",
   "metadata": {},
   "outputs": [
    {
     "data": {
      "text/plain": [
       "(1, 28, 28)"
      ]
     },
     "execution_count": 159,
     "metadata": {},
     "output_type": "execute_result"
    }
   ],
   "source": [
    "# If you look at the shape of this numpy array, you can see that it's 1 x 784.\n",
    "# Let's reshape this to be a single-channel image with the shape 1, 28, 28.\n",
    "img = img.reshape(1, 28, 28)\n",
    "\n",
    "# Here is a representation of the single image with the channel dimension\n",
    "# first; height and width are the remaining two dimension.\n",
    "img.shape"
   ]
  },
  {
   "cell_type": "code",
   "execution_count": 160,
   "id": "53543c53-f2b3-4996-b2f7-c0a72089df7f",
   "metadata": {},
   "outputs": [
    {
     "data": {
      "text/plain": [
       "(28, 28)"
      ]
     },
     "execution_count": 160,
     "metadata": {},
     "output_type": "execute_result"
    }
   ],
   "source": [
    "# The squeeze function in a numpy array allows you to quickly eliminate\n",
    "# those dimensions which have just single values.\n",
    "# So image.squeeze will remove the unwanted one-dimensional access, so that we have an image which is just 28 x 28,\n",
    "# and the first dimension has been squeezed.\n",
    "img = img.squeeze()\n",
    "\n",
    "img.shape"
   ]
  },
  {
   "cell_type": "code",
   "execution_count": 161,
   "id": "d4cb73fc-c9ea-4e39-a02c-651ecb830c55",
   "metadata": {},
   "outputs": [
    {
     "data": {
      "text/plain": [
       "<matplotlib.image.AxesImage at 0x265cd0c9e10>"
      ]
     },
     "execution_count": 161,
     "metadata": {},
     "output_type": "execute_result"
    },
    {
     "data": {
      "image/png": "[encoded data removed]",
      "text/plain": [
       "<Figure size 600x600 with 1 Axes>"
      ]
     },
     "metadata": {},
     "output_type": "display_data"
    }
   ],
   "source": [
    "# I'll now use matplotlib to display this handwritten digit,\n",
    "# and you can see that this is the digit 0.\n",
    "plt.figure(figsize=(6,6))\n",
    "plt.imshow(img)"
   ]
  },
  {
   "cell_type": "code",
   "execution_count": 162,
   "id": "d0778cd4-af3b-4d15-a6d4-4655dcbed8a3",
   "metadata": {},
   "outputs": [],
   "source": [
    "# Let's set this image data up and use it to feed into a deep neural network.\n",
    "# The dropna function in a pandas data frame will drop any records which has missing fields,\n",
    "# so we now have a clean data set in mnist_train and mnist_test.\n",
    "\n",
    "mnist_train = mnist_train.dropna()\n",
    "mnist_test = mnist_test.dropna()"
   ]
  },
  {
   "cell_type": "code",
   "execution_count": 163,
   "id": "0ec6b6af-99a0-4d1b-b7ea-fc4b621ad471",
   "metadata": {},
   "outputs": [],
   "source": [
    "# We'll now extract the features and labels into separate data frames to feed into our ML model.\n",
    "# We have mnist_train features and mnist_target. The target contains only the label.\n",
    "# The features do not contain the label.\n",
    "mnist_train_features = mnist_train.drop('label', axis=1)\n",
    "mnist_train_target = mnist_train['label']\n",
    "\n",
    "# We'll do exactly the same thing for the test data as well.\n",
    "# We'll extract the features and labels into separate data frames.\n",
    "mnist_test_features = mnist_test.drop('label', axis=1)\n",
    "mnist_test_target = mnist_test['label']"
   ]
  },
  {
   "cell_type": "code",
   "execution_count": 164,
   "id": "2295affd-bf94-4aef-98ce-b9abe4dd96d6",
   "metadata": {},
   "outputs": [
    {
     "name": "stdout",
     "output_type": "stream",
     "text": [
      "train max-- 255\n",
      "train min-- 0\n",
      "test max-- 255\n",
      "test min-- 0\n"
     ]
    }
   ],
   "source": [
    "# Let's take a look at how this pixel intensity data is stored in this data frame.\n",
    "# Let's calculate the max and min pixel values for the\n",
    "# training as well as the test data,\n",
    "# and you can see that the max value is 255 and the min value is 0.\n",
    "# You can also see that these are integer values representing intensity.\n",
    "print(\"train max--\", mnist_train.values.max())\n",
    "print(\"train min--\", mnist_train.values.min())\n",
    "print(\"test max--\", mnist_test.values.max())\n",
    "print(\"test min--\", mnist_test.values.min())"
   ]
  },
  {
   "cell_type": "code",
   "execution_count": 165,
   "id": "a205ba3f-ec49-4573-a819-e44736b48473",
   "metadata": {},
   "outputs": [],
   "source": [
    "# It's been empirically shown that machine learning models such as neural network,\n",
    "# train and perform better when they're dealing with smaller numbers,\n",
    "# smaller floating-point numbers, as opposed to large values.\n",
    "# Let's convert all of our data to float32 and divide all of our data by 255\n",
    "# so pixel intensity values are expressed in the range 0-1 (since min value is 0, it becomes min-max normalization),\n",
    "# and we'll do the exact same thing for the test data as well.\n",
    "minst_train = mnist_train.astype('float32')\n",
    "mnist_train = mnist_train / 255\n",
    "\n",
    "mnist_test = mnist_test.astype('float32')\n",
    "mnist_test = mnist_test / 255"
   ]
  },
  {
   "cell_type": "code",
   "execution_count": 166,
   "id": "95272186-1b17-455c-b8be-6f8ff8d9639d",
   "metadata": {},
   "outputs": [
    {
     "name": "stdout",
     "output_type": "stream",
     "text": [
      "train max-- 1.0\n",
      "train min-- 0.0\n",
      "test max-- 1.0\n",
      "test min-- 0.0\n"
     ]
    }
   ],
   "source": [
    "# If you now calculate the min and max values of pixel intensity\n",
    "# on the training as well as the test data,\n",
    "# you can see that they now lie in the range 0-1.\n",
    "# And they're all floating-point values.\n",
    "print(\"train max--\", mnist_train.values.max())\n",
    "print(\"train min--\", mnist_train.values.min())\n",
    "print(\"test max--\", mnist_test.values.max())\n",
    "print(\"test min--\", mnist_test.values.min())"
   ]
  },
  {
   "cell_type": "code",
   "execution_count": 167,
   "id": "59c4bb24-a66e-453d-8661-4cb2c533897a",
   "metadata": {},
   "outputs": [],
   "source": [
    "# With our image data set up in the way that we want to,\n",
    "# let's import the torch library.\n",
    "import torch"
   ]
  },
  {
   "cell_type": "code",
   "execution_count": 168,
   "id": "29616ea1-2da5-40b3-a6ac-b196790be556",
   "metadata": {},
   "outputs": [
    {
     "data": {
      "text/plain": [
       "(60000, 785)"
      ]
     },
     "metadata": {},
     "output_type": "display_data"
    },
    {
     "data": {
      "text/plain": [
       "(10000, 785)"
      ]
     },
     "metadata": {},
     "output_type": "display_data"
    }
   ],
   "source": [
    "display(mnist_train.shape)\n",
    "display(mnist_test.shape)"
   ]
  },
  {
   "cell_type": "code",
   "execution_count": 169,
   "id": "84d29ffc-5cc4-4fc3-8b5f-6ffd80c1c0b9",
   "metadata": {},
   "outputs": [],
   "source": [
    "# The first thing that we'll do is to convert our image data, training as well as test data,\n",
    "# to torch tensors by invoking the torch.tensor function.\n",
    "# Observe that the data type for these images is torch.float,\n",
    "# and we convert the 'y' data, or our labels, to torch tensors, as well as of type torch.long.\n",
    "\n",
    "# Remember that these 'y' values are 0 through 9 integers which represent what digit is shown in the image (classes).\n",
    "\n",
    "X_train_tensor = torch.tensor(mnist_train_features.values, dtype=torch.float)\n",
    "x_test_tensor = torch.tensor(mnist_test_features.values, dtype=torch.float)\n",
    "\n",
    "Y_train_tensor = torch.tensor(mnist_train_target.values, dtype=torch.long)\n",
    "y_test_tensor = torch.tensor(mnist_test_target.values, dtype=torch.long)"
   ]
  },
  {
   "cell_type": "code",
   "execution_count": 170,
   "id": "22193275-4ddc-44fe-9f25-e77cfbb0748d",
   "metadata": {},
   "outputs": [
    {
     "data": {
      "text/plain": [
       "(torch.Size([60000, 784]), torch.Size([60000]))"
      ]
     },
     "execution_count": 170,
     "metadata": {},
     "output_type": "execute_result"
    }
   ],
   "source": [
    "# Let's take a look at the shape of these tensors.\n",
    "# Here are our training features and the corresponding training labels.\n",
    "# There are 60000 images, and each image has 784 pixels,\n",
    "# and there are 60000 corresponding labels as well.\n",
    "\n",
    "X_train_tensor.shape, Y_train_tensor.shape"
   ]
  },
  {
   "cell_type": "code",
   "execution_count": 171,
   "id": "90d936d4-03de-4f36-8dac-a730a3c2b0fb",
   "metadata": {},
   "outputs": [
    {
     "data": {
      "text/plain": [
       "(torch.Size([10000, 784]), torch.Size([10000]))"
      ]
     },
     "execution_count": 171,
     "metadata": {},
     "output_type": "execute_result"
    }
   ],
   "source": [
    "# When we feed in images to a deep fully-connected (FC) neural network,\n",
    "# we'll feed them in as one-dimensional vectors.\n",
    "# Deep FC neural networks do not accept images in the original\n",
    "# two-dimensional format with height and width.\n",
    "\n",
    "\n",
    "# Let's take a look at our test data, there are 10000 test images that we'll use to evaluate our model.\n",
    "x_test_tensor.shape, y_test_tensor.shape"
   ]
  },
  {
   "cell_type": "markdown",
   "id": "b33fa483-8d03-4bc0-bbe5-123cad05add2",
   "metadata": {},
   "source": [
    "# Demo: Setting up a Fully Connected Neural Network for Image Classification"
   ]
  },
  {
   "cell_type": "code",
   "execution_count": 172,
   "id": "482f35ee-5f9d-49d7-a802-bc0ff3247404",
   "metadata": {},
   "outputs": [],
   "source": [
    "# We're now finally ready to design our deep neural network,\n",
    "# and for this we'll import the nn module from torch.nn.\n",
    "import torch.nn as nn"
   ]
  },
  {
   "cell_type": "code",
   "execution_count": 173,
   "id": "03879397-8eae-4167-ab05-b37cfde16b9c",
   "metadata": {},
   "outputs": [],
   "source": [
    "# The size of the input that we'll feed into our neural network is equal to 784,\n",
    "# corresponding to each of the pixels in every input image.\n",
    "# The input layer has to be connected to every pixel in the input image,\n",
    "# and this is a primary reason for parameter explosion.\n",
    "# Twenty-eight by 28 images are okay, but what if you had a 100 x 100 image?\n",
    "# Those are 10000 connections right there.\n",
    "input_size = 784\n",
    "\n",
    "# The output size is 10.\n",
    "# Each image can be any digit from 0 through 9. Those are ten categories.\n",
    "output_size = 10\n",
    "\n",
    "\n",
    "# We'll construct a deep neural network with two hidden layers,\n",
    "# one which has 16 neurons and another that has 32 neurons.\n",
    "hidden1_size = 16\n",
    "hidden2_size = 32"
   ]
  },
  {
   "cell_type": "code",
   "execution_count": 174,
   "id": "dacd06c4-fb7e-4872-8989-46f5d246e2d8",
   "metadata": {},
   "outputs": [],
   "source": [
    "# We'll instantiate a Net class that inherits from nn.module.\n",
    "# This will allow us to set up a custom neural network and\n",
    "# apply the activation functions that we want.\n",
    "class Net(nn.Module):\n",
    "    def __init__(self):\n",
    "        # Here are the three fully connected dense layers in our neural\n",
    "        # network instantiated using the linear module.\n",
    "        super(Net, self).__init__()\n",
    "        \n",
    "        # You can see that the input size to the first input layer is 784,\n",
    "        # corresponding to the size of our images.\n",
    "        self.fc1 = nn.Linear(input_size, hidden1_size)\n",
    "        self.fc2 = nn.Linear(hidden1_size, hidden2_size)\n",
    "        \n",
    "        # You can see that the output size corresponds to the\n",
    "        # final output of our neural network, which is equal to 10,\n",
    "        # corresponding to each of the 10 digits in into which\n",
    "        # the input images can be classified.\n",
    "        self.fc3 = nn.Linear(hidden2_size, output_size)\n",
    "    \n",
    "    \n",
    "    # If you remember,\n",
    "    # the output of any classification model is in the form of\n",
    "    # probability scores corresponding to probability that an\n",
    "    # image is one of these ten digits.\n",
    "    # The predicted label of our model is, of course,\n",
    "    # the label with the highest probability.\n",
    "    # That is the digit that our model considers to be the most\n",
    "    # likely to be represented by this input image.\n",
    "    \n",
    "    \n",
    "    # This forward function is what will be called in the\n",
    "    # forward pass of our neural network,\n",
    "    # which passes the input through all of the layers of our neural network.\n",
    "    def forward(self, x):\n",
    "        # We've applied the sigmoid activation function to our first two linear layers,\n",
    "        # fc1 and fc2.\n",
    "        # The sigmoid activation is simply an S curve.\n",
    "        x = torch.sigmoid(self.fc1(x))\n",
    "        x = torch.sigmoid(self.fc2(x))\n",
    "        \n",
    "        x = self.fc3(x)\n",
    "        \n",
    "        # The output of the first layer is passed to the second,\n",
    "        # the output of the second layer is passed to the third fully connected layer,\n",
    "        # and this third fully connected layer is the final layer of our neural\n",
    "        # network to which we apply the log softmax activation.\n",
    "        # Hopefully you're already familiar with the softmax\n",
    "        # function that we use with classifiers.\n",
    "        # Log softmax is equivalent to applying the log operation to the softmax function,\n",
    "        # and log softmax is often used with the NLLLoss function.\n",
    "        # NLLLoss stands for negative log likelihood loss,\n",
    "        # which is commonly used with PyTorch classification algorithms.\n",
    "        # Now classifiers use the cross entropy as a loss function.\n",
    "        # NLLLoss in PyTorch is more stable numerically and has better performance,\n",
    "        # so we use the NLLLoss along with log softmax for classification.\n",
    "        return torch.log_softmax(x, dim=-1) # -1 means last dimension, which is 784 in (60000, 784)."
   ]
  },
  {
   "cell_type": "code",
   "execution_count": 175,
   "id": "6bff76a7-711f-4abd-8a32-21c19a9bdd8e",
   "metadata": {},
   "outputs": [],
   "source": [
    "# Let's create an instance of this neural network model that we just designed.\n",
    "# model is equal to Net, and we want to train this model on a GPU if one is available.\n",
    "model = Net()"
   ]
  },
  {
   "cell_type": "code",
   "execution_count": 176,
   "id": "24e891b3-0575-4014-91c5-2fc870279a82",
   "metadata": {},
   "outputs": [
    {
     "name": "stdout",
     "output_type": "stream",
     "text": [
      "cuda:0\n",
      "Quadro RTX 5000 with Max-Q Design\n",
      "0\n"
     ]
    }
   ],
   "source": [
    "# We'll use the torch.device device manager for this.\n",
    "# We want to use cuda:0 if cuda is available, otherwise we'll use the CPU.\n",
    "# If you take a look at the device, you'll see that it's cuda:0,\n",
    "# the single GPU that we had configured on this virtual machine.\n",
    "device = torch.device(\"cuda:0\" if torch.cuda.is_available() else \"cpu\")\n",
    "print(device)\n",
    "print(torch.cuda.get_device_name(0))\n",
    "print(torch.cuda.current_device())"
   ]
  },
  {
   "cell_type": "code",
   "execution_count": 177,
   "id": "303d0a28-cd4a-47f1-9594-d33ca4e80279",
   "metadata": {},
   "outputs": [],
   "source": [
    "def get_cuda_stats():\n",
    "    #Additional Info when using cuda\n",
    "    if device.type == 'cuda':\n",
    "        print(torch.cuda.get_device_name(0))\n",
    "        print('Memory Usage:')\n",
    "        print('Allocated:', round(torch.cuda.memory_allocated(0)/1024**3,1), 'GB')\n",
    "        print('Cached:   ', round(torch.cuda.memory_reserved(0)/1024**3,1), 'GB')"
   ]
  },
  {
   "cell_type": "code",
   "execution_count": 178,
   "id": "4c5bdd08-4076-4643-b8f3-c118765ae419",
   "metadata": {},
   "outputs": [
    {
     "data": {
      "text/plain": [
       "Net(\n",
       "  (fc1): Linear(in_features=784, out_features=16, bias=True)\n",
       "  (fc2): Linear(in_features=16, out_features=32, bias=True)\n",
       "  (fc3): Linear(in_features=32, out_features=10, bias=True)\n",
       ")"
      ]
     },
     "execution_count": 178,
     "metadata": {},
     "output_type": "execute_result"
    }
   ],
   "source": [
    "# In order to train our model using this GPU,\n",
    "# we need to copy our model parameters over to this device\n",
    "# which we'll do using the model.to function.\n",
    "# Our model parameters are now on the GPU.\n",
    "model.to(device)"
   ]
  },
  {
   "cell_type": "code",
   "execution_count": 179,
   "id": "f9fd5f4e-e15e-4098-be18-6f7c7a6b9d98",
   "metadata": {},
   "outputs": [
    {
     "name": "stdout",
     "output_type": "stream",
     "text": [
      "Quadro RTX 5000 with Max-Q Design\n",
      "Memory Usage:\n",
      "Allocated: 0.0 GB\n",
      "Cached:    0.2 GB\n"
     ]
    }
   ],
   "source": [
    "get_cuda_stats()"
   ]
  },
  {
   "cell_type": "code",
   "execution_count": 180,
   "id": "6c1214c0-46cd-4044-b3e7-de097f6c9ed9",
   "metadata": {},
   "outputs": [],
   "source": [
    "# We now need to move our training and test tensors along with\n",
    "# the corresponding labels to the GPU as well.\n",
    "# Once again, we use the to() function to move all of our tensors to cuda:0.\n",
    "X_train_tensor = X_train_tensor.to(device)\n",
    "x_test_tensor = x_test_tensor.to(device)\n",
    "\n",
    "Y_train_tensor = Y_train_tensor.to(device)\n",
    "y_test_tensor = y_test_tensor.to(device)"
   ]
  },
  {
   "cell_type": "code",
   "execution_count": 181,
   "id": "4923aea7-3e24-4c33-a131-a8f0a4b15d9c",
   "metadata": {},
   "outputs": [
    {
     "name": "stdout",
     "output_type": "stream",
     "text": [
      "Quadro RTX 5000 with Max-Q Design\n",
      "Memory Usage:\n",
      "Allocated: 0.2 GB\n",
      "Cached:    0.2 GB\n"
     ]
    }
   ],
   "source": [
    "get_cuda_stats()"
   ]
  },
  {
   "cell_type": "code",
   "execution_count": 182,
   "id": "002df9ba-d862-4e96-806c-24a233c00265",
   "metadata": {},
   "outputs": [],
   "source": [
    "# Go ahead and import the optim module from the PyTorch library.\n",
    "# This is the module that contains all of the optimizers that we can use to train our model.\n",
    "import torch.optim as optim"
   ]
  },
  {
   "cell_type": "code",
   "execution_count": 183,
   "id": "c364db30-ddf9-49c8-8a2d-1901a4f0702b",
   "metadata": {},
   "outputs": [],
   "source": [
    "# There are, of course, several optimizers that you can choose from.\n",
    "# I'm going to select the Adam optimizer, which is a computationally efficient optimization\n",
    "# algorithm with low memory requirements, which works well with large datasets,\n",
    "# and it's very popular and commonly used.\n",
    "# We haven't specified a learning rate for this optimizer,\n",
    "# it's 0.001 by default, and we use the default learning rate.\n",
    "optimizer = optim.Adam(model.parameters())\n",
    "\n",
    "\n",
    "# The loss function that we'll use to train our model is the NLLLoss,\n",
    "# that is the negative log likelihood loss.\n",
    "# This is what we use in combination with the log softmax output layer.\n",
    "loss_fn = nn.NLLLoss()"
   ]
  },
  {
   "cell_type": "code",
   "execution_count": 184,
   "id": "2300b51e-6149-4a11-9de6-9231092d6fc1",
   "metadata": {},
   "outputs": [],
   "source": [
    "# We'll now run training for a total of 500 epochs,\n",
    "# that is 500 passes through our dataset.\n",
    "# This is, of course, something that you can tweak.\n",
    "epochs = 500"
   ]
  },
  {
   "cell_type": "code",
   "execution_count": 185,
   "id": "8c62cc49-14e9-4ce8-867a-a148bee64800",
   "metadata": {},
   "outputs": [
    {
     "name": "stdout",
     "output_type": "stream",
     "text": [
      "Epoch -- 10, loss -- 2.29 \n",
      "Epoch -- 20, loss -- 2.24 \n",
      "Epoch -- 30, loss -- 2.21 \n",
      "Epoch -- 40, loss -- 2.18 \n",
      "Epoch -- 50, loss -- 2.14 \n",
      "Epoch -- 60, loss -- 2.11 \n",
      "Epoch -- 70, loss -- 2.07 \n",
      "Epoch -- 80, loss -- 2.03 \n",
      "Epoch -- 90, loss -- 1.98 \n",
      "Epoch -- 100, loss -- 1.94 \n",
      "Epoch -- 110, loss -- 1.89 \n",
      "Epoch -- 120, loss -- 1.84 \n",
      "Epoch -- 130, loss -- 1.79 \n",
      "Epoch -- 140, loss -- 1.74 \n",
      "Epoch -- 150, loss -- 1.69 \n",
      "Epoch -- 160, loss -- 1.64 \n",
      "Epoch -- 170, loss -- 1.59 \n",
      "Epoch -- 180, loss -- 1.54 \n",
      "Epoch -- 190, loss -- 1.49 \n",
      "Epoch -- 200, loss -- 1.45 \n",
      "Epoch -- 210, loss -- 1.40 \n",
      "Epoch -- 220, loss -- 1.36 \n",
      "Epoch -- 230, loss -- 1.31 \n",
      "Epoch -- 240, loss -- 1.27 \n",
      "Epoch -- 250, loss -- 1.23 \n",
      "Epoch -- 260, loss -- 1.19 \n",
      "Epoch -- 270, loss -- 1.15 \n",
      "Epoch -- 280, loss -- 1.11 \n",
      "Epoch -- 290, loss -- 1.08 \n",
      "Epoch -- 300, loss -- 1.04 \n",
      "Epoch -- 310, loss -- 1.01 \n",
      "Epoch -- 320, loss -- 0.98 \n",
      "Epoch -- 330, loss -- 0.95 \n",
      "Epoch -- 340, loss -- 0.91 \n",
      "Epoch -- 350, loss -- 0.89 \n",
      "Epoch -- 360, loss -- 0.86 \n",
      "Epoch -- 370, loss -- 0.83 \n",
      "Epoch -- 380, loss -- 0.81 \n",
      "Epoch -- 390, loss -- 0.78 \n",
      "Epoch -- 400, loss -- 0.76 \n",
      "Epoch -- 410, loss -- 0.74 \n",
      "Epoch -- 420, loss -- 0.72 \n",
      "Epoch -- 430, loss -- 0.71 \n",
      "Epoch -- 440, loss -- 0.68 \n",
      "Epoch -- 450, loss -- 0.67 \n",
      "Epoch -- 460, loss -- 0.65 \n",
      "Epoch -- 470, loss -- 0.64 \n",
      "Epoch -- 480, loss -- 0.62 \n",
      "Epoch -- 490, loss -- 0.61 \n",
      "Epoch -- 500, loss -- 0.59 \n"
     ]
    }
   ],
   "source": [
    "# Now let's set up a simple for loop to run training for each epoch in the 500.\n",
    "for epoch in range(1, epochs + 1):\n",
    "    \n",
    "    # Zero out the gradients of the optimizer,\n",
    "    optimizer.zero_grad()\n",
    "    \n",
    "    \n",
    "    # and make a forward pass through our model.\n",
    "    # This forward pass through the model will give us the predictions\n",
    "    # from our model using its current model parameters.\n",
    "    # We store this in Y_pred.\n",
    "    Y_pred = model(X_train_tensor) # do a forward pass\n",
    "    \n",
    "    \n",
    "    # We then apply the loss function to calculate the NLLLoss versus actual labels,\n",
    "    # Y_pred versus Y_train_tensor.\n",
    "    loss = loss_fn(Y_pred, Y_train_tensor) # calculate loss\n",
    "    \n",
    "    \n",
    "    # We then make a backward pass through this model by calling loss.backward.\n",
    "    # This backward pass is what will compute gradients.\n",
    "    loss.backward() # do backward pass\n",
    "    \n",
    "    \n",
    "    # Once gradients have been calculated,\n",
    "    # the optimizer.step function will update the model\n",
    "    # parameters using the learning rate, that is 0.001 by default.\n",
    "    optimizer.step()\n",
    "    \n",
    "    \n",
    "    # In order to get visual feedback for training our model,\n",
    "    # for each epoch we'll print out the loss calculated.\n",
    "    if epoch  % 10 == 0: # print when epoch is divisable by 10\n",
    "        print('Epoch -- %d, loss -- %0.2f ' %(epoch, loss.item()))"
   ]
  },
  {
   "cell_type": "code",
   "execution_count": 186,
   "id": "50a0c9da-3d85-4724-95e0-c1d3ab9823e1",
   "metadata": {},
   "outputs": [],
   "source": [
    "# You can see that early on the loss value is around 2.27,\n",
    "# but as your model trains the loss value falls until\n",
    "# at the very end it's about 0.63."
   ]
  },
  {
   "cell_type": "code",
   "execution_count": 187,
   "id": "50394da1-6577-4cbe-8350-cf53dff7923a",
   "metadata": {},
   "outputs": [
    {
     "data": {
      "text/plain": [
       "Net(\n",
       "  (fc1): Linear(in_features=784, out_features=16, bias=True)\n",
       "  (fc2): Linear(in_features=16, out_features=32, bias=True)\n",
       "  (fc3): Linear(in_features=32, out_features=10, bias=True)\n",
       ")"
      ]
     },
     "execution_count": 187,
     "metadata": {},
     "output_type": "execute_result"
    }
   ],
   "source": [
    "# Once we have our fully trained model, let's use it for prediction.\n",
    "# Let's evaluate our model for this.\n",
    "# We need to switch over our model to the eval mode.\n",
    "# The eval mode ensures that layers and operations that should be applied only in training mode,\n",
    "# such as dropout and regularization, will be turned off in eval or prediction mode.\n",
    "# We don't have any such layers.\n",
    "# We anyway switch the model over to the eval mode\n",
    "# because that's the right thing to do.\n",
    "model.eval()"
   ]
  },
  {
   "cell_type": "code",
   "execution_count": 188,
   "id": "bcd4a7ec-fbd3-47bf-9c5e-dbbbd9df42a4",
   "metadata": {},
   "outputs": [],
   "source": [
    "# For a classifier model, the metrics used to evaluate the model is accuracy,\n",
    "# precision, and recall, and we'll import these functions from the sklearn library.\n",
    "from sklearn.metrics import accuracy_score, precision_score, recall_score"
   ]
  },
  {
   "cell_type": "code",
   "execution_count": 189,
   "id": "d3b5fb20-0202-4f92-9654-3a1d21c910c1",
   "metadata": {},
   "outputs": [
    {
     "name": "stdout",
     "output_type": "stream",
     "text": [
      "<class 'torch.Tensor'> torch.Size([10000, 10])\n",
      "Accuracy:  0.863\n",
      "Precision:  0.8659877470998825\n",
      "Recall:  0.863\n"
     ]
    }
   ],
   "source": [
    "# When we use a model for prediction, we turn off gradient calculations,\n",
    "# we enclose all of our code within a torch.no_grad block.\n",
    "with torch.no_grad():\n",
    "    # We'll initialize two variables that'll keep track of the total number of\n",
    "    # correct predictions and the total number of predictions.\n",
    "    correct = 0\n",
    "    total = 0\n",
    "    \n",
    "    # We then feed all of the 10000 images in our test tensor to our model,\n",
    "    # and store the output of the model in the outputs variable.\n",
    "    outputs = model(x_test_tensor)\n",
    "    print(type(outputs), outputs.shape)\n",
    "    \n",
    "    # In order to get the predictions of our model,\n",
    "    # we need to find the maximum probability score from our output.\n",
    "    # https://pytorch.org/docs/stable/generated/torch.max.html?highlight=torch+max#torch.max\n",
    "    # second element of the tuple will be indices of max values over the dimension 1, in this case, they\n",
    "    # will correspond to labels, since our labels are also from 0 to 9.\n",
    "    # That will give us the predicted label for each input image in the test data.\n",
    "    _, predicted = torch.max(outputs.data, dim=1)\n",
    "    \n",
    "    \n",
    "    # Our test tensor and the model parameters are all on the GPU.\n",
    "    # I now get the actual labels from our y_test_tensor in the numpy format,\n",
    "    # and I get the predicted labels from our model onto the\n",
    "    # CPU before I calculate the accuracy, precision, and recall scores.\n",
    "    y_test = y_test_tensor.cpu().numpy()\n",
    "    predicted = predicted.cpu()\n",
    "    \n",
    "    \n",
    "    # Accuracy, precision, and recall are calculated using the actual labels from the test\n",
    "    # data versus the predicted labels from our model.\n",
    "    # This classification model performs multi-class classification,\n",
    "    # that is the input image can belong to one of ten categories.\n",
    "    # To calculate precision and recall scores for multi-class calculation,\n",
    "    # you need an averaging method,\n",
    "    # and the weighted method basically averages these scores based on the number\n",
    "    # of samples of the different categories in your test data.\n",
    "    print(\"Accuracy: \", accuracy_score(predicted, y_test))\n",
    "    print(\"Precision: \", precision_score(predicted, y_test, average='weighted'))\n",
    "    print(\"Recall: \", recall_score(predicted, y_test, average='weighted'))"
   ]
  },
  {
   "cell_type": "code",
   "execution_count": 190,
   "id": "fb281801-84ee-4ab8-a9fa-2cd6ea363d98",
   "metadata": {},
   "outputs": [],
   "source": [
    "# And you can see from the results here that accuracy,\n",
    "# precision, and recall scores are all around 85%.\n",
    "# This simple, fully connected neural network worked well when we had a simple image dataset."
   ]
  },
  {
   "cell_type": "code",
   "execution_count": null,
   "id": "e158f990-963b-4a0c-b082-08b0204c851c",
   "metadata": {},
   "outputs": [],
   "source": []
  }
 ],
 "metadata": {
  "kernelspec": {
   "display_name": "Python [conda env:pytorch_env] *",
   "language": "python",
   "name": "conda-env-pytorch_env-py"
  },
  "language_info": {
   "codemirror_mode": {
    "name": "ipython",
    "version": 3
   },
   "file_extension": ".py",
   "mimetype": "text/x-python",
   "name": "python",
   "nbconvert_exporter": "python",
   "pygments_lexer": "ipython3",
   "version": "3.7.1"
  }
 },
 "nbformat": 4,
 "nbformat_minor": 5
}
