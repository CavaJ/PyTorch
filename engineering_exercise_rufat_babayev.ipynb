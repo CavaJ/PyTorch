{
 "cells": [
  {
   "cell_type": "markdown",
   "id": "6168ae0d",
   "metadata": {},
   "source": [
    "# Task 1: Lag Matrix Creation"
   ]
  },
  {
   "cell_type": "markdown",
   "id": "5bdbf12e",
   "metadata": {},
   "source": [
    "Given a dataframe containing time series data for multiple items, write a Python function that creates a 2d\n",
    "tensor containing the previous n values per item for each dataframe row. The output tensor should have the\n",
    "same number of rows as the input dataframe and n columns representing the “lagged” values. Missing values\n",
    "should be filled with NaN (in particular in the beginning of each time series).\n",
    "\n",
    "For example, for n=2 and the input dataframe:\n",
    "\n",
    "```python\n",
    "pd.DataFrame(\n",
    "\t{\n",
    "\t\t\"item\": [23, 23, 23, 23, 11, 11, 11],\n",
    "\t\t\"value\": [9.0, 2.0, 3.0, 4.0, 5.0, 6.0, 7.0],\n",
    "\t}\n",
    ")\n",
    "```\n",
    "\n",
    "the expected output tensor is:\n",
    "\n",
    "```python\n",
    "torch.tensor(\n",
    "\t[\n",
    "\t\t[torch.nan, torch.nan],\n",
    "\t\t[torch.nan, 9.0],\n",
    "\t\t[9.0, 2.0],\n",
    "\t\t[2.0, 3.0],\n",
    "\t\t[torch.nan, torch.nan],\n",
    "\t\t[torch.nan, 5.0],\n",
    "\t\t[5.0, 6.0],\n",
    "\t]\n",
    ")\n",
    "```"
   ]
  },
  {
   "cell_type": "markdown",
   "id": "dd3b0ba6",
   "metadata": {},
   "source": [
    "# Solution"
   ]
  },
  {
   "cell_type": "code",
   "execution_count": 1,
   "id": "1dce8519",
   "metadata": {},
   "outputs": [],
   "source": [
    "import pandas as pd\n",
    "import numpy as np\n",
    "import torch"
   ]
  },
  {
   "cell_type": "markdown",
   "id": "90f8960d",
   "metadata": {},
   "source": [
    "```diff\n",
    "\n",
    "@@ We can achive the solution using Pandas and PyTorch. We will group the dataframe by the \"item\" column, then use the \"shift\" function to generate the lagged values for each item. The resulting dataframe is then converted into a  PyTorch tensor.\n",
    "\n",
    "```"
   ]
  },
  {
   "cell_type": "code",
   "execution_count": 2,
   "id": "34241e95",
   "metadata": {},
   "outputs": [],
   "source": [
    "def create_lag_matrix(df, n):\n",
    "    # Initialize a new dataframe to store the lagged values\n",
    "    lagged_df = pd.DataFrame(index=df.index)\n",
    "\n",
    "    # Create the lagged values for each item\n",
    "    for i in range(n, 0, -1):\n",
    "        lagged_df[f'lag_{i}'] = df.groupby('item')['value'].shift(i)\n",
    "\n",
    "    # Convert the dataframe to a PyTorch tensor and return it\n",
    "    return torch.tensor(lagged_df.values, dtype=torch.float)"
   ]
  },
  {
   "cell_type": "markdown",
   "id": "4ef0ddd1",
   "metadata": {},
   "source": [
    "```diff\n",
    "\n",
    "@@ The function `create_lag_matrix(df, n)` creates a 2D tensor that contains previous `n` values (lags) for each item in the input DataFrame `df`. This is achieved by the following steps:\n",
    "\n",
    "@@ 1. The function first initializes an empty DataFrame `lagged_df` with the same index as the input DataFrame `df`.\n",
    "\n",
    "@@ 2. It then enters a loop that runs `n` times. In each iteration, it creates a new column in `lagged_df` that contains the lagged values of the 'value' column in `df` for each item. The lag is determined by the current iteration number (`i`), starting from `n` and going down to `1`. This is achieved using the pandas `shift` function, which shifts the values in a DataFrame column down by a specified number of places. The `groupby('item')` ensures that the shift operation is performed separately for each item, so that the lags for different items do not mix.\n",
    "\n",
    "@@ 3. After the loop has completed, all the created lag columns are in reverse order (from the most recent to the least recent), and `lagged_df` contains the lagged values for each item in `df`.\n",
    "\n",
    "@@ 4. Finally, `lagged_df` is converted to a PyTorch tensor using the `torch.tensor` function, and this tensor is returned. The `dtype=torch.float` argument is used to ensure that the tensor contains floating point numbers (since the input dataframe contains floating point numbers), and that `nan` values are preserved.\n",
    "\n",
    "@@ The result is a 2D tensor where each row corresponds to a row in the input DataFrame `df`, and each column contains a previous value (lag) for the item in that row, with the most recent lags appearing first. The missing values that occur because there are not enough previous values for the first few values of each item are filled with `nan`.\n",
    "\n",
    "@@ Overall, this function can be useful for time series analysis tasks where it's often important to consider previous values as input when predicting the next value.\n",
    "\n",
    "```"
   ]
  },
  {
   "cell_type": "code",
   "execution_count": 3,
   "id": "76bc1cf7",
   "metadata": {},
   "outputs": [
    {
     "data": {
      "text/html": [
       "<div>\n",
       "<style scoped>\n",
       "    .dataframe tbody tr th:only-of-type {\n",
       "        vertical-align: middle;\n",
       "    }\n",
       "\n",
       "    .dataframe tbody tr th {\n",
       "        vertical-align: top;\n",
       "    }\n",
       "\n",
       "    .dataframe thead th {\n",
       "        text-align: right;\n",
       "    }\n",
       "</style>\n",
       "<table border=\"1\" class=\"dataframe\">\n",
       "  <thead>\n",
       "    <tr style=\"text-align: right;\">\n",
       "      <th></th>\n",
       "      <th>item</th>\n",
       "      <th>value</th>\n",
       "    </tr>\n",
       "  </thead>\n",
       "  <tbody>\n",
       "    <tr>\n",
       "      <th>0</th>\n",
       "      <td>23</td>\n",
       "      <td>9.0</td>\n",
       "    </tr>\n",
       "    <tr>\n",
       "      <th>1</th>\n",
       "      <td>23</td>\n",
       "      <td>2.0</td>\n",
       "    </tr>\n",
       "    <tr>\n",
       "      <th>2</th>\n",
       "      <td>23</td>\n",
       "      <td>3.0</td>\n",
       "    </tr>\n",
       "    <tr>\n",
       "      <th>3</th>\n",
       "      <td>23</td>\n",
       "      <td>4.0</td>\n",
       "    </tr>\n",
       "    <tr>\n",
       "      <th>4</th>\n",
       "      <td>11</td>\n",
       "      <td>5.0</td>\n",
       "    </tr>\n",
       "    <tr>\n",
       "      <th>5</th>\n",
       "      <td>11</td>\n",
       "      <td>6.0</td>\n",
       "    </tr>\n",
       "    <tr>\n",
       "      <th>6</th>\n",
       "      <td>11</td>\n",
       "      <td>7.0</td>\n",
       "    </tr>\n",
       "  </tbody>\n",
       "</table>\n",
       "</div>"
      ],
      "text/plain": [
       "   item  value\n",
       "0    23    9.0\n",
       "1    23    2.0\n",
       "2    23    3.0\n",
       "3    23    4.0\n",
       "4    11    5.0\n",
       "5    11    6.0\n",
       "6    11    7.0"
      ]
     },
     "execution_count": 3,
     "metadata": {},
     "output_type": "execute_result"
    }
   ],
   "source": [
    "# dataframe to test\n",
    "df = pd.DataFrame(\n",
    "    {\n",
    "        \"item\": [23, 23, 23, 23, 11, 11, 11],\n",
    "        \"value\": [9.0, 2.0, 3.0, 4.0, 5.0, 6.0, 7.0],\n",
    "    }\n",
    ")\n",
    "\n",
    "df"
   ]
  },
  {
   "cell_type": "code",
   "execution_count": 4,
   "id": "8b82dee8",
   "metadata": {},
   "outputs": [
    {
     "data": {
      "text/plain": [
       "tensor([[nan, nan],\n",
       "        [nan, 9.],\n",
       "        [9., 2.],\n",
       "        [2., 3.],\n",
       "        [nan, nan],\n",
       "        [nan, 5.],\n",
       "        [5., 6.]])"
      ]
     },
     "metadata": {},
     "output_type": "display_data"
    }
   ],
   "source": [
    "# test the function\n",
    "display(create_lag_matrix(df, 2))"
   ]
  },
  {
   "cell_type": "markdown",
   "id": "f79a7217",
   "metadata": {},
   "source": [
    "# Task 2: Bonus"
   ]
  },
  {
   "cell_type": "markdown",
   "id": "f50b9355",
   "metadata": {},
   "source": [
    "Have the function handle gaps in the time series data. The \"time\" column represents the time step where\n",
    "gaps (missing rows) should result in NaN entries in the output tensor.\n",
    "\n",
    "For n=2 and the input dataframe:\n",
    "\n",
    "```python\n",
    "pd.DataFrame(\n",
    "    {\n",
    "        \"item\": [23, 23, 23, 23, 11, 11, 11],\n",
    "        \"time\": [0, 1, 4, 5, 32, 34, 35],\n",
    "        \"value\": [9.0, 2.0, 3.0, 4.0, 5.0, 6.0, 7.0],\n",
    "    }\n",
    ")\n",
    "\n",
    "```\n",
    "\n",
    "the expected output is:\n",
    "\n",
    "```python\n",
    "torch.tensor(\n",
    "    [\n",
    "        [torch.nan, torch.nan],\n",
    "        [torch.nan, 9.0],\n",
    "        [torch.nan, torch.nan],\n",
    "        [torch.nan, 3.0],\n",
    "        [torch.nan, torch.nan],\n",
    "        [5.0, torch.nan],\n",
    "        [torch.nan, 6.0],\n",
    "    ]\n",
    ")\n",
    "\n",
    "```"
   ]
  },
  {
   "cell_type": "markdown",
   "id": "63a502ff",
   "metadata": {},
   "source": [
    "# Solution"
   ]
  },
  {
   "cell_type": "code",
   "execution_count": 5,
   "id": "f9e1728f",
   "metadata": {},
   "outputs": [],
   "source": [
    "# function to print dataframe as full, can be used to test intermediate dataframes in an updated create_lag_matrix() function\n",
    "def print_full(x):\n",
    "    pd.set_option('display.max_rows', len(x))\n",
    "    print(x)\n",
    "    pd.reset_option('display.max_rows')"
   ]
  },
  {
   "cell_type": "markdown",
   "id": "69f4ec09",
   "metadata": {},
   "source": [
    "```diff\n",
    "\n",
    "@@ The following updated function `create_lag_matrix` now also considers gaps in the time series data based on the \"time\" column.\n",
    "\n",
    "```"
   ]
  },
  {
   "cell_type": "code",
   "execution_count": 6,
   "id": "57385bae",
   "metadata": {},
   "outputs": [],
   "source": [
    "import pandas as pd\n",
    "import numpy as np\n",
    "import torch\n",
    "\n",
    "def create_lag_matrix(df, n):\n",
    "    # Create a new DataFrame with all time steps for each item\n",
    "    all_time_steps = pd.MultiIndex.from_product([df['item'].unique(), np.arange(df['time'].max() + 1)], \n",
    "                                                names=['item', 'time'])\n",
    "    \n",
    "    all_time_steps_df = pd.DataFrame(index=all_time_steps).reset_index()\n",
    "\n",
    "    # Merge with the original DataFrame\n",
    "    df_full = pd.merge(all_time_steps_df, df, how='left', on=['item', 'time'])\n",
    "    # print_full(df_full)\n",
    "\n",
    "    # Create the lagged DataFrame\n",
    "    lagged_df = pd.DataFrame(index=df_full.index)\n",
    "    for i in range(n, 0, -1):\n",
    "        lagged_df[f'lag_{i}'] = df_full.groupby('item')['value'].shift(i)\n",
    "    \n",
    "    # Only keep the rows that were present in the original DataFrame\n",
    "    lagged_df = lagged_df[df_full['value'].notna()]\n",
    "\n",
    "    return torch.tensor(lagged_df.values, dtype=torch.float)"
   ]
  },
  {
   "cell_type": "markdown",
   "id": "dd137e84",
   "metadata": {},
   "source": [
    "```diff\n",
    "\n",
    "@@ This function will generate a new DataFrame (`all_time_steps_df`) with all possible combinations of 'item' and 'time' values. It then merges this DataFrame with the original DataFrame (df) using 'item' and 'time' as the keys. The lagged DataFrame is created by shifting the 'value' column for each item in the specified range of lags. Finally, the function filters out the rows that were not present in the original DataFrame (df) to ensure only the relevant data is returned. The output will be a PyTorch tensor containing the lagged values.\n",
    "\n",
    "```"
   ]
  },
  {
   "cell_type": "code",
   "execution_count": 7,
   "id": "673d9948",
   "metadata": {},
   "outputs": [
    {
     "data": {
      "text/html": [
       "<div>\n",
       "<style scoped>\n",
       "    .dataframe tbody tr th:only-of-type {\n",
       "        vertical-align: middle;\n",
       "    }\n",
       "\n",
       "    .dataframe tbody tr th {\n",
       "        vertical-align: top;\n",
       "    }\n",
       "\n",
       "    .dataframe thead th {\n",
       "        text-align: right;\n",
       "    }\n",
       "</style>\n",
       "<table border=\"1\" class=\"dataframe\">\n",
       "  <thead>\n",
       "    <tr style=\"text-align: right;\">\n",
       "      <th></th>\n",
       "      <th>item</th>\n",
       "      <th>time</th>\n",
       "      <th>value</th>\n",
       "    </tr>\n",
       "  </thead>\n",
       "  <tbody>\n",
       "    <tr>\n",
       "      <th>0</th>\n",
       "      <td>23</td>\n",
       "      <td>0</td>\n",
       "      <td>9.0</td>\n",
       "    </tr>\n",
       "    <tr>\n",
       "      <th>1</th>\n",
       "      <td>23</td>\n",
       "      <td>1</td>\n",
       "      <td>2.0</td>\n",
       "    </tr>\n",
       "    <tr>\n",
       "      <th>2</th>\n",
       "      <td>23</td>\n",
       "      <td>4</td>\n",
       "      <td>3.0</td>\n",
       "    </tr>\n",
       "    <tr>\n",
       "      <th>3</th>\n",
       "      <td>23</td>\n",
       "      <td>5</td>\n",
       "      <td>4.0</td>\n",
       "    </tr>\n",
       "    <tr>\n",
       "      <th>4</th>\n",
       "      <td>11</td>\n",
       "      <td>32</td>\n",
       "      <td>5.0</td>\n",
       "    </tr>\n",
       "    <tr>\n",
       "      <th>5</th>\n",
       "      <td>11</td>\n",
       "      <td>34</td>\n",
       "      <td>6.0</td>\n",
       "    </tr>\n",
       "    <tr>\n",
       "      <th>6</th>\n",
       "      <td>11</td>\n",
       "      <td>35</td>\n",
       "      <td>7.0</td>\n",
       "    </tr>\n",
       "  </tbody>\n",
       "</table>\n",
       "</div>"
      ],
      "text/plain": [
       "   item  time  value\n",
       "0    23     0    9.0\n",
       "1    23     1    2.0\n",
       "2    23     4    3.0\n",
       "3    23     5    4.0\n",
       "4    11    32    5.0\n",
       "5    11    34    6.0\n",
       "6    11    35    7.0"
      ]
     },
     "execution_count": 7,
     "metadata": {},
     "output_type": "execute_result"
    }
   ],
   "source": [
    "# dataframe to test\n",
    "df = pd.DataFrame(\n",
    "    {\n",
    "        \"item\": [23, 23, 23, 23, 11, 11, 11],\n",
    "        \"time\": [0, 1, 4, 5, 32, 34, 35],\n",
    "        \"value\": [9.0, 2.0, 3.0, 4.0, 5.0, 6.0, 7.0],\n",
    "    }\n",
    ")\n",
    "\n",
    "df"
   ]
  },
  {
   "cell_type": "code",
   "execution_count": 8,
   "id": "fdfe6c24",
   "metadata": {},
   "outputs": [],
   "source": [
    "# test the function\n",
    "new_tensor = create_lag_matrix(df, 2)"
   ]
  },
  {
   "cell_type": "code",
   "execution_count": 9,
   "id": "15a15eb8",
   "metadata": {},
   "outputs": [
    {
     "data": {
      "text/plain": [
       "tensor([[nan, nan],\n",
       "        [nan, 9.],\n",
       "        [nan, nan],\n",
       "        [nan, 3.],\n",
       "        [nan, nan],\n",
       "        [5., nan],\n",
       "        [nan, 6.]])"
      ]
     },
     "execution_count": 9,
     "metadata": {},
     "output_type": "execute_result"
    }
   ],
   "source": [
    "# show the resulting tensor\n",
    "new_tensor"
   ]
  },
  {
   "cell_type": "code",
   "execution_count": null,
   "id": "a0256875",
   "metadata": {},
   "outputs": [],
   "source": []
  }
 ],
 "metadata": {
  "kernelspec": {
   "display_name": "Python [conda env:pytorch_env] *",
   "language": "python",
   "name": "conda-env-pytorch_env-py"
  },
  "language_info": {
   "codemirror_mode": {
    "name": "ipython",
    "version": 3
   },
   "file_extension": ".py",
   "mimetype": "text/x-python",
   "name": "python",
   "nbconvert_exporter": "python",
   "pygments_lexer": "ipython3",
   "version": "3.7.1"
  }
 },
 "nbformat": 4,
 "nbformat_minor": 5
}
