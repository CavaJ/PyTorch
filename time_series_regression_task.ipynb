{
 "cells": [
  {
   "cell_type": "code",
   "execution_count": 37,
   "id": "745f4a44-1e76-4297-8e0b-40dc457273d4",
   "metadata": {},
   "outputs": [],
   "source": [
    "import pandas as pd\n",
    "from sklearn.model_selection import train_test_split\n",
    "from sklearn.linear_model import LinearRegression\n",
    "from sklearn.metrics import mean_squared_error"
   ]
  },
  {
   "cell_type": "code",
   "execution_count": 38,
   "id": "cb4f0f43-82ee-4415-a33e-02700d1b1df4",
   "metadata": {},
   "outputs": [],
   "source": [
    "# Step 1: Read the data\n",
    "data = pd.read_csv('homework_exampledata.csv', delimiter=';')"
   ]
  },
  {
   "cell_type": "code",
   "execution_count": 39,
   "id": "38047ec4-a4bd-4f1b-9620-76dcffc28481",
   "metadata": {},
   "outputs": [],
   "source": [
    "# clean-up data from nan-values\n",
    "data = data.dropna()"
   ]
  },
  {
   "cell_type": "code",
   "execution_count": 40,
   "id": "eccaddfc-ddcb-4d65-8be0-a2c4933cdebc",
   "metadata": {},
   "outputs": [
    {
     "data": {
      "text/plain": [
       "(49977, 6)"
      ]
     },
     "execution_count": 40,
     "metadata": {},
     "output_type": "execute_result"
    }
   ],
   "source": [
    "# show the shape of the data\n",
    "data.shape"
   ]
  },
  {
   "cell_type": "code",
   "execution_count": 41,
   "id": "1e403bc2-feae-4d6a-a247-4501bb6fe5ee",
   "metadata": {},
   "outputs": [],
   "source": [
    "# Step 2: Pre-process the data\n",
    "# Convert time to a relative time (it's not strictly necessary but sometimes helps)\n",
    "data['time'] = (data['time'] - data['time'].min())"
   ]
  },
  {
   "cell_type": "code",
   "execution_count": 42,
   "id": "1f02a9c8-7065-423d-9ee8-280f2d07ed4c",
   "metadata": {},
   "outputs": [],
   "source": [
    "# Step 3: Split the dataset\n",
    "features = data[['time', 'brake-value', 'yaw-value', 'longitudinal-acceleration', 'lateral-acceleration']]\n",
    "labels = data['velocity-value']\n",
    "X_train, X_test, y_train, y_test = train_test_split(features, labels, test_size=0.2, random_state=42)"
   ]
  },
  {
   "cell_type": "code",
   "execution_count": 43,
   "id": "e69223aa-188f-40bc-a3b4-f005841040c9",
   "metadata": {},
   "outputs": [
    {
     "data": {
      "text/plain": [
       "((39981, 5), (39981,))"
      ]
     },
     "execution_count": 43,
     "metadata": {},
     "output_type": "execute_result"
    }
   ],
   "source": [
    "# shape of training set\n",
    "X_train.shape, y_train.shape"
   ]
  },
  {
   "cell_type": "code",
   "execution_count": 44,
   "id": "5b560ce9-21c0-4460-9e14-030d8b26706e",
   "metadata": {},
   "outputs": [
    {
     "data": {
      "text/plain": [
       "((9996, 5), (9996,))"
      ]
     },
     "execution_count": 44,
     "metadata": {},
     "output_type": "execute_result"
    }
   ],
   "source": [
    "# shape of a test set\n",
    "X_test.shape, y_test.shape"
   ]
  },
  {
   "cell_type": "code",
   "execution_count": 45,
   "id": "6f6a5ed2-3b3a-4b1b-b8bf-23ef7516b8b6",
   "metadata": {},
   "outputs": [
    {
     "data": {
      "text/plain": [
       "LinearRegression()"
      ]
     },
     "execution_count": 45,
     "metadata": {},
     "output_type": "execute_result"
    }
   ],
   "source": [
    "# Step 4: Train a regression model\n",
    "model = LinearRegression()\n",
    "model.fit(X_train, y_train)"
   ]
  },
  {
   "cell_type": "code",
   "execution_count": 46,
   "id": "5ec601b0-b819-4651-9f0e-a3aac392adac",
   "metadata": {},
   "outputs": [
    {
     "name": "stdout",
     "output_type": "stream",
     "text": [
      "Mean Squared Error: 322.73665978714394\n"
     ]
    }
   ],
   "source": [
    "# Step 5: Evaluate the model\n",
    "predictions = model.predict(X_test)\n",
    "mse = mean_squared_error(y_test, predictions)\n",
    "print(f'Mean Squared Error: {mse}')"
   ]
  },
  {
   "cell_type": "markdown",
   "id": "b01987da-315e-427f-9930-149568fbccd1",
   "metadata": {},
   "source": [
    "# Do feature scaling and apply random forest"
   ]
  },
  {
   "cell_type": "code",
   "execution_count": 47,
   "id": "2b55eb1e-8e10-431a-baee-178953ee5795",
   "metadata": {},
   "outputs": [],
   "source": [
    "from sklearn.ensemble import RandomForestRegressor\n",
    "from sklearn.preprocessing import StandardScaler\n",
    "from sklearn.pipeline import make_pipeline"
   ]
  },
  {
   "cell_type": "code",
   "execution_count": 48,
   "id": "13f17d8b-f1e3-4d90-a2dc-b38d226a17a7",
   "metadata": {},
   "outputs": [],
   "source": [
    "# Create a model with feature scaling and Random Forest Regressor\n",
    "model = make_pipeline(\n",
    "    StandardScaler(),\n",
    "    RandomForestRegressor(n_estimators=100, random_state=42)\n",
    ")"
   ]
  },
  {
   "cell_type": "code",
   "execution_count": 49,
   "id": "3bce032d-e287-4370-8c8b-d835b1360ab9",
   "metadata": {},
   "outputs": [
    {
     "data": {
      "text/plain": [
       "Pipeline(steps=[('standardscaler', StandardScaler()),\n",
       "                ('randomforestregressor',\n",
       "                 RandomForestRegressor(random_state=42))])"
      ]
     },
     "execution_count": 49,
     "metadata": {},
     "output_type": "execute_result"
    }
   ],
   "source": [
    "# Fit the model\n",
    "model.fit(X_train, y_train)"
   ]
  },
  {
   "cell_type": "code",
   "execution_count": 50,
   "id": "4c63e405-24fe-4899-8a44-d4697004ab96",
   "metadata": {},
   "outputs": [
    {
     "name": "stdout",
     "output_type": "stream",
     "text": [
      "Mean Squared Error with Random Forest: 6.122983821758704\n"
     ]
    }
   ],
   "source": [
    "# Evaluate the model\n",
    "predictions = model.predict(X_test)\n",
    "mse = mean_squared_error(y_test, predictions)\n",
    "print(f'Mean Squared Error with Random Forest: {mse}')"
   ]
  },
  {
   "cell_type": "markdown",
   "id": "4ed48641-7a72-4f45-b0c9-be6f9872b1a8",
   "metadata": {},
   "source": [
    "# Grid Search to improve the random forest regressor"
   ]
  },
  {
   "cell_type": "code",
   "execution_count": 51,
   "id": "e8e8903b-84ec-4e22-91da-233421172dab",
   "metadata": {},
   "outputs": [],
   "source": [
    "from sklearn.model_selection import GridSearchCV"
   ]
  },
  {
   "cell_type": "code",
   "execution_count": 52,
   "id": "6081e7f6-3911-40ff-a319-c6545f0ce889",
   "metadata": {},
   "outputs": [],
   "source": [
    "param_grid = {\n",
    "    'randomforestregressor__n_estimators': [50, 100, 200],\n",
    "    'randomforestregressor__max_features': ['auto', 'sqrt', 'log2'],\n",
    "    'randomforestregressor__max_depth' : [4, 5, 6, 7, 8],\n",
    "    'randomforestregressor__criterion' :['mse', 'mae']\n",
    "}"
   ]
  },
  {
   "cell_type": "code",
   "execution_count": 53,
   "id": "f98a519b-347e-4dde-8546-ec9fb6b98b4e",
   "metadata": {},
   "outputs": [
    {
     "data": {
      "text/plain": [
       "Pipeline(steps=[('standardscaler', StandardScaler()),\n",
       "                ('randomforestregressor',\n",
       "                 RandomForestRegressor(random_state=42))])"
      ]
     },
     "metadata": {},
     "output_type": "display_data"
    }
   ],
   "source": [
    "# print which model I use currently \n",
    "display(model)"
   ]
  },
  {
   "cell_type": "code",
   "execution_count": null,
   "id": "4bea46c9-f019-4b9c-b264-365af8bea634",
   "metadata": {},
   "outputs": [],
   "source": [
    "# Obtain the best model\n",
    "CV_model = GridSearchCV(estimator=model, param_grid=param_grid, cv=5, n_jobs=-1) # n_jobs=-1, use all processors\n",
    "CV_model.fit(X_train, y_train)\n",
    "print(CV_model.best_params_)"
   ]
  },
  {
   "cell_type": "code",
   "execution_count": null,
   "id": "fbf6e68b-360a-4b52-9181-1576b14e60d8",
   "metadata": {},
   "outputs": [],
   "source": [
    "# Evaluate the model with best parameters\n",
    "predictions = CV_model.predict(X_test)\n",
    "mse = mean_squared_error(y_test, predictions)\n",
    "print(f'Mean Squared Error with Tuned Random Forest: {mse}')"
   ]
  }
 ],
 "metadata": {
  "kernelspec": {
   "display_name": "Python [conda env:pytorch_env] *",
   "language": "python",
   "name": "conda-env-pytorch_env-py"
  },
  "language_info": {
   "codemirror_mode": {
    "name": "ipython",
    "version": 3
   },
   "file_extension": ".py",
   "mimetype": "text/x-python",
   "name": "python",
   "nbconvert_exporter": "python",
   "pygments_lexer": "ipython3",
   "version": "3.7.1"
  }
 },
 "nbformat": 4,
 "nbformat_minor": 5
}
