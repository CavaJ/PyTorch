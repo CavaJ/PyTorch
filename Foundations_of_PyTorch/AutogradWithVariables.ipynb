{
 "cells": [
  {
   "cell_type": "markdown",
   "id": "130f9377",
   "metadata": {},
   "source": [
    "# Demo: Variables and Tensors (Using Autograd with variables)"
   ]
  },
  {
   "cell_type": "code",
   "execution_count": 3,
   "id": "0587e1aa",
   "metadata": {},
   "outputs": [],
   "source": [
    "# When PyTorch was first introduced, the learnable parameters of your neural network, \n",
    "# your model parameters that were tweaked during the training process, were represented using variables.\n",
    "# Variables were specifically tailored to hold values which\n",
    "# changed during training of a neural network.\n",
    "\n",
    "# A variable used to wrap a tensor and had gradients\n",
    "# enabled and was used with autograd. \n",
    "\n",
    "\n",
    "# However, the variable API in PyTorch has been deprecated.\n",
    "# Variables are no longer needed to work with autograd and to store gradients.\n",
    "# Everything that a variable used to hold,\n",
    "# such as the gradient vector, the grad function,\n",
    "# and so on, is now part of the tensor itself.\n",
    "\n",
    "\n",
    "# The variable API still exists in PyTorch and you can use it.\n",
    "# For example, from torch.autograd, you can import the variable module.\n",
    "import torch\n",
    "from torch.autograd import Variable"
   ]
  },
  {
   "cell_type": "code",
   "execution_count": 33,
   "id": "dce69886",
   "metadata": {},
   "outputs": [
    {
     "data": {
      "text/plain": [
       "tensor([9.])"
      ]
     },
     "metadata": {},
     "output_type": "display_data"
    },
    {
     "data": {
      "text/plain": [
       "torch.Tensor"
      ]
     },
     "execution_count": 33,
     "metadata": {},
     "output_type": "execute_result"
    }
   ],
   "source": [
    "# And you can instantiate a variable as you would earlier.\n",
    "# Doing this works as expected, but it simply returns a tensor.\n",
    "var = Variable(torch.FloatTensor([9]))\n",
    "\n",
    "# So the var variable here holds a tensor, a FloatTensor with size 9.\n",
    "display(var)\n",
    "type(var)"
   ]
  },
  {
   "cell_type": "code",
   "execution_count": 34,
   "id": "104da431",
   "metadata": {},
   "outputs": [
    {
     "data": {
      "text/plain": [
       "False"
      ]
     },
     "metadata": {},
     "output_type": "display_data"
    },
    {
     "data": {
      "text/plain": [
       "tensor([9.], requires_grad=True)"
      ]
     },
     "execution_count": 34,
     "metadata": {},
     "output_type": "execute_result"
    }
   ],
   "source": [
    "# And really now everything that was true of a variable is true of this tensor.\n",
    "# Its requires_grad, property is set to false by default,\n",
    "# and you can turn this on by calling requires_grad_() on it.\n",
    "display(var.requires_grad)\n",
    "\n",
    "# turn requires_grad property on.\n",
    "var.requires_grad_()"
   ]
  },
  {
   "cell_type": "code",
   "execution_count": 35,
   "id": "3b7bc404",
   "metadata": {},
   "outputs": [
    {
     "data": {
      "text/plain": [
       "True"
      ]
     },
     "metadata": {},
     "output_type": "display_data"
    }
   ],
   "source": [
    "# requires_grad_() updares requires_grad property on the tensor,\n",
    "# that is the variable here, in place.\n",
    "display(var.requires_grad)"
   ]
  },
  {
   "cell_type": "code",
   "execution_count": 36,
   "id": "14e814cf",
   "metadata": {},
   "outputs": [
    {
     "name": "stdout",
     "output_type": "stream",
     "text": [
      "<class 'torch.Tensor'>\n",
      "<class 'torch.Tensor'>\n"
     ]
    },
    {
     "data": {
      "text/plain": [
       "tensor([3.], requires_grad=True)"
      ]
     },
     "metadata": {},
     "output_type": "display_data"
    },
    {
     "data": {
      "text/plain": [
       "tensor([7.], requires_grad=True)"
      ]
     },
     "metadata": {},
     "output_type": "display_data"
    }
   ],
   "source": [
    "# So even though you can use the variable API as you did earlier in PyTorch,\n",
    "# when you instantiate a variable with requires_grad true,\n",
    "# what you get is a tensor.\n",
    "\n",
    "# w1 is a tensor and w2 is a tensor as well.\n",
    "w1 = Variable(torch.FloatTensor([3]), requires_grad=True)\n",
    "w2 = Variable(torch.FloatTensor([7]), requires_grad=True)\n",
    "print(type(w1))\n",
    "print(type(w2))\n",
    "\n",
    "display(w1)\n",
    "display(w2)"
   ]
  },
  {
   "cell_type": "code",
   "execution_count": 37,
   "id": "6c57b628",
   "metadata": {},
   "outputs": [
    {
     "data": {
      "text/plain": [
       "tensor([27.], grad_fn=<MulBackward0>)"
      ]
     },
     "execution_count": 37,
     "metadata": {},
     "output_type": "execute_result"
    }
   ],
   "source": [
    "# Let's say you multiply these two variables\n",
    "# instantiated using the variable class, the result will be a tensor.\n",
    "result_var = var * w1\n",
    "\n",
    "# So really, variables have just disappeared.\n",
    "# You only work with tensors now in PyTorch.\n",
    "# resulting var (here tensor) will have a grad function of MulBackward propagated from the last operation that created it.\n",
    "result_var"
   ]
  },
  {
   "cell_type": "code",
   "execution_count": 38,
   "id": "dc024b33",
   "metadata": {},
   "outputs": [
    {
     "data": {
      "text/plain": [
       "True"
      ]
     },
     "execution_count": 38,
     "metadata": {},
     "output_type": "execute_result"
    }
   ],
   "source": [
    "# The result grad tensor (result_var) has the grad function MulBackward.\n",
    "# This is the function that created this tensor and it\n",
    "# has requires_grad set to true.\n",
    "result_var.requires_grad"
   ]
  },
  {
   "cell_type": "code",
   "execution_count": 39,
   "id": "94943e5c",
   "metadata": {},
   "outputs": [],
   "source": [
    "# And exactly like we did with tensors earlier,\n",
    "# calling result_var.backward,\n",
    "# we'll calculate gradients for all of the input tensors.\n",
    "result_var.backward()"
   ]
  },
  {
   "cell_type": "code",
   "execution_count": 40,
   "id": "943a4d18",
   "metadata": {},
   "outputs": [
    {
     "data": {
      "text/plain": [
       "tensor([9.])"
      ]
     },
     "execution_count": 40,
     "metadata": {},
     "output_type": "execute_result"
    }
   ],
   "source": [
    "# w1.grad contains the gradients for w1 with respect to the result var.\n",
    "w1.grad"
   ]
  },
  {
   "cell_type": "code",
   "execution_count": 41,
   "id": "ca324c73",
   "metadata": {},
   "outputs": [],
   "source": [
    "# W2.grad was not involved in the operations, so there are no gradients here.\n",
    "w2.grad # not used in computation graph"
   ]
  },
  {
   "cell_type": "code",
   "execution_count": 43,
   "id": "d6c3b8b2",
   "metadata": {},
   "outputs": [
    {
     "data": {
      "text/plain": [
       "tensor([3.])"
      ]
     },
     "execution_count": 43,
     "metadata": {},
     "output_type": "execute_result"
    }
   ],
   "source": [
    "# And var.grad will contain gradients as well.\n",
    "var.grad\n",
    "\n",
    "# So when you're working with PyTorch today, you only work with tensors.\n",
    "# You don't have to worry about variables."
   ]
  },
  {
   "cell_type": "code",
   "execution_count": null,
   "id": "81ae2157",
   "metadata": {},
   "outputs": [],
   "source": []
  }
 ],
 "metadata": {
  "kernelspec": {
   "display_name": "Python [conda env:pytorch_env] *",
   "language": "python",
   "name": "conda-env-pytorch_env-py"
  },
  "language_info": {
   "codemirror_mode": {
    "name": "ipython",
    "version": 3
   },
   "file_extension": ".py",
   "mimetype": "text/x-python",
   "name": "python",
   "nbconvert_exporter": "python",
   "pygments_lexer": "ipython3",
   "version": "3.7.1"
  }
 },
 "nbformat": 4,
 "nbformat_minor": 5
}
