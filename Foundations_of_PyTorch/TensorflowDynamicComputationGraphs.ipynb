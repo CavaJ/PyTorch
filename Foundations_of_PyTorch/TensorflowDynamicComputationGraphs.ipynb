{
 "cells": [
  {
   "cell_type": "markdown",
   "id": "9bc0b52f",
   "metadata": {},
   "source": [
    "# Demo: Dynamic Computation Graphs in Tensorflow with Eager Execution"
   ]
  },
  {
   "cell_type": "markdown",
   "id": "41093b84",
   "metadata": {},
   "source": [
    "Until about the end of 2017, TensorFlow only supported static computation graphs,\n",
    "which worked, as we saw in an earlier demo.\n",
    "Contributors to TensorFlow soon realized that dynamic\n",
    "computation graphs were far easier when you wanted to quickly prototype your neural network models, \n",
    "which is why they added dynamic computation graph support to TensorFlow,\n",
    "and this is available using something called eager execution,\n",
    "the imperative programming environment in TensorFlow that\n",
    "evaluates operations immediately without you having to define a\n",
    "static computation graph and then running it.\n",
    "The combination of eager execution,\n",
    "along with the Keras high-level API to build your models, makes PyTorch and TensorFlow very close.\n",
    "It's hard to choose between them."
   ]
  },
  {
   "cell_type": "code",
   "execution_count": 1,
   "id": "a2c7de9f",
   "metadata": {},
   "outputs": [],
   "source": [
    "# Let's go ahead and import the numpy, as well as the tensorflow libraries.\n",
    "\n",
    "import numpy as np\n",
    "import tensorflow as tf"
   ]
  },
  {
   "cell_type": "code",
   "execution_count": 2,
   "id": "ab844c52",
   "metadata": {},
   "outputs": [
    {
     "name": "stdout",
     "output_type": "stream",
     "text": [
      "WARNING:tensorflow:From C:\\Users\\CavaJ\\AppData\\Local\\Temp\\ipykernel_19700\\817633580.py:5: The name tf.enable_eager_execution is deprecated. Please use tf.compat.v1.enable_eager_execution instead.\n",
      "\n"
     ]
    }
   ],
   "source": [
    "# In order to use TensorFlow in eager execution mode,\n",
    "# eager execution should be enabled at the very start of your program or session.\n",
    "# The mode has to be set up front before you write any lines of TensorFlow code.\n",
    "\n",
    "tf.enable_eager_execution()"
   ]
  },
  {
   "cell_type": "code",
   "execution_count": 3,
   "id": "307ed181",
   "metadata": {},
   "outputs": [
    {
     "data": {
      "text/plain": [
       "True"
      ]
     },
     "execution_count": 3,
     "metadata": {},
     "output_type": "execute_result"
    }
   ],
   "source": [
    "# You can check to see whether TensorFlow is in the eager\n",
    "# execution mode by calling tf.executing_eagerly().\n",
    "\n",
    "tf.executing_eagerly()"
   ]
  },
  {
   "cell_type": "code",
   "execution_count": 4,
   "id": "4310c3f5",
   "metadata": {},
   "outputs": [],
   "source": [
    "# Let's create the same computation graph that we had worked with earlier.\n",
    "# We have W, x, and b,\n",
    "# and I want to calculate y is equal to W multiplied by x plus b.\n",
    "# Notice that W and b are both variables and x is a constant.\n",
    "# Now placeholders do not work in eager execution mode,\n",
    "# so you can only use variables and constants.\n",
    "# This should intuitively make sense because if you're\n",
    "# executing as you build your graph,\n",
    "# you don't really need a placeholder to feed in data at the time of execution.\n",
    "\n",
    "W = tf.Variable(6, name = 'var_W')\n",
    "x = tf.constant([10, 20, 30], name = 'x')\n",
    "b = tf.Variable(3, name = 'constant_b')"
   ]
  },
  {
   "cell_type": "code",
   "execution_count": 6,
   "id": "03218e69",
   "metadata": {},
   "outputs": [
    {
     "data": {
      "text/plain": [
       "<tf.Variable 'var_W:0' shape=() dtype=int32, numpy=6>"
      ]
     },
     "execution_count": 6,
     "metadata": {},
     "output_type": "execute_result"
    }
   ],
   "source": [
    "# W is a variable and earlier we could not view the contents of W without\n",
    "# running a variables initializer within a session.\n",
    "# But in eager execution mode, you can view all of the details of W,\n",
    "# as well as the current value that it's initialized to.\n",
    "# The initialization of W happens right away when you're in eager execution mode.\n",
    "\n",
    "W"
   ]
  },
  {
   "cell_type": "code",
   "execution_count": 7,
   "id": "73336d51",
   "metadata": {},
   "outputs": [
    {
     "data": {
      "text/plain": [
       "<tf.Tensor: id=8, shape=(3,), dtype=int32, numpy=array([10, 20, 30])>"
      ]
     },
     "execution_count": 7,
     "metadata": {},
     "output_type": "execute_result"
    }
   ],
   "source": [
    "# You can see that x are constant also has its value assigned.\n",
    "# All of the other details are visible, along with the current value of x.\n",
    "\n",
    "x"
   ]
  },
  {
   "cell_type": "code",
   "execution_count": 8,
   "id": "505e7fa6",
   "metadata": {},
   "outputs": [
    {
     "data": {
      "text/plain": [
       "<tf.Variable 'constant_b:0' shape=() dtype=int32, numpy=3>"
      ]
     },
     "execution_count": 8,
     "metadata": {},
     "output_type": "execute_result"
    }
   ],
   "source": [
    "# The same is true for the other variable that we instantiated.\n",
    "# We did not need to run the variable initializer in order to view its contents,\n",
    "# in order for the contents to be assigned to the variable.\n",
    "\n",
    "b"
   ]
  },
  {
   "cell_type": "code",
   "execution_count": 9,
   "id": "d0259e0d",
   "metadata": {},
   "outputs": [
    {
     "data": {
      "text/plain": [
       "<tf.Tensor: id=23, shape=(3,), dtype=int32, numpy=array([ 63, 123, 183])>"
      ]
     },
     "execution_count": 9,
     "metadata": {},
     "output_type": "execute_result"
    }
   ],
   "source": [
    "# Let's now perform our operation y is equal to W multiplied by x plus b.\n",
    "y = W * x + b # Earlier this just defined the computation graph,\n",
    "\n",
    "\n",
    "# now if you take a look at the value of y,\n",
    "# you'll find that the computation graph was executed as well.\n",
    "# In eager execution mode,\n",
    "# the final calculated value for y is available right there for you.\n",
    "# So the computation graph was executed as we defined it.\n",
    "y"
   ]
  },
  {
   "cell_type": "code",
   "execution_count": 11,
   "id": "703947c8",
   "metadata": {},
   "outputs": [
    {
     "name": "stdout",
     "output_type": "stream",
     "text": [
      "tf.Tensor([ 63 123 183], shape=(3,), dtype=int32)\n"
     ]
    }
   ],
   "source": [
    "# If you print out the value of y,\n",
    "# you'll see that it's an integer tensor with the value 63 63.\n",
    "print(y)"
   ]
  },
  {
   "cell_type": "code",
   "execution_count": 12,
   "id": "1b46717f",
   "metadata": {},
   "outputs": [
    {
     "name": "stdout",
     "output_type": "stream",
     "text": [
      "tf.Tensor([ 60 120 180], shape=(3,), dtype=int32)\n"
     ]
    }
   ],
   "source": [
    "# Exactly like with PyTorch,\n",
    "# you can print out intermediate values by performing calculations on the fly.\n",
    "print(W*x)"
   ]
  },
  {
   "cell_type": "code",
   "execution_count": 14,
   "id": "2ae2a7df",
   "metadata": {},
   "outputs": [
    {
     "data": {
      "text/plain": [
       "array([<tf.Tensor: id=37, shape=(), dtype=int32, numpy=60>,\n",
       "       <tf.Tensor: id=40, shape=(), dtype=int32, numpy=120>,\n",
       "       <tf.Tensor: id=43, shape=(), dtype=int32, numpy=180>], dtype=object)"
      ]
     },
     "execution_count": 14,
     "metadata": {},
     "output_type": "execute_result"
    }
   ],
   "source": [
    "# Now in eager execution mode,\n",
    "# the behavior of the TensorFlow graphs are very similar to graphs in PyTorch.\n",
    "# When you're running in eager execution mode in TensorFlow,\n",
    "# you can also perform NumPy operations on your tensors.\n",
    "\n",
    "# np.multiply will multiply W and x.\n",
    "# And you can see that the result here of our NumPy\n",
    "# multiplication operation is a NumPy array of tensors.\n",
    "np_result = np.multiply(W, x)\n",
    "\n",
    "np_result"
   ]
  },
  {
   "cell_type": "code",
   "execution_count": 15,
   "id": "9855941a",
   "metadata": {},
   "outputs": [
    {
     "data": {
      "text/plain": [
       "6"
      ]
     },
     "execution_count": 15,
     "metadata": {},
     "output_type": "execute_result"
    }
   ],
   "source": [
    "# Just like with PyTorch,\n",
    "# you can now access the underlying numpy array associated with any tensor,\n",
    "# by calling W.numpy.\n",
    "# Here is the numpy array associated with W.\n",
    "\n",
    "W.numpy()"
   ]
  },
  {
   "cell_type": "code",
   "execution_count": 16,
   "id": "e7af5fbd",
   "metadata": {},
   "outputs": [
    {
     "data": {
      "text/plain": [
       "array([ 63, 123, 183])"
      ]
     },
     "execution_count": 16,
     "metadata": {},
     "output_type": "execute_result"
    }
   ],
   "source": [
    "# and y.numpy will give you the corresponding numpy array.\n",
    "y.numpy()"
   ]
  },
  {
   "cell_type": "code",
   "execution_count": 17,
   "id": "0688f8a8",
   "metadata": {},
   "outputs": [
    {
     "data": {
      "text/plain": [
       "numpy.int32"
      ]
     },
     "execution_count": 17,
     "metadata": {},
     "output_type": "execute_result"
    }
   ],
   "source": [
    "type(W.numpy())"
   ]
  },
  {
   "cell_type": "code",
   "execution_count": 18,
   "id": "40d94a85",
   "metadata": {},
   "outputs": [
    {
     "data": {
      "text/plain": [
       "numpy.ndarray"
      ]
     },
     "execution_count": 18,
     "metadata": {},
     "output_type": "execute_result"
    }
   ],
   "source": [
    "type(y.numpy())"
   ]
  },
  {
   "cell_type": "markdown",
   "id": "ff7ec2c4",
   "metadata": {},
   "source": [
    "# Debugging in PyTorch"
   ]
  },
  {
   "cell_type": "markdown",
   "id": "d14c8d4b",
   "metadata": {},
   "source": [
    "Before we complete this module, let's quickly talk about how debugging works in PyTorch.\n",
    "You'll find that debugging in PyTorch is just like debugging Python.\n",
    "You can use pdb, breakpoints, everything that you do with normal Python code,\n",
    "you can use with PyTorch.\n",
    "This is not true in the case of debugging TensorFlow programs.\n",
    "If you're working with Python, pdb is a standard Python debugger that you use,\n",
    "even for normal Python code,\n",
    "and this is the same thing which can be used with PyTorch.\n",
    "The backward pass through your neural network where you compute\n",
    "gradients and tweak model parameters can also be debugged by\n",
    "instrumenting your code with pdb.set_trace().\n",
    "Using pdb, you can step through the forward,\n",
    "as well as the backward passes, in the training of your neural network."
   ]
  },
  {
   "cell_type": "markdown",
   "id": "49271373",
   "metadata": {},
   "source": [
    "# Debugging in TensorFlow"
   ]
  },
  {
   "cell_type": "markdown",
   "id": "9b5e68b0",
   "metadata": {},
   "source": [
    "On the other hand, debugging TensorFlow is actually quite hard,\n",
    "\n",
    "and there is an entire course on debugging TensorFlow applications on Pluralsight.\n",
    "\n",
    "There are different ways to debug.\n",
    "\n",
    "You can fetch tensors using session.run(),\n",
    "\n",
    "you can print tensors using special operations like tf.Print(),\n",
    "\n",
    "you can use tf.Assert statements,\n",
    "\n",
    "you can interpose Python code using tf.py_func() into your TensorFlow execution,\n",
    "\n",
    "or you can use a special debugger called tfdbg.\n",
    "\n",
    "Because the TensorFlow static computation graph involves\n",
    "\n",
    "instantiating a session environment, you need this special debugger.\n",
    "\n",
    "Ordinary Python debuggers do not allow you to debug the training\n",
    "\n",
    "phase of the neural network in TensorFlow."
   ]
  },
  {
   "cell_type": "code",
   "execution_count": null,
   "id": "7db965c3",
   "metadata": {},
   "outputs": [],
   "source": []
  }
 ],
 "metadata": {
  "kernelspec": {
   "display_name": "Python [conda env:pytorch_env] *",
   "language": "python",
   "name": "conda-env-pytorch_env-py"
  },
  "language_info": {
   "codemirror_mode": {
    "name": "ipython",
    "version": 3
   },
   "file_extension": ".py",
   "mimetype": "text/x-python",
   "name": "python",
   "nbconvert_exporter": "python",
   "pygments_lexer": "ipython3",
   "version": "3.7.1"
  }
 },
 "nbformat": 4,
 "nbformat_minor": 5
}
