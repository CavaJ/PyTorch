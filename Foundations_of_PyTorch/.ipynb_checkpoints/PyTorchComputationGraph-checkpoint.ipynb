{
 "cells": [
  {
   "cell_type": "markdown",
   "id": "91f7a944",
   "metadata": {},
   "source": [
    "# Demo: Building Dynamic Computation Graphs with PyTorch"
   ]
  },
  {
   "cell_type": "code",
   "execution_count": 1,
   "id": "35e86b5f",
   "metadata": {
    "scrolled": true
   },
   "outputs": [],
   "source": [
    "import numpy as np\n",
    "import torch\n",
    "import torch.nn as nn"
   ]
  },
  {
   "cell_type": "code",
   "execution_count": 2,
   "id": "bed771ef",
   "metadata": {
    "scrolled": true
   },
   "outputs": [],
   "source": [
    "W = torch.rand(6)\n",
    "\n",
    "x = torch.tensor([10.0, 10.0, 10.0, 10.0, 10.0, 10.0])\n",
    "\n",
    "b = torch.tensor(3)"
   ]
  },
  {
   "cell_type": "code",
   "execution_count": 3,
   "id": "8ef02dea",
   "metadata": {
    "scrolled": true
   },
   "outputs": [
    {
     "data": {
      "text/plain": [
       "tensor([0.3046, 0.1329, 0.2175, 0.2492, 0.6001, 0.0242])"
      ]
     },
     "metadata": {},
     "output_type": "display_data"
    },
    {
     "data": {
      "text/plain": [
       "tensor([10., 10., 10., 10., 10., 10.])"
      ]
     },
     "metadata": {},
     "output_type": "display_data"
    },
    {
     "data": {
      "text/plain": [
       "tensor(3)"
      ]
     },
     "metadata": {},
     "output_type": "display_data"
    }
   ],
   "source": [
    "display(W)\n",
    "\n",
    "display(x)\n",
    "\n",
    "display(b)"
   ]
  },
  {
   "cell_type": "code",
   "execution_count": 4,
   "id": "b9332fe3",
   "metadata": {
    "scrolled": true
   },
   "outputs": [
    {
     "data": {
      "text/plain": [
       "tensor([6.0464, 4.3286, 5.1751, 5.4920, 9.0012, 3.2421])"
      ]
     },
     "metadata": {},
     "output_type": "display_data"
    }
   ],
   "source": [
    "# Though the following is a simple mathematical operation, this is actually a computation graph that you've constructed.\n",
    "# Now when you execute this bit of code, not only are you creating the computation graph, you're also executing it,\n",
    "# and the result of this computation will be stored in the y tensor.\n",
    "y = W*x + b\n",
    "\n",
    "# proof of the imperative nature of the PyTorch execution style: As you build your graph, you're executing it dynamically.\n",
    "\n",
    "display(y)"
   ]
  },
  {
   "cell_type": "code",
   "execution_count": 5,
   "id": "ea9d4002",
   "metadata": {
    "scrolled": true
   },
   "outputs": [
    {
     "data": {
      "text/plain": [
       "tensor([3.0464, 1.3286, 2.1751, 2.4920, 6.0012, 0.2421])"
      ]
     },
     "execution_count": 5,
     "metadata": {},
     "output_type": "execute_result"
    }
   ],
   "source": [
    "# Let's say you perform another calculation, W multiplied by x. This is an intermediate result, you get the \n",
    "# result right here on your screen. When you perform operations on actual tensors in PyTorch, the results are available for you.\n",
    "# That is the nature of a dynamic computation graph.\n",
    "W * x"
   ]
  },
  {
   "cell_type": "code",
   "execution_count": 6,
   "id": "0ced9f4d",
   "metadata": {
    "scrolled": true
   },
   "outputs": [
    {
     "data": {
      "text/plain": [
       "tensor(3)"
      ]
     },
     "execution_count": 6,
     "metadata": {},
     "output_type": "execute_result"
    }
   ],
   "source": [
    "b"
   ]
  },
  {
   "cell_type": "code",
   "execution_count": 7,
   "id": "acd395aa",
   "metadata": {
    "scrolled": true
   },
   "outputs": [],
   "source": [
    "W1 = torch.tensor(6)\n",
    "W2 = torch.tensor(6)\n",
    "W3 = torch.tensor(6)\n",
    "\n",
    "x1 = torch.tensor([2, 2, 2])\n",
    "x2 = torch.tensor([3, 3, 3])\n",
    "x3 = torch.tensor([4, 4, 4])\n",
    "\n",
    "b = torch.tensor(10)"
   ]
  },
  {
   "cell_type": "code",
   "execution_count": 8,
   "id": "b90a83e3",
   "metadata": {
    "scrolled": true
   },
   "outputs": [
    {
     "data": {
      "text/plain": [
       "(tensor(6), tensor(6), tensor(6))"
      ]
     },
     "execution_count": 8,
     "metadata": {},
     "output_type": "execute_result"
    }
   ],
   "source": [
    "W1, W2, W3"
   ]
  },
  {
   "cell_type": "code",
   "execution_count": 9,
   "id": "485e6ef4",
   "metadata": {
    "scrolled": true
   },
   "outputs": [
    {
     "data": {
      "text/plain": [
       "tensor([30, 30, 30])"
      ]
     },
     "execution_count": 9,
     "metadata": {},
     "output_type": "execute_result"
    }
   ],
   "source": [
    "# And if you calculate intermediate values,\n",
    "# the operation is immediately performed and the results displayed to you.\n",
    "intermediate_value = W1 * x1 + W2 * x2\n",
    "\n",
    "intermediate_value"
   ]
  },
  {
   "cell_type": "code",
   "execution_count": 10,
   "id": "9f0fc29b",
   "metadata": {
    "scrolled": true
   },
   "outputs": [
    {
     "data": {
      "text/plain": [
       "tensor([64, 64, 64])"
      ]
     },
     "execution_count": 10,
     "metadata": {},
     "output_type": "execute_result"
    }
   ],
   "source": [
    "# Even though you might not fully realize the dynamic nature, what you're seeing here is the dynamic computation graph that\n",
    "# PyTorch builds and executes simultaneously.\n",
    "# You specify the nature of your operations, whether it's for a neural network or even for simple computations.\n",
    "# These operations and tensors make up your computation graph, and when you run that code,\n",
    "# the computation graph is built and executed right away.\n",
    "\n",
    "final_value = W1 * x1 + W2 * x2 + W3 * x3 + b\n",
    "\n",
    "final_value"
   ]
  },
  {
   "cell_type": "markdown",
   "id": "a5cfcb79",
   "metadata": {},
   "source": [
    "# Demo: Visualizing Neural Networks in PyTorch Using Hidden Layer"
   ]
  },
  {
   "cell_type": "markdown",
   "id": "776922de",
   "metadata": {},
   "source": [
    "TensorBoard is a great interactive tool and it really helps when you want to debug your static computation graphs.\n",
    "Now there isn't really an equivalent in PyTorch, though I'm sure that someone will build it soon,\n",
    "but for now, you can use hiddenlayer in order to visualize your neural networks.\n",
    "\n",
    "Hiddenlayer was launched very recently, in November 2018. This is an open source package to quickly visualize neural network\n",
    "layers."
   ]
  },
  {
   "cell_type": "code",
   "execution_count": 11,
   "id": "54608234",
   "metadata": {
    "scrolled": true
   },
   "outputs": [],
   "source": [
    "import hiddenlayer as hl"
   ]
  },
  {
   "cell_type": "code",
   "execution_count": 12,
   "id": "37a5e1e2",
   "metadata": {
    "scrolled": true
   },
   "outputs": [],
   "source": [
    "# I'm going to set up some toy data here that you can use to pass into the neural network that we'll construct,\n",
    "# however we won't really be using this toy data here in this demo.\n",
    "\n",
    "x_train = np.array([\n",
    "                    [1.7], \n",
    "                    [2.5], \n",
    "                    [5.5], \n",
    "                    [7.9], \n",
    "                    [8.8],\n",
    "                    [2.4], \n",
    "                    [2.4], \n",
    "                    [8.89], \n",
    "                    [5], \n",
    "                    [4.4]\n",
    "                   ],\n",
    "                   dtype=np.float32)\n",
    "\n",
    "y_train = np.array([\n",
    "                    [1.9], \n",
    "                    [2.68], \n",
    "                    [4.22], \n",
    "                    [8.19], \n",
    "                    [9.69],\n",
    "                    [3.4], \n",
    "                    [2.6], \n",
    "                    [8.8], \n",
    "                    [5.6], \n",
    "                    [4.7]\n",
    "                   ],\n",
    "                   dtype=np.float32)"
   ]
  },
  {
   "cell_type": "code",
   "execution_count": 13,
   "id": "1dd3d850",
   "metadata": {
    "scrolled": true
   },
   "outputs": [
    {
     "data": {
      "text/plain": [
       "torch.Size([10, 1])"
      ]
     },
     "metadata": {},
     "output_type": "display_data"
    },
    {
     "data": {
      "text/plain": [
       "torch.Size([10, 1])"
      ]
     },
     "metadata": {},
     "output_type": "display_data"
    }
   ],
   "source": [
    "# So I have set up X_train and Y_train in the form of tensors.\n",
    "X_train = torch.tensor(x_train)\n",
    "Y_train = torch.tensor(y_train)\n",
    "\n",
    "display(X_train.shape)\n",
    "display(Y_train.shape)"
   ]
  },
  {
   "cell_type": "code",
   "execution_count": 14,
   "id": "8ec1fe2f",
   "metadata": {
    "scrolled": true
   },
   "outputs": [],
   "source": [
    "# I'm now going to construct a simple neural network using PyTorch layers.\n",
    "# The input feature is just 1, output value is just 1,\n",
    "# our hidden layer will contain 100 neurons.\n",
    "\n",
    "inp = 1\n",
    "out = 1\n",
    "hid = 100"
   ]
  },
  {
   "cell_type": "code",
   "execution_count": 15,
   "id": "6f30d056",
   "metadata": {
    "scrolled": true
   },
   "outputs": [],
   "source": [
    "# A neural network is, after all, a computation graph at heart.\n",
    "# As seen that the hidden layer package is rather lightweight and it doesn't really work with simple computation graphs \n",
    "# (e.g. just y = W*x + b), \n",
    "# which is why I'm setting up a neural network model to visualize. We'll only be constructing this neural network,\n",
    "# we won't really run data through it. This is a simple sequential network with two linear layers:\n",
    "# 1. A linear layer which takes the input and has 100 neurons, that is the hidden layer (notice that there is no input layer)\n",
    "# 2. and a linear layer for the output.\n",
    "\n",
    "# This is our neural network, model1, with two linear layers.\n",
    "model1 = torch.nn.Sequential(torch.nn.Linear(inp, hid),\n",
    "                            torch.nn.Linear(hid, out))"
   ]
  },
  {
   "cell_type": "code",
   "execution_count": 16,
   "id": "f852b491",
   "metadata": {
    "scrolled": true
   },
   "outputs": [
    {
     "name": "stderr",
     "output_type": "stream",
     "text": [
      "\r\n",
      "(dot.exe:10956): Pango-WARNING **: couldn't load font \"Times Not-Rotated 10\", falling back to \"Sans Not-Rotated 10\", expect ugly output.\r\n"
     ]
    },
    {
     "data": {
      "image/svg+xml": [
       "<?xml version=\"1.0\" encoding=\"UTF-8\" standalone=\"no\"?>\r\n",
       "<!DOCTYPE svg PUBLIC \"-//W3C//DTD SVG 1.1//EN\"\r\n",
       " \"http://www.w3.org/Graphics/SVG/1.1/DTD/svg11.dtd\">\r\n",
       "<!-- Generated by graphviz version 8.0.5 (20230430.1635)\r\n",
       " -->\r\n",
       "<!-- Pages: 1 -->\r\n",
       "<svg width=\"198pt\" height=\"117pt\"\r\n",
       " viewBox=\"0.00 0.00 198.00 116.50\" xmlns=\"http://www.w3.org/2000/svg\" xmlns:xlink=\"http://www.w3.org/1999/xlink\">\r\n",
       "<g id=\"graph0\" class=\"graph\" transform=\"scale(1 1) rotate(0) translate(72 80.5)\">\r\n",
       "<polygon fill=\"#ffffff\" stroke=\"none\" points=\"-72,36 -72,-80.5 126,-80.5 126,36 -72,36\"/>\r\n",
       "<!-- 14071694337018854725 -->\r\n",
       "<g id=\"node1\" class=\"node\">\r\n",
       "<title>14071694337018854725</title>\r\n",
       "<polygon fill=\"#e8e8e8\" stroke=\"#000000\" points=\"54,-44.5 0,-44.5 0,0 54,0 54,-44.5\"/>\r\n",
       "<text text-anchor=\"start\" x=\"12.38\" y=\"-27\" font-family=\"Times\" font-size=\"10.00\" fill=\"#000000\">Linear</text>\r\n",
       "<text text-anchor=\"start\" x=\"34.38\" y=\"-5.75\" font-family=\"Times\" font-size=\"10.00\" fill=\"#000000\">x2</text>\r\n",
       "</g>\r\n",
       "</g>\r\n",
       "</svg>\r\n"
      ],
      "text/plain": [
       "<hiddenlayer.graph.Graph at 0x2a01b63bf98>"
      ]
     },
     "execution_count": 16,
     "metadata": {},
     "output_type": "execute_result"
    }
   ],
   "source": [
    "# You can simply call hl, for hidden layer, dot build_graph, pass in the model,\n",
    "# and feed in some test data which match the dimensions\n",
    "# that this neural network expects.\n",
    "# Here we pass in all zeros, just to view the structure of our network,\n",
    "# we pass in 10 data points and there is 1 feature for each data point (since inp is 1)\n",
    "hl.build_graph(model1, torch.zeros([10, 1]))\n",
    "\n",
    "\n",
    "# And here is what the resulting neural network looks like.\n",
    "# There are two linear layers. You can see it multiplied by 2 here, indicating that both of these are linear layers."
   ]
  },
  {
   "cell_type": "code",
   "execution_count": 17,
   "id": "0f39cd54",
   "metadata": {
    "scrolled": true
   },
   "outputs": [
    {
     "name": "stderr",
     "output_type": "stream",
     "text": [
      "\r\n",
      "(dot.exe:17676): Pango-WARNING **: couldn't load font \"Times Not-Rotated 10\", falling back to \"Sans Not-Rotated 10\", expect ugly output.\r\n"
     ]
    },
    {
     "data": {
      "image/svg+xml": [
       "<?xml version=\"1.0\" encoding=\"UTF-8\" standalone=\"no\"?>\r\n",
       "<!DOCTYPE svg PUBLIC \"-//W3C//DTD SVG 1.1//EN\"\r\n",
       " \"http://www.w3.org/Graphics/SVG/1.1/DTD/svg11.dtd\">\r\n",
       "<!-- Generated by graphviz version 8.0.5 (20230430.1635)\r\n",
       " -->\r\n",
       "<!-- Pages: 1 -->\r\n",
       "<svg width=\"581pt\" height=\"162pt\"\r\n",
       " viewBox=\"0.00 0.00 581.00 162.00\" xmlns=\"http://www.w3.org/2000/svg\" xmlns:xlink=\"http://www.w3.org/1999/xlink\">\r\n",
       "<g id=\"graph0\" class=\"graph\" transform=\"scale(1 1) rotate(0) translate(72 126)\">\r\n",
       "<polygon fill=\"#ffffff\" stroke=\"none\" points=\"-72,36 -72,-126 509,-126 509,36 -72,36\"/>\r\n",
       "<!-- /outputs/5 -->\r\n",
       "<g id=\"node1\" class=\"node\">\r\n",
       "<title>/outputs/5</title>\r\n",
       "<polygon fill=\"#e8e8e8\" stroke=\"#000000\" points=\"65.5,-90 0,-90 0,-54 65.5,-54 65.5,-90\"/>\r\n",
       "<text text-anchor=\"start\" x=\"8\" y=\"-68.12\" font-family=\"Times\" font-size=\"10.00\" fill=\"#000000\">Transpose</text>\r\n",
       "</g>\r\n",
       "<!-- /outputs/6 -->\r\n",
       "<g id=\"node2\" class=\"node\">\r\n",
       "<title>/outputs/6</title>\r\n",
       "<polygon fill=\"#e8e8e8\" stroke=\"#000000\" points=\"155.5,-90 101.5,-90 101.5,-54 155.5,-54 155.5,-90\"/>\r\n",
       "<text text-anchor=\"start\" x=\"111.25\" y=\"-68.12\" font-family=\"Times\" font-size=\"10.00\" fill=\"#000000\">MatMul</text>\r\n",
       "</g>\r\n",
       "<!-- /outputs/5&#45;&gt;/outputs/6 -->\r\n",
       "<g id=\"edge1\" class=\"edge\">\r\n",
       "<title>/outputs/5&#45;&gt;/outputs/6</title>\r\n",
       "<path fill=\"none\" stroke=\"#000000\" d=\"M65.75,-72C73.7,-72 82.29,-72 90.46,-72\"/>\r\n",
       "<polygon fill=\"#000000\" stroke=\"#000000\" points=\"90.24,-75.5 100.24,-72 90.24,-68.5 90.24,-75.5\"/>\r\n",
       "</g>\r\n",
       "<!-- /outputs/7 -->\r\n",
       "<g id=\"node3\" class=\"node\">\r\n",
       "<title>/outputs/7</title>\r\n",
       "<polygon fill=\"#e8e8e8\" stroke=\"#000000\" points=\"251.25,-90 197.25,-90 197.25,-54 251.25,-54 251.25,-90\"/>\r\n",
       "<text text-anchor=\"start\" x=\"214.88\" y=\"-68.12\" font-family=\"Times\" font-size=\"10.00\" fill=\"#000000\">Add</text>\r\n",
       "</g>\r\n",
       "<!-- /outputs/6&#45;&gt;/outputs/7 -->\r\n",
       "<g id=\"edge2\" class=\"edge\">\r\n",
       "<title>/outputs/6&#45;&gt;/outputs/7</title>\r\n",
       "<path fill=\"none\" stroke=\"#000000\" d=\"M155.61,-72C165.08,-72 175.97,-72 186.2,-72\"/>\r\n",
       "<polygon fill=\"#000000\" stroke=\"#000000\" points=\"185.95,-75.5 195.95,-72 185.95,-68.5 185.95,-75.5\"/>\r\n",
       "</g>\r\n",
       "<!-- /outputs/9 -->\r\n",
       "<g id=\"node5\" class=\"node\">\r\n",
       "<title>/outputs/9</title>\r\n",
       "<polygon fill=\"#e8e8e8\" stroke=\"#000000\" points=\"347,-63 293,-63 293,-27 347,-27 347,-63\"/>\r\n",
       "<text text-anchor=\"start\" x=\"302.75\" y=\"-41.12\" font-family=\"Times\" font-size=\"10.00\" fill=\"#000000\">MatMul</text>\r\n",
       "</g>\r\n",
       "<!-- /outputs/7&#45;&gt;/outputs/9 -->\r\n",
       "<g id=\"edge3\" class=\"edge\">\r\n",
       "<title>/outputs/7&#45;&gt;/outputs/9</title>\r\n",
       "<path fill=\"none\" stroke=\"#000000\" d=\"M251.36,-64.48C260.93,-61.72 271.95,-58.55 282.28,-55.58\"/>\r\n",
       "<polygon fill=\"#000000\" stroke=\"#000000\" points=\"283.06,-58.71 291.7,-52.57 281.12,-51.98 283.06,-58.71\"/>\r\n",
       "</g>\r\n",
       "<!-- /outputs/8 -->\r\n",
       "<g id=\"node4\" class=\"node\">\r\n",
       "<title>/outputs/8</title>\r\n",
       "<polygon fill=\"#e8e8e8\" stroke=\"#000000\" points=\"257,-36 191.5,-36 191.5,0 257,0 257,-36\"/>\r\n",
       "<text text-anchor=\"start\" x=\"199.5\" y=\"-14.12\" font-family=\"Times\" font-size=\"10.00\" fill=\"#000000\">Transpose</text>\r\n",
       "</g>\r\n",
       "<!-- /outputs/8&#45;&gt;/outputs/9 -->\r\n",
       "<g id=\"edge4\" class=\"edge\">\r\n",
       "<title>/outputs/8&#45;&gt;/outputs/9</title>\r\n",
       "<path fill=\"none\" stroke=\"#000000\" d=\"M257.25,-27.22C265.29,-29.53 273.98,-32.04 282.24,-34.41\"/>\r\n",
       "<polygon fill=\"#000000\" stroke=\"#000000\" points=\"281.16,-38.03 291.74,-37.44 283.1,-31.31 281.16,-38.03\"/>\r\n",
       "</g>\r\n",
       "<!-- /outputs/10 -->\r\n",
       "<g id=\"node6\" class=\"node\">\r\n",
       "<title>/outputs/10</title>\r\n",
       "<polygon fill=\"#e8e8e8\" stroke=\"#000000\" points=\"437,-63 383,-63 383,-27 437,-27 437,-63\"/>\r\n",
       "<text text-anchor=\"start\" x=\"400.62\" y=\"-41.12\" font-family=\"Times\" font-size=\"10.00\" fill=\"#000000\">Add</text>\r\n",
       "</g>\r\n",
       "<!-- /outputs/9&#45;&gt;/outputs/10 -->\r\n",
       "<g id=\"edge5\" class=\"edge\">\r\n",
       "<title>/outputs/9&#45;&gt;/outputs/10</title>\r\n",
       "<path fill=\"none\" stroke=\"#000000\" d=\"M347.4,-45C355.06,-45 363.57,-45 371.76,-45\"/>\r\n",
       "<polygon fill=\"#000000\" stroke=\"#000000\" points=\"371.62,-48.5 381.62,-45 371.62,-41.5 371.62,-48.5\"/>\r\n",
       "</g>\r\n",
       "</g>\r\n",
       "</svg>\r\n"
      ],
      "text/plain": [
       "<hiddenlayer.graph.Graph at 0x2a01b674748>"
      ]
     },
     "execution_count": 17,
     "metadata": {},
     "output_type": "execute_result"
    }
   ],
   "source": [
    "# Our previous input to build_graph had 10 data points.\n",
    "# If you pass in a single data point into your neural network,\n",
    "# I've seen that hidden layer, at least for small networks,\n",
    "# will expand the visualizations in order to show you what each layer contains.\n",
    "\n",
    "hl.build_graph(model1, torch.zeros([1]))"
   ]
  },
  {
   "cell_type": "markdown",
   "id": "b4d874dd",
   "metadata": {},
   "source": [
    "You can see all of the individual operations that are\n",
    "performed within our two linear layers. You can see that the first layer here performs a transpose, a matrix multiplication, \n",
    "and then an add (transpose -> matmul -> add). It's a simple linear layer. \n",
    "And here is our second linear layer (transpose -> matmul -> add), once again transpose, matrix multiplication, and then add."
   ]
  },
  {
   "cell_type": "code",
   "execution_count": 18,
   "id": "56a13867",
   "metadata": {
    "scrolled": true
   },
   "outputs": [],
   "source": [
    "# Let's see a more complex structure of a neural network,\n",
    "# two linear layers followed by sigmoid activation and then another linear layer.\n",
    "# Right now you don't really need to worry about what these layers mean or what they do.\n",
    "# You should just know that they are layers of our neural network and you can visualize them using hidden layer.\n",
    "\n",
    "model2 = torch.nn.Sequential(\n",
    "    torch.nn.Linear(inp, hid),  # Linear layer from inp to hid\n",
    "    torch.nn.Linear(hid, hid),  # Linear layer from hid to hid\n",
    "    torch.nn.Sigmoid(),         # Sigmoid activation function\n",
    "    torch.nn.Linear(hid, out)   # Linear layer from hid to out\n",
    ")"
   ]
  },
  {
   "cell_type": "code",
   "execution_count": 19,
   "id": "3c046db2",
   "metadata": {
    "scrolled": true
   },
   "outputs": [
    {
     "name": "stderr",
     "output_type": "stream",
     "text": [
      "\r\n",
      "(dot.exe:17556): Pango-WARNING **: couldn't load font \"Times Not-Rotated 10\", falling back to \"Sans Not-Rotated 10\", expect ugly output.\r\n"
     ]
    },
    {
     "data": {
      "image/svg+xml": [
       "<?xml version=\"1.0\" encoding=\"UTF-8\" standalone=\"no\"?>\r\n",
       "<!DOCTYPE svg PUBLIC \"-//W3C//DTD SVG 1.1//EN\"\r\n",
       " \"http://www.w3.org/Graphics/SVG/1.1/DTD/svg11.dtd\">\r\n",
       "<!-- Generated by graphviz version 8.0.5 (20230430.1635)\r\n",
       " -->\r\n",
       "<!-- Pages: 1 -->\r\n",
       "<svg width=\"379pt\" height=\"117pt\"\r\n",
       " viewBox=\"0.00 0.00 379.00 116.50\" xmlns=\"http://www.w3.org/2000/svg\" xmlns:xlink=\"http://www.w3.org/1999/xlink\">\r\n",
       "<g id=\"graph0\" class=\"graph\" transform=\"scale(1 1) rotate(0) translate(72 80.5)\">\r\n",
       "<polygon fill=\"#ffffff\" stroke=\"none\" points=\"-72,36 -72,-80.5 307,-80.5 307,36 -72,36\"/>\r\n",
       "<!-- /outputs/9 -->\r\n",
       "<g id=\"node1\" class=\"node\">\r\n",
       "<title>/outputs/9</title>\r\n",
       "<polygon fill=\"#e8e8e8\" stroke=\"#000000\" points=\"145,-40.25 90,-40.25 90,-4.25 145,-4.25 145,-40.25\"/>\r\n",
       "<text text-anchor=\"start\" x=\"98\" y=\"-18.38\" font-family=\"Times\" font-size=\"10.00\" fill=\"#000000\">Sigmoid</text>\r\n",
       "</g>\r\n",
       "<!-- /outputs/10 -->\r\n",
       "<g id=\"node2\" class=\"node\">\r\n",
       "<title>/outputs/10</title>\r\n",
       "<polygon fill=\"#e8e8e8\" stroke=\"#000000\" points=\"235,-40.25 181,-40.25 181,-4.25 235,-4.25 235,-40.25\"/>\r\n",
       "<text text-anchor=\"start\" x=\"193.38\" y=\"-18.38\" font-family=\"Times\" font-size=\"10.00\" fill=\"#000000\">Linear</text>\r\n",
       "</g>\r\n",
       "<!-- /outputs/9&#45;&gt;/outputs/10 -->\r\n",
       "<g id=\"edge1\" class=\"edge\">\r\n",
       "<title>/outputs/9&#45;&gt;/outputs/10</title>\r\n",
       "<path fill=\"none\" stroke=\"#000000\" d=\"M145.05,-22.25C152.91,-22.25 161.66,-22.25 170.05,-22.25\"/>\r\n",
       "<polygon fill=\"#000000\" stroke=\"#000000\" points=\"169.77,-25.75 179.77,-22.25 169.77,-18.75 169.77,-25.75\"/>\r\n",
       "</g>\r\n",
       "<!-- 13396042160474224654 -->\r\n",
       "<g id=\"node3\" class=\"node\">\r\n",
       "<title>13396042160474224654</title>\r\n",
       "<polygon fill=\"#e8e8e8\" stroke=\"#000000\" points=\"54,-44.5 0,-44.5 0,0 54,0 54,-44.5\"/>\r\n",
       "<text text-anchor=\"start\" x=\"12.38\" y=\"-27\" font-family=\"Times\" font-size=\"10.00\" fill=\"#000000\">Linear</text>\r\n",
       "<text text-anchor=\"start\" x=\"34.38\" y=\"-5.75\" font-family=\"Times\" font-size=\"10.00\" fill=\"#000000\">x2</text>\r\n",
       "</g>\r\n",
       "<!-- 13396042160474224654&#45;&gt;/outputs/9 -->\r\n",
       "<g id=\"edge2\" class=\"edge\">\r\n",
       "<title>13396042160474224654&#45;&gt;/outputs/9</title>\r\n",
       "<path fill=\"none\" stroke=\"#000000\" d=\"M54.07,-22.25C61.87,-22.25 70.58,-22.25 78.97,-22.25\"/>\r\n",
       "<polygon fill=\"#000000\" stroke=\"#000000\" points=\"78.69,-25.75 88.69,-22.25 78.69,-18.75 78.69,-25.75\"/>\r\n",
       "</g>\r\n",
       "</g>\r\n",
       "</svg>\r\n"
      ],
      "text/plain": [
       "<hiddenlayer.graph.Graph at 0x2a01b67a940>"
      ]
     },
     "execution_count": 19,
     "metadata": {},
     "output_type": "execute_result"
    }
   ],
   "source": [
    "# Here is what a neural network looks like.\n",
    "# Two linear layers, sigmoid, and then linear.\n",
    "\n",
    "\n",
    "hl.build_graph(model2, torch.zeros([10, 1]))"
   ]
  },
  {
   "cell_type": "code",
   "execution_count": 20,
   "id": "de4845c2",
   "metadata": {
    "scrolled": true
   },
   "outputs": [
    {
     "name": "stderr",
     "output_type": "stream",
     "text": [
      "\r\n",
      "(dot.exe:17944): Pango-WARNING **: couldn't load font \"Times Not-Rotated 10\", falling back to \"Sans Not-Rotated 10\", expect ugly output.\r\n"
     ]
    },
    {
     "data": {
      "image/svg+xml": [
       "<?xml version=\"1.0\" encoding=\"UTF-8\" standalone=\"no\"?>\r\n",
       "<!DOCTYPE svg PUBLIC \"-//W3C//DTD SVG 1.1//EN\"\r\n",
       " \"http://www.w3.org/Graphics/SVG/1.1/DTD/svg11.dtd\">\r\n",
       "<!-- Generated by graphviz version 8.0.5 (20230430.1635)\r\n",
       " -->\r\n",
       "<!-- Pages: 1 -->\r\n",
       "<svg width=\"863pt\" height=\"189pt\"\r\n",
       " viewBox=\"0.00 0.00 862.50 189.00\" xmlns=\"http://www.w3.org/2000/svg\" xmlns:xlink=\"http://www.w3.org/1999/xlink\">\r\n",
       "<g id=\"graph0\" class=\"graph\" transform=\"scale(1 1) rotate(0) translate(72 153)\">\r\n",
       "<polygon fill=\"#ffffff\" stroke=\"none\" points=\"-72,36 -72,-153 790.5,-153 790.5,36 -72,36\"/>\r\n",
       "<!-- /outputs/7 -->\r\n",
       "<g id=\"node1\" class=\"node\">\r\n",
       "<title>/outputs/7</title>\r\n",
       "<polygon fill=\"#e8e8e8\" stroke=\"#000000\" points=\"65.5,-117 0,-117 0,-81 65.5,-81 65.5,-117\"/>\r\n",
       "<text text-anchor=\"start\" x=\"8\" y=\"-95.12\" font-family=\"Times\" font-size=\"10.00\" fill=\"#000000\">Transpose</text>\r\n",
       "</g>\r\n",
       "<!-- /outputs/8 -->\r\n",
       "<g id=\"node2\" class=\"node\">\r\n",
       "<title>/outputs/8</title>\r\n",
       "<polygon fill=\"#e8e8e8\" stroke=\"#000000\" points=\"155.5,-117 101.5,-117 101.5,-81 155.5,-81 155.5,-117\"/>\r\n",
       "<text text-anchor=\"start\" x=\"111.25\" y=\"-95.12\" font-family=\"Times\" font-size=\"10.00\" fill=\"#000000\">MatMul</text>\r\n",
       "</g>\r\n",
       "<!-- /outputs/7&#45;&gt;/outputs/8 -->\r\n",
       "<g id=\"edge1\" class=\"edge\">\r\n",
       "<title>/outputs/7&#45;&gt;/outputs/8</title>\r\n",
       "<path fill=\"none\" stroke=\"#000000\" d=\"M65.75,-99C73.7,-99 82.29,-99 90.46,-99\"/>\r\n",
       "<polygon fill=\"#000000\" stroke=\"#000000\" points=\"90.24,-102.5 100.24,-99 90.24,-95.5 90.24,-102.5\"/>\r\n",
       "</g>\r\n",
       "<!-- /outputs/9 -->\r\n",
       "<g id=\"node3\" class=\"node\">\r\n",
       "<title>/outputs/9</title>\r\n",
       "<polygon fill=\"#e8e8e8\" stroke=\"#000000\" points=\"251.25,-117 197.25,-117 197.25,-81 251.25,-81 251.25,-117\"/>\r\n",
       "<text text-anchor=\"start\" x=\"214.88\" y=\"-95.12\" font-family=\"Times\" font-size=\"10.00\" fill=\"#000000\">Add</text>\r\n",
       "</g>\r\n",
       "<!-- /outputs/8&#45;&gt;/outputs/9 -->\r\n",
       "<g id=\"edge2\" class=\"edge\">\r\n",
       "<title>/outputs/8&#45;&gt;/outputs/9</title>\r\n",
       "<path fill=\"none\" stroke=\"#000000\" d=\"M155.61,-99C165.08,-99 175.97,-99 186.2,-99\"/>\r\n",
       "<polygon fill=\"#000000\" stroke=\"#000000\" points=\"185.95,-102.5 195.95,-99 185.95,-95.5 185.95,-102.5\"/>\r\n",
       "</g>\r\n",
       "<!-- /outputs/11 -->\r\n",
       "<g id=\"node5\" class=\"node\">\r\n",
       "<title>/outputs/11</title>\r\n",
       "<polygon fill=\"#e8e8e8\" stroke=\"#000000\" points=\"347,-90 293,-90 293,-54 347,-54 347,-90\"/>\r\n",
       "<text text-anchor=\"start\" x=\"302.75\" y=\"-68.12\" font-family=\"Times\" font-size=\"10.00\" fill=\"#000000\">MatMul</text>\r\n",
       "</g>\r\n",
       "<!-- /outputs/9&#45;&gt;/outputs/11 -->\r\n",
       "<g id=\"edge3\" class=\"edge\">\r\n",
       "<title>/outputs/9&#45;&gt;/outputs/11</title>\r\n",
       "<path fill=\"none\" stroke=\"#000000\" d=\"M251.36,-91.48C260.93,-88.72 271.95,-85.55 282.28,-82.58\"/>\r\n",
       "<polygon fill=\"#000000\" stroke=\"#000000\" points=\"283.06,-85.71 291.7,-79.57 281.12,-78.98 283.06,-85.71\"/>\r\n",
       "</g>\r\n",
       "<!-- /outputs/10 -->\r\n",
       "<g id=\"node4\" class=\"node\">\r\n",
       "<title>/outputs/10</title>\r\n",
       "<polygon fill=\"#e8e8e8\" stroke=\"#000000\" points=\"257,-63 191.5,-63 191.5,-27 257,-27 257,-63\"/>\r\n",
       "<text text-anchor=\"start\" x=\"199.5\" y=\"-41.12\" font-family=\"Times\" font-size=\"10.00\" fill=\"#000000\">Transpose</text>\r\n",
       "</g>\r\n",
       "<!-- /outputs/10&#45;&gt;/outputs/11 -->\r\n",
       "<g id=\"edge4\" class=\"edge\">\r\n",
       "<title>/outputs/10&#45;&gt;/outputs/11</title>\r\n",
       "<path fill=\"none\" stroke=\"#000000\" d=\"M257.25,-54.22C265.29,-56.53 273.98,-59.04 282.24,-61.41\"/>\r\n",
       "<polygon fill=\"#000000\" stroke=\"#000000\" points=\"281.16,-65.03 291.74,-64.44 283.1,-58.31 281.16,-65.03\"/>\r\n",
       "</g>\r\n",
       "<!-- /outputs/12 -->\r\n",
       "<g id=\"node6\" class=\"node\">\r\n",
       "<title>/outputs/12</title>\r\n",
       "<polygon fill=\"#e8e8e8\" stroke=\"#000000\" points=\"437,-90 383,-90 383,-54 437,-54 437,-90\"/>\r\n",
       "<text text-anchor=\"start\" x=\"400.62\" y=\"-68.12\" font-family=\"Times\" font-size=\"10.00\" fill=\"#000000\">Add</text>\r\n",
       "</g>\r\n",
       "<!-- /outputs/11&#45;&gt;/outputs/12 -->\r\n",
       "<g id=\"edge5\" class=\"edge\">\r\n",
       "<title>/outputs/11&#45;&gt;/outputs/12</title>\r\n",
       "<path fill=\"none\" stroke=\"#000000\" d=\"M347.4,-72C355.06,-72 363.57,-72 371.76,-72\"/>\r\n",
       "<polygon fill=\"#000000\" stroke=\"#000000\" points=\"371.62,-75.5 381.62,-72 371.62,-68.5 371.62,-75.5\"/>\r\n",
       "</g>\r\n",
       "<!-- /outputs/13 -->\r\n",
       "<g id=\"node7\" class=\"node\">\r\n",
       "<title>/outputs/13</title>\r\n",
       "<polygon fill=\"#e8e8e8\" stroke=\"#000000\" points=\"533.25,-90 478.25,-90 478.25,-54 533.25,-54 533.25,-90\"/>\r\n",
       "<text text-anchor=\"start\" x=\"486.25\" y=\"-68.12\" font-family=\"Times\" font-size=\"10.00\" fill=\"#000000\">Sigmoid</text>\r\n",
       "</g>\r\n",
       "<!-- /outputs/12&#45;&gt;/outputs/13 -->\r\n",
       "<g id=\"edge6\" class=\"edge\">\r\n",
       "<title>/outputs/12&#45;&gt;/outputs/13</title>\r\n",
       "<path fill=\"none\" stroke=\"#000000\" d=\"M437.11,-72C446.33,-72 456.88,-72 466.86,-72\"/>\r\n",
       "<polygon fill=\"#000000\" stroke=\"#000000\" points=\"466.8,-75.5 476.8,-72 466.8,-68.5 466.8,-75.5\"/>\r\n",
       "</g>\r\n",
       "<!-- /outputs/15 -->\r\n",
       "<g id=\"node9\" class=\"node\">\r\n",
       "<title>/outputs/15</title>\r\n",
       "<polygon fill=\"#e8e8e8\" stroke=\"#000000\" points=\"628.5,-63 574.5,-63 574.5,-27 628.5,-27 628.5,-63\"/>\r\n",
       "<text text-anchor=\"start\" x=\"584.25\" y=\"-41.12\" font-family=\"Times\" font-size=\"10.00\" fill=\"#000000\">MatMul</text>\r\n",
       "</g>\r\n",
       "<!-- /outputs/13&#45;&gt;/outputs/15 -->\r\n",
       "<g id=\"edge7\" class=\"edge\">\r\n",
       "<title>/outputs/13&#45;&gt;/outputs/15</title>\r\n",
       "<path fill=\"none\" stroke=\"#000000\" d=\"M533.61,-64.26C542.99,-61.56 553.69,-58.48 563.73,-55.59\"/>\r\n",
       "<polygon fill=\"#000000\" stroke=\"#000000\" points=\"564.64,-58.68 573.28,-52.55 562.7,-51.96 564.64,-58.68\"/>\r\n",
       "</g>\r\n",
       "<!-- /outputs/14 -->\r\n",
       "<g id=\"node8\" class=\"node\">\r\n",
       "<title>/outputs/14</title>\r\n",
       "<polygon fill=\"#e8e8e8\" stroke=\"#000000\" points=\"538.5,-36 473,-36 473,0 538.5,0 538.5,-36\"/>\r\n",
       "<text text-anchor=\"start\" x=\"481\" y=\"-14.12\" font-family=\"Times\" font-size=\"10.00\" fill=\"#000000\">Transpose</text>\r\n",
       "</g>\r\n",
       "<!-- /outputs/14&#45;&gt;/outputs/15 -->\r\n",
       "<g id=\"edge8\" class=\"edge\">\r\n",
       "<title>/outputs/14&#45;&gt;/outputs/15</title>\r\n",
       "<path fill=\"none\" stroke=\"#000000\" d=\"M538.75,-27.22C546.79,-29.53 555.48,-32.04 563.74,-34.41\"/>\r\n",
       "<polygon fill=\"#000000\" stroke=\"#000000\" points=\"562.66,-38.03 573.24,-37.44 564.6,-31.31 562.66,-38.03\"/>\r\n",
       "</g>\r\n",
       "<!-- /outputs/16 -->\r\n",
       "<g id=\"node10\" class=\"node\">\r\n",
       "<title>/outputs/16</title>\r\n",
       "<polygon fill=\"#e8e8e8\" stroke=\"#000000\" points=\"718.5,-63 664.5,-63 664.5,-27 718.5,-27 718.5,-63\"/>\r\n",
       "<text text-anchor=\"start\" x=\"682.12\" y=\"-41.12\" font-family=\"Times\" font-size=\"10.00\" fill=\"#000000\">Add</text>\r\n",
       "</g>\r\n",
       "<!-- /outputs/15&#45;&gt;/outputs/16 -->\r\n",
       "<g id=\"edge9\" class=\"edge\">\r\n",
       "<title>/outputs/15&#45;&gt;/outputs/16</title>\r\n",
       "<path fill=\"none\" stroke=\"#000000\" d=\"M628.9,-45C636.56,-45 645.07,-45 653.26,-45\"/>\r\n",
       "<polygon fill=\"#000000\" stroke=\"#000000\" points=\"653.12,-48.5 663.12,-45 653.12,-41.5 653.12,-48.5\"/>\r\n",
       "</g>\r\n",
       "</g>\r\n",
       "</svg>\r\n"
      ],
      "text/plain": [
       "<hiddenlayer.graph.Graph at 0x2a01b67c8d0>"
      ]
     },
     "execution_count": 20,
     "metadata": {},
     "output_type": "execute_result"
    }
   ],
   "source": [
    "# And if you want a more granular view into each of these layers,\n",
    "# pass in just one data point.\n",
    "# Here is a model2 all expanded.\n",
    "# This allows us to zoom into each of the operations\n",
    "# performed by our linear layer.\n",
    "\n",
    "hl.build_graph(model2, torch.zeros([1]))"
   ]
  },
  {
   "cell_type": "markdown",
   "id": "312140f1",
   "metadata": {},
   "source": [
    "At the time of this recording,\n",
    "PyTorch really doesn't have an equivalent for TensorBoard.\n",
    "You can use hidden layer,\n",
    "but you can see that its functionality falls far behind what TensorBoard has to offer.\n",
    "It's still an extremely useful tool for visualization though and you\n",
    "should use it if you're working with neural networks."
   ]
  },
  {
   "cell_type": "markdown",
   "id": "62b403b0",
   "metadata": {},
   "source": [
    "# Computation graph visualization in Torchviz and Tensorboard"
   ]
  },
  {
   "cell_type": "code",
   "execution_count": 21,
   "id": "34f87eca",
   "metadata": {
    "scrolled": true
   },
   "outputs": [],
   "source": [
    "from torchviz import make_dot"
   ]
  },
  {
   "cell_type": "code",
   "execution_count": 22,
   "id": "9298c6fe",
   "metadata": {
    "scrolled": true
   },
   "outputs": [
    {
     "name": "stderr",
     "output_type": "stream",
     "text": [
      "\r\n",
      "(dot.exe:11412): Pango-WARNING **: couldn't load font \"Times Not-Rotated 10\", falling back to \"Sans Not-Rotated 10\", expect ugly output.\r\n"
     ]
    },
    {
     "data": {
      "image/svg+xml": [
       "<?xml version=\"1.0\" encoding=\"UTF-8\" standalone=\"no\"?>\r\n",
       "<!DOCTYPE svg PUBLIC \"-//W3C//DTD SVG 1.1//EN\"\r\n",
       " \"http://www.w3.org/Graphics/SVG/1.1/DTD/svg11.dtd\">\r\n",
       "<!-- Generated by graphviz version 8.0.5 (20230430.1635)\r\n",
       " -->\r\n",
       "<!-- Pages: 1 -->\r\n",
       "<svg width=\"198pt\" height=\"117pt\"\r\n",
       " viewBox=\"0.00 0.00 198.00 116.50\" xmlns=\"http://www.w3.org/2000/svg\" xmlns:xlink=\"http://www.w3.org/1999/xlink\">\r\n",
       "<g id=\"graph0\" class=\"graph\" transform=\"scale(1 1) rotate(0) translate(72 80.5)\">\r\n",
       "<polygon fill=\"#ffffff\" stroke=\"none\" points=\"-72,36 -72,-80.5 126,-80.5 126,36 -72,36\"/>\r\n",
       "<!-- 8536939109717355405 -->\r\n",
       "<g id=\"node1\" class=\"node\">\r\n",
       "<title>8536939109717355405</title>\r\n",
       "<polygon fill=\"#e8e8e8\" stroke=\"#000000\" points=\"54,-44.5 0,-44.5 0,0 54,0 54,-44.5\"/>\r\n",
       "<text text-anchor=\"start\" x=\"12.38\" y=\"-27\" font-family=\"Times\" font-size=\"10.00\" fill=\"#000000\">Linear</text>\r\n",
       "<text text-anchor=\"start\" x=\"34.38\" y=\"-5.75\" font-family=\"Times\" font-size=\"10.00\" fill=\"#000000\">x2</text>\r\n",
       "</g>\r\n",
       "</g>\r\n",
       "</svg>\r\n"
      ],
      "text/plain": [
       "<hiddenlayer.graph.Graph at 0x2a01b6909e8>"
      ]
     },
     "metadata": {},
     "output_type": "display_data"
    },
    {
     "name": "stderr",
     "output_type": "stream",
     "text": [
      "\r\n",
      "(dot.exe:17428): Pango-WARNING **: couldn't load font \"Times Not-Rotated 10\", falling back to \"Sans Not-Rotated 10\", expect ugly output.\r\n"
     ]
    },
    {
     "data": {
      "image/svg+xml": [
       "<?xml version=\"1.0\" encoding=\"UTF-8\" standalone=\"no\"?>\r\n",
       "<!DOCTYPE svg PUBLIC \"-//W3C//DTD SVG 1.1//EN\"\r\n",
       " \"http://www.w3.org/Graphics/SVG/1.1/DTD/svg11.dtd\">\r\n",
       "<!-- Generated by graphviz version 8.0.5 (20230430.1635)\r\n",
       " -->\r\n",
       "<!-- Pages: 1 -->\r\n",
       "<svg width=\"581pt\" height=\"162pt\"\r\n",
       " viewBox=\"0.00 0.00 581.00 162.00\" xmlns=\"http://www.w3.org/2000/svg\" xmlns:xlink=\"http://www.w3.org/1999/xlink\">\r\n",
       "<g id=\"graph0\" class=\"graph\" transform=\"scale(1 1) rotate(0) translate(72 126)\">\r\n",
       "<polygon fill=\"#ffffff\" stroke=\"none\" points=\"-72,36 -72,-126 509,-126 509,36 -72,36\"/>\r\n",
       "<!-- /outputs/5 -->\r\n",
       "<g id=\"node1\" class=\"node\">\r\n",
       "<title>/outputs/5</title>\r\n",
       "<polygon fill=\"#e8e8e8\" stroke=\"#000000\" points=\"65.5,-90 0,-90 0,-54 65.5,-54 65.5,-90\"/>\r\n",
       "<text text-anchor=\"start\" x=\"8\" y=\"-68.12\" font-family=\"Times\" font-size=\"10.00\" fill=\"#000000\">Transpose</text>\r\n",
       "</g>\r\n",
       "<!-- /outputs/6 -->\r\n",
       "<g id=\"node2\" class=\"node\">\r\n",
       "<title>/outputs/6</title>\r\n",
       "<polygon fill=\"#e8e8e8\" stroke=\"#000000\" points=\"155.5,-90 101.5,-90 101.5,-54 155.5,-54 155.5,-90\"/>\r\n",
       "<text text-anchor=\"start\" x=\"111.25\" y=\"-68.12\" font-family=\"Times\" font-size=\"10.00\" fill=\"#000000\">MatMul</text>\r\n",
       "</g>\r\n",
       "<!-- /outputs/5&#45;&gt;/outputs/6 -->\r\n",
       "<g id=\"edge1\" class=\"edge\">\r\n",
       "<title>/outputs/5&#45;&gt;/outputs/6</title>\r\n",
       "<path fill=\"none\" stroke=\"#000000\" d=\"M65.75,-72C73.7,-72 82.29,-72 90.46,-72\"/>\r\n",
       "<polygon fill=\"#000000\" stroke=\"#000000\" points=\"90.24,-75.5 100.24,-72 90.24,-68.5 90.24,-75.5\"/>\r\n",
       "</g>\r\n",
       "<!-- /outputs/7 -->\r\n",
       "<g id=\"node3\" class=\"node\">\r\n",
       "<title>/outputs/7</title>\r\n",
       "<polygon fill=\"#e8e8e8\" stroke=\"#000000\" points=\"251.25,-90 197.25,-90 197.25,-54 251.25,-54 251.25,-90\"/>\r\n",
       "<text text-anchor=\"start\" x=\"214.88\" y=\"-68.12\" font-family=\"Times\" font-size=\"10.00\" fill=\"#000000\">Add</text>\r\n",
       "</g>\r\n",
       "<!-- /outputs/6&#45;&gt;/outputs/7 -->\r\n",
       "<g id=\"edge2\" class=\"edge\">\r\n",
       "<title>/outputs/6&#45;&gt;/outputs/7</title>\r\n",
       "<path fill=\"none\" stroke=\"#000000\" d=\"M155.61,-72C165.08,-72 175.97,-72 186.2,-72\"/>\r\n",
       "<polygon fill=\"#000000\" stroke=\"#000000\" points=\"185.95,-75.5 195.95,-72 185.95,-68.5 185.95,-75.5\"/>\r\n",
       "</g>\r\n",
       "<!-- /outputs/9 -->\r\n",
       "<g id=\"node5\" class=\"node\">\r\n",
       "<title>/outputs/9</title>\r\n",
       "<polygon fill=\"#e8e8e8\" stroke=\"#000000\" points=\"347,-63 293,-63 293,-27 347,-27 347,-63\"/>\r\n",
       "<text text-anchor=\"start\" x=\"302.75\" y=\"-41.12\" font-family=\"Times\" font-size=\"10.00\" fill=\"#000000\">MatMul</text>\r\n",
       "</g>\r\n",
       "<!-- /outputs/7&#45;&gt;/outputs/9 -->\r\n",
       "<g id=\"edge3\" class=\"edge\">\r\n",
       "<title>/outputs/7&#45;&gt;/outputs/9</title>\r\n",
       "<path fill=\"none\" stroke=\"#000000\" d=\"M251.36,-64.48C260.93,-61.72 271.95,-58.55 282.28,-55.58\"/>\r\n",
       "<polygon fill=\"#000000\" stroke=\"#000000\" points=\"283.06,-58.71 291.7,-52.57 281.12,-51.98 283.06,-58.71\"/>\r\n",
       "</g>\r\n",
       "<!-- /outputs/8 -->\r\n",
       "<g id=\"node4\" class=\"node\">\r\n",
       "<title>/outputs/8</title>\r\n",
       "<polygon fill=\"#e8e8e8\" stroke=\"#000000\" points=\"257,-36 191.5,-36 191.5,0 257,0 257,-36\"/>\r\n",
       "<text text-anchor=\"start\" x=\"199.5\" y=\"-14.12\" font-family=\"Times\" font-size=\"10.00\" fill=\"#000000\">Transpose</text>\r\n",
       "</g>\r\n",
       "<!-- /outputs/8&#45;&gt;/outputs/9 -->\r\n",
       "<g id=\"edge4\" class=\"edge\">\r\n",
       "<title>/outputs/8&#45;&gt;/outputs/9</title>\r\n",
       "<path fill=\"none\" stroke=\"#000000\" d=\"M257.25,-27.22C265.29,-29.53 273.98,-32.04 282.24,-34.41\"/>\r\n",
       "<polygon fill=\"#000000\" stroke=\"#000000\" points=\"281.16,-38.03 291.74,-37.44 283.1,-31.31 281.16,-38.03\"/>\r\n",
       "</g>\r\n",
       "<!-- /outputs/10 -->\r\n",
       "<g id=\"node6\" class=\"node\">\r\n",
       "<title>/outputs/10</title>\r\n",
       "<polygon fill=\"#e8e8e8\" stroke=\"#000000\" points=\"437,-63 383,-63 383,-27 437,-27 437,-63\"/>\r\n",
       "<text text-anchor=\"start\" x=\"400.62\" y=\"-41.12\" font-family=\"Times\" font-size=\"10.00\" fill=\"#000000\">Add</text>\r\n",
       "</g>\r\n",
       "<!-- /outputs/9&#45;&gt;/outputs/10 -->\r\n",
       "<g id=\"edge5\" class=\"edge\">\r\n",
       "<title>/outputs/9&#45;&gt;/outputs/10</title>\r\n",
       "<path fill=\"none\" stroke=\"#000000\" d=\"M347.4,-45C355.06,-45 363.57,-45 371.76,-45\"/>\r\n",
       "<polygon fill=\"#000000\" stroke=\"#000000\" points=\"371.62,-48.5 381.62,-45 371.62,-41.5 371.62,-48.5\"/>\r\n",
       "</g>\r\n",
       "</g>\r\n",
       "</svg>\r\n"
      ],
      "text/plain": [
       "<hiddenlayer.graph.Graph at 0x2a01b689978>"
      ]
     },
     "metadata": {},
     "output_type": "display_data"
    },
    {
     "name": "stderr",
     "output_type": "stream",
     "text": [
      "\r\n",
      "(dot.exe:2100): Pango-WARNING **: couldn't load font \"Times Not-Rotated 10\", falling back to \"Sans Not-Rotated 10\", expect ugly output.\r\n"
     ]
    },
    {
     "data": {
      "image/svg+xml": [
       "<?xml version=\"1.0\" encoding=\"UTF-8\" standalone=\"no\"?>\r\n",
       "<!DOCTYPE svg PUBLIC \"-//W3C//DTD SVG 1.1//EN\"\r\n",
       " \"http://www.w3.org/Graphics/SVG/1.1/DTD/svg11.dtd\">\r\n",
       "<!-- Generated by graphviz version 8.0.5 (20230430.1635)\r\n",
       " -->\r\n",
       "<!-- Pages: 1 -->\r\n",
       "<svg width=\"379pt\" height=\"117pt\"\r\n",
       " viewBox=\"0.00 0.00 379.00 116.50\" xmlns=\"http://www.w3.org/2000/svg\" xmlns:xlink=\"http://www.w3.org/1999/xlink\">\r\n",
       "<g id=\"graph0\" class=\"graph\" transform=\"scale(1 1) rotate(0) translate(72 80.5)\">\r\n",
       "<polygon fill=\"#ffffff\" stroke=\"none\" points=\"-72,36 -72,-80.5 307,-80.5 307,36 -72,36\"/>\r\n",
       "<!-- /outputs/9 -->\r\n",
       "<g id=\"node1\" class=\"node\">\r\n",
       "<title>/outputs/9</title>\r\n",
       "<polygon fill=\"#e8e8e8\" stroke=\"#000000\" points=\"145,-40.25 90,-40.25 90,-4.25 145,-4.25 145,-40.25\"/>\r\n",
       "<text text-anchor=\"start\" x=\"98\" y=\"-18.38\" font-family=\"Times\" font-size=\"10.00\" fill=\"#000000\">Sigmoid</text>\r\n",
       "</g>\r\n",
       "<!-- /outputs/10 -->\r\n",
       "<g id=\"node2\" class=\"node\">\r\n",
       "<title>/outputs/10</title>\r\n",
       "<polygon fill=\"#e8e8e8\" stroke=\"#000000\" points=\"235,-40.25 181,-40.25 181,-4.25 235,-4.25 235,-40.25\"/>\r\n",
       "<text text-anchor=\"start\" x=\"193.38\" y=\"-18.38\" font-family=\"Times\" font-size=\"10.00\" fill=\"#000000\">Linear</text>\r\n",
       "</g>\r\n",
       "<!-- /outputs/9&#45;&gt;/outputs/10 -->\r\n",
       "<g id=\"edge1\" class=\"edge\">\r\n",
       "<title>/outputs/9&#45;&gt;/outputs/10</title>\r\n",
       "<path fill=\"none\" stroke=\"#000000\" d=\"M145.05,-22.25C152.91,-22.25 161.66,-22.25 170.05,-22.25\"/>\r\n",
       "<polygon fill=\"#000000\" stroke=\"#000000\" points=\"169.77,-25.75 179.77,-22.25 169.77,-18.75 169.77,-25.75\"/>\r\n",
       "</g>\r\n",
       "<!-- 5681024617031750493 -->\r\n",
       "<g id=\"node3\" class=\"node\">\r\n",
       "<title>5681024617031750493</title>\r\n",
       "<polygon fill=\"#e8e8e8\" stroke=\"#000000\" points=\"54,-44.5 0,-44.5 0,0 54,0 54,-44.5\"/>\r\n",
       "<text text-anchor=\"start\" x=\"12.38\" y=\"-27\" font-family=\"Times\" font-size=\"10.00\" fill=\"#000000\">Linear</text>\r\n",
       "<text text-anchor=\"start\" x=\"34.38\" y=\"-5.75\" font-family=\"Times\" font-size=\"10.00\" fill=\"#000000\">x2</text>\r\n",
       "</g>\r\n",
       "<!-- 5681024617031750493&#45;&gt;/outputs/9 -->\r\n",
       "<g id=\"edge2\" class=\"edge\">\r\n",
       "<title>5681024617031750493&#45;&gt;/outputs/9</title>\r\n",
       "<path fill=\"none\" stroke=\"#000000\" d=\"M54.07,-22.25C61.87,-22.25 70.58,-22.25 78.97,-22.25\"/>\r\n",
       "<polygon fill=\"#000000\" stroke=\"#000000\" points=\"78.69,-25.75 88.69,-22.25 78.69,-18.75 78.69,-25.75\"/>\r\n",
       "</g>\r\n",
       "</g>\r\n",
       "</svg>\r\n"
      ],
      "text/plain": [
       "<hiddenlayer.graph.Graph at 0x2a01b688550>"
      ]
     },
     "metadata": {},
     "output_type": "display_data"
    },
    {
     "name": "stderr",
     "output_type": "stream",
     "text": [
      "\r\n",
      "(dot.exe:13100): Pango-WARNING **: couldn't load font \"Times Not-Rotated 10\", falling back to \"Sans Not-Rotated 10\", expect ugly output.\r\n"
     ]
    },
    {
     "data": {
      "image/svg+xml": [
       "<?xml version=\"1.0\" encoding=\"UTF-8\" standalone=\"no\"?>\r\n",
       "<!DOCTYPE svg PUBLIC \"-//W3C//DTD SVG 1.1//EN\"\r\n",
       " \"http://www.w3.org/Graphics/SVG/1.1/DTD/svg11.dtd\">\r\n",
       "<!-- Generated by graphviz version 8.0.5 (20230430.1635)\r\n",
       " -->\r\n",
       "<!-- Pages: 1 -->\r\n",
       "<svg width=\"863pt\" height=\"189pt\"\r\n",
       " viewBox=\"0.00 0.00 862.50 189.00\" xmlns=\"http://www.w3.org/2000/svg\" xmlns:xlink=\"http://www.w3.org/1999/xlink\">\r\n",
       "<g id=\"graph0\" class=\"graph\" transform=\"scale(1 1) rotate(0) translate(72 153)\">\r\n",
       "<polygon fill=\"#ffffff\" stroke=\"none\" points=\"-72,36 -72,-153 790.5,-153 790.5,36 -72,36\"/>\r\n",
       "<!-- /outputs/7 -->\r\n",
       "<g id=\"node1\" class=\"node\">\r\n",
       "<title>/outputs/7</title>\r\n",
       "<polygon fill=\"#e8e8e8\" stroke=\"#000000\" points=\"65.5,-117 0,-117 0,-81 65.5,-81 65.5,-117\"/>\r\n",
       "<text text-anchor=\"start\" x=\"8\" y=\"-95.12\" font-family=\"Times\" font-size=\"10.00\" fill=\"#000000\">Transpose</text>\r\n",
       "</g>\r\n",
       "<!-- /outputs/8 -->\r\n",
       "<g id=\"node2\" class=\"node\">\r\n",
       "<title>/outputs/8</title>\r\n",
       "<polygon fill=\"#e8e8e8\" stroke=\"#000000\" points=\"155.5,-117 101.5,-117 101.5,-81 155.5,-81 155.5,-117\"/>\r\n",
       "<text text-anchor=\"start\" x=\"111.25\" y=\"-95.12\" font-family=\"Times\" font-size=\"10.00\" fill=\"#000000\">MatMul</text>\r\n",
       "</g>\r\n",
       "<!-- /outputs/7&#45;&gt;/outputs/8 -->\r\n",
       "<g id=\"edge1\" class=\"edge\">\r\n",
       "<title>/outputs/7&#45;&gt;/outputs/8</title>\r\n",
       "<path fill=\"none\" stroke=\"#000000\" d=\"M65.75,-99C73.7,-99 82.29,-99 90.46,-99\"/>\r\n",
       "<polygon fill=\"#000000\" stroke=\"#000000\" points=\"90.24,-102.5 100.24,-99 90.24,-95.5 90.24,-102.5\"/>\r\n",
       "</g>\r\n",
       "<!-- /outputs/9 -->\r\n",
       "<g id=\"node3\" class=\"node\">\r\n",
       "<title>/outputs/9</title>\r\n",
       "<polygon fill=\"#e8e8e8\" stroke=\"#000000\" points=\"251.25,-117 197.25,-117 197.25,-81 251.25,-81 251.25,-117\"/>\r\n",
       "<text text-anchor=\"start\" x=\"214.88\" y=\"-95.12\" font-family=\"Times\" font-size=\"10.00\" fill=\"#000000\">Add</text>\r\n",
       "</g>\r\n",
       "<!-- /outputs/8&#45;&gt;/outputs/9 -->\r\n",
       "<g id=\"edge2\" class=\"edge\">\r\n",
       "<title>/outputs/8&#45;&gt;/outputs/9</title>\r\n",
       "<path fill=\"none\" stroke=\"#000000\" d=\"M155.61,-99C165.08,-99 175.97,-99 186.2,-99\"/>\r\n",
       "<polygon fill=\"#000000\" stroke=\"#000000\" points=\"185.95,-102.5 195.95,-99 185.95,-95.5 185.95,-102.5\"/>\r\n",
       "</g>\r\n",
       "<!-- /outputs/11 -->\r\n",
       "<g id=\"node5\" class=\"node\">\r\n",
       "<title>/outputs/11</title>\r\n",
       "<polygon fill=\"#e8e8e8\" stroke=\"#000000\" points=\"347,-90 293,-90 293,-54 347,-54 347,-90\"/>\r\n",
       "<text text-anchor=\"start\" x=\"302.75\" y=\"-68.12\" font-family=\"Times\" font-size=\"10.00\" fill=\"#000000\">MatMul</text>\r\n",
       "</g>\r\n",
       "<!-- /outputs/9&#45;&gt;/outputs/11 -->\r\n",
       "<g id=\"edge3\" class=\"edge\">\r\n",
       "<title>/outputs/9&#45;&gt;/outputs/11</title>\r\n",
       "<path fill=\"none\" stroke=\"#000000\" d=\"M251.36,-91.48C260.93,-88.72 271.95,-85.55 282.28,-82.58\"/>\r\n",
       "<polygon fill=\"#000000\" stroke=\"#000000\" points=\"283.06,-85.71 291.7,-79.57 281.12,-78.98 283.06,-85.71\"/>\r\n",
       "</g>\r\n",
       "<!-- /outputs/10 -->\r\n",
       "<g id=\"node4\" class=\"node\">\r\n",
       "<title>/outputs/10</title>\r\n",
       "<polygon fill=\"#e8e8e8\" stroke=\"#000000\" points=\"257,-63 191.5,-63 191.5,-27 257,-27 257,-63\"/>\r\n",
       "<text text-anchor=\"start\" x=\"199.5\" y=\"-41.12\" font-family=\"Times\" font-size=\"10.00\" fill=\"#000000\">Transpose</text>\r\n",
       "</g>\r\n",
       "<!-- /outputs/10&#45;&gt;/outputs/11 -->\r\n",
       "<g id=\"edge4\" class=\"edge\">\r\n",
       "<title>/outputs/10&#45;&gt;/outputs/11</title>\r\n",
       "<path fill=\"none\" stroke=\"#000000\" d=\"M257.25,-54.22C265.29,-56.53 273.98,-59.04 282.24,-61.41\"/>\r\n",
       "<polygon fill=\"#000000\" stroke=\"#000000\" points=\"281.16,-65.03 291.74,-64.44 283.1,-58.31 281.16,-65.03\"/>\r\n",
       "</g>\r\n",
       "<!-- /outputs/12 -->\r\n",
       "<g id=\"node6\" class=\"node\">\r\n",
       "<title>/outputs/12</title>\r\n",
       "<polygon fill=\"#e8e8e8\" stroke=\"#000000\" points=\"437,-90 383,-90 383,-54 437,-54 437,-90\"/>\r\n",
       "<text text-anchor=\"start\" x=\"400.62\" y=\"-68.12\" font-family=\"Times\" font-size=\"10.00\" fill=\"#000000\">Add</text>\r\n",
       "</g>\r\n",
       "<!-- /outputs/11&#45;&gt;/outputs/12 -->\r\n",
       "<g id=\"edge5\" class=\"edge\">\r\n",
       "<title>/outputs/11&#45;&gt;/outputs/12</title>\r\n",
       "<path fill=\"none\" stroke=\"#000000\" d=\"M347.4,-72C355.06,-72 363.57,-72 371.76,-72\"/>\r\n",
       "<polygon fill=\"#000000\" stroke=\"#000000\" points=\"371.62,-75.5 381.62,-72 371.62,-68.5 371.62,-75.5\"/>\r\n",
       "</g>\r\n",
       "<!-- /outputs/13 -->\r\n",
       "<g id=\"node7\" class=\"node\">\r\n",
       "<title>/outputs/13</title>\r\n",
       "<polygon fill=\"#e8e8e8\" stroke=\"#000000\" points=\"533.25,-90 478.25,-90 478.25,-54 533.25,-54 533.25,-90\"/>\r\n",
       "<text text-anchor=\"start\" x=\"486.25\" y=\"-68.12\" font-family=\"Times\" font-size=\"10.00\" fill=\"#000000\">Sigmoid</text>\r\n",
       "</g>\r\n",
       "<!-- /outputs/12&#45;&gt;/outputs/13 -->\r\n",
       "<g id=\"edge6\" class=\"edge\">\r\n",
       "<title>/outputs/12&#45;&gt;/outputs/13</title>\r\n",
       "<path fill=\"none\" stroke=\"#000000\" d=\"M437.11,-72C446.33,-72 456.88,-72 466.86,-72\"/>\r\n",
       "<polygon fill=\"#000000\" stroke=\"#000000\" points=\"466.8,-75.5 476.8,-72 466.8,-68.5 466.8,-75.5\"/>\r\n",
       "</g>\r\n",
       "<!-- /outputs/15 -->\r\n",
       "<g id=\"node9\" class=\"node\">\r\n",
       "<title>/outputs/15</title>\r\n",
       "<polygon fill=\"#e8e8e8\" stroke=\"#000000\" points=\"628.5,-63 574.5,-63 574.5,-27 628.5,-27 628.5,-63\"/>\r\n",
       "<text text-anchor=\"start\" x=\"584.25\" y=\"-41.12\" font-family=\"Times\" font-size=\"10.00\" fill=\"#000000\">MatMul</text>\r\n",
       "</g>\r\n",
       "<!-- /outputs/13&#45;&gt;/outputs/15 -->\r\n",
       "<g id=\"edge7\" class=\"edge\">\r\n",
       "<title>/outputs/13&#45;&gt;/outputs/15</title>\r\n",
       "<path fill=\"none\" stroke=\"#000000\" d=\"M533.61,-64.26C542.99,-61.56 553.69,-58.48 563.73,-55.59\"/>\r\n",
       "<polygon fill=\"#000000\" stroke=\"#000000\" points=\"564.64,-58.68 573.28,-52.55 562.7,-51.96 564.64,-58.68\"/>\r\n",
       "</g>\r\n",
       "<!-- /outputs/14 -->\r\n",
       "<g id=\"node8\" class=\"node\">\r\n",
       "<title>/outputs/14</title>\r\n",
       "<polygon fill=\"#e8e8e8\" stroke=\"#000000\" points=\"538.5,-36 473,-36 473,0 538.5,0 538.5,-36\"/>\r\n",
       "<text text-anchor=\"start\" x=\"481\" y=\"-14.12\" font-family=\"Times\" font-size=\"10.00\" fill=\"#000000\">Transpose</text>\r\n",
       "</g>\r\n",
       "<!-- /outputs/14&#45;&gt;/outputs/15 -->\r\n",
       "<g id=\"edge8\" class=\"edge\">\r\n",
       "<title>/outputs/14&#45;&gt;/outputs/15</title>\r\n",
       "<path fill=\"none\" stroke=\"#000000\" d=\"M538.75,-27.22C546.79,-29.53 555.48,-32.04 563.74,-34.41\"/>\r\n",
       "<polygon fill=\"#000000\" stroke=\"#000000\" points=\"562.66,-38.03 573.24,-37.44 564.6,-31.31 562.66,-38.03\"/>\r\n",
       "</g>\r\n",
       "<!-- /outputs/16 -->\r\n",
       "<g id=\"node10\" class=\"node\">\r\n",
       "<title>/outputs/16</title>\r\n",
       "<polygon fill=\"#e8e8e8\" stroke=\"#000000\" points=\"718.5,-63 664.5,-63 664.5,-27 718.5,-27 718.5,-63\"/>\r\n",
       "<text text-anchor=\"start\" x=\"682.12\" y=\"-41.12\" font-family=\"Times\" font-size=\"10.00\" fill=\"#000000\">Add</text>\r\n",
       "</g>\r\n",
       "<!-- /outputs/15&#45;&gt;/outputs/16 -->\r\n",
       "<g id=\"edge9\" class=\"edge\">\r\n",
       "<title>/outputs/15&#45;&gt;/outputs/16</title>\r\n",
       "<path fill=\"none\" stroke=\"#000000\" d=\"M628.9,-45C636.56,-45 645.07,-45 653.26,-45\"/>\r\n",
       "<polygon fill=\"#000000\" stroke=\"#000000\" points=\"653.12,-48.5 663.12,-45 653.12,-41.5 653.12,-48.5\"/>\r\n",
       "</g>\r\n",
       "</g>\r\n",
       "</svg>\r\n"
      ],
      "text/plain": [
       "<hiddenlayer.graph.Graph at 0x2a01b691da0>"
      ]
     },
     "metadata": {},
     "output_type": "display_data"
    }
   ],
   "source": [
    "inp = 1\n",
    "out = 1\n",
    "hid = 100\n",
    "\n",
    "# This is our neural network, model1, with two linear layers.\n",
    "model1 = torch.nn.Sequential(torch.nn.Linear(inp, hid),\n",
    "                            torch.nn.Linear(hid, out))\n",
    "\n",
    "# see layers\n",
    "display(hl.build_graph(model1, torch.zeros([10, 1])))\n",
    "\n",
    "# see more operations performed in elaborate manner\n",
    "display(hl.build_graph(model1, torch.zeros([1])))\n",
    "\n",
    "\n",
    "model2 = torch.nn.Sequential(\n",
    "    torch.nn.Linear(inp, hid),  # Linear layer from inp to hid\n",
    "    torch.nn.Linear(hid, hid),  # Linear layer from hid to hid\n",
    "    torch.nn.Sigmoid(),         # Sigmoid activation function\n",
    "    torch.nn.Linear(hid, out)   # Linear layer from hid to out\n",
    ")\n",
    "\n",
    "\n",
    "\n",
    "# see layers\n",
    "display(hl.build_graph(model2, torch.zeros([10, 1])))\n",
    "\n",
    "# see more operations performed in elaborate manner\n",
    "display(hl.build_graph(model2, torch.zeros([1])))"
   ]
  },
  {
   "cell_type": "code",
   "execution_count": 23,
   "id": "6609df21",
   "metadata": {
    "scrolled": true
   },
   "outputs": [
    {
     "data": {
      "text/plain": [
       "'./torchviz/model1_graph.png'"
      ]
     },
     "execution_count": 23,
     "metadata": {},
     "output_type": "execute_result"
    }
   ],
   "source": [
    "# now achieve the same effect with torchviz\n",
    "\n",
    "inp = 1\n",
    "out = 1\n",
    "hid = 100\n",
    "\n",
    "# Define the neural network\n",
    "model1 = torch.nn.Sequential(torch.nn.Linear(inp, hid),\n",
    "                             torch.nn.Linear(hid, out))\n",
    "\n",
    "# Define input\n",
    "x = torch.zeros([10, 1])\n",
    "\n",
    "# Forward pass\n",
    "output = model1(x)\n",
    "\n",
    "# Visualize the computational graph\n",
    "make_dot(output, params=dict(model1.named_parameters())).render(\"./torchviz/model1_graph\", format=\"png\")\n",
    "\n",
    "# This code will save the computational graph visualization as a PNG file named model1_graph.png.\n",
    "# You can change the format to \"pdf\" if you prefer a pdf file. \n",
    "# Note that torchviz generates graphs that visualize the computational graph at the operation level,\n",
    "# which might be slightly different from the layer-level visualization produced by hiddenlayer."
   ]
  },
  {
   "cell_type": "code",
   "execution_count": 24,
   "id": "76ba3c86",
   "metadata": {
    "scrolled": true
   },
   "outputs": [
    {
     "data": {
      "text/plain": [
       "'./torchviz/model2_graph.png'"
      ]
     },
     "execution_count": 24,
     "metadata": {},
     "output_type": "execute_result"
    }
   ],
   "source": [
    "# do it for model2\n",
    "\n",
    "inp = 1\n",
    "out = 1\n",
    "hid = 100\n",
    "\n",
    "model2 = torch.nn.Sequential(\n",
    "    torch.nn.Linear(inp, hid),  # Linear layer from inp to hid\n",
    "    torch.nn.Linear(hid, hid),  # Linear layer from hid to hid\n",
    "    torch.nn.Sigmoid(),         # Sigmoid activation function\n",
    "    torch.nn.Linear(hid, out)   # Linear layer from hid to out\n",
    ")\n",
    "\n",
    "\n",
    "# Define input\n",
    "x = torch.zeros([10, 1])\n",
    "\n",
    "# Forward pass\n",
    "output = model2(x)\n",
    "\n",
    "# Visualize the computational graph\n",
    "make_dot(output, params=dict(model2.named_parameters())).render(\"./torchviz/model2_graph\", format=\"png\")"
   ]
  },
  {
   "cell_type": "markdown",
   "id": "05eae0a5",
   "metadata": {},
   "source": [
    "# Now with tensorboard"
   ]
  },
  {
   "cell_type": "code",
   "execution_count": 7,
   "id": "67ae646d",
   "metadata": {},
   "outputs": [
    {
     "data": {
      "text/plain": [
       "CompletedProcess(args=['taskkill', '/pid', '21152', '/f'], returncode=128)"
      ]
     },
     "execution_count": 7,
     "metadata": {},
     "output_type": "execute_result"
    }
   ],
   "source": [
    "# import os\n",
    "# import signal\n",
    "import subprocess\n",
    "pid = 21152\n",
    "# kill a process via pid\n",
    "# os.kill(pid, signal.SIGTERM)\n",
    "subprocess.run(['taskkill', '/pid', str(pid), '/f'])"
   ]
  },
  {
   "cell_type": "markdown",
   "id": "1350a630",
   "metadata": {},
   "source": [
    "### model1 with (10 x 1) input"
   ]
  },
  {
   "cell_type": "code",
   "execution_count": 1,
   "id": "7c34ef1f",
   "metadata": {
    "scrolled": true
   },
   "outputs": [],
   "source": [
    "import torch\n",
    "import torch.nn as nn\n",
    "from torch.utils.tensorboard import SummaryWriter"
   ]
  },
  {
   "cell_type": "code",
   "execution_count": 5,
   "id": "4e206de6",
   "metadata": {},
   "outputs": [
    {
     "name": "stdout",
     "output_type": "stream",
     "text": [
      "The tensorboard extension is already loaded. To reload it, use:\n",
      "  %reload_ext tensorboard\n"
     ]
    },
    {
     "data": {
      "text/html": [
       "\n",
       "      <iframe id=\"tensorboard-frame-f248bd49819b35df\" width=\"100%\" height=\"800\" frameborder=\"0\">\n",
       "      </iframe>\n",
       "      <script>\n",
       "        (function() {\n",
       "          const frame = document.getElementById(\"tensorboard-frame-f248bd49819b35df\");\n",
       "          const url = new URL(\"/\", window.location);\n",
       "          const port = 6006;\n",
       "          if (port) {\n",
       "            url.port = port;\n",
       "          }\n",
       "          frame.src = url;\n",
       "        })();\n",
       "      </script>\n",
       "    "
      ],
      "text/plain": [
       "<IPython.core.display.HTML object>"
      ]
     },
     "metadata": {},
     "output_type": "display_data"
    }
   ],
   "source": [
    "%load_ext tensorboard\n",
    "\n",
    "# Define the neural network\n",
    "inp = 1\n",
    "out = 1\n",
    "hid = 100\n",
    "model1 = torch.nn.Sequential(nn.Linear(inp, hid), nn.Linear(hid, out))\n",
    "\n",
    "# Create a SummaryWriter\n",
    "writer = SummaryWriter('runs/model_visualization')\n",
    "\n",
    "# Add the model to the writer\n",
    "dummy_input = torch.zeros([10, 1])\n",
    "writer.add_graph(model1, dummy_input)\n",
    "\n",
    "# Close the writer\n",
    "writer.close()\n",
    "\n",
    "# Launch TensorBoard inside the notebook\n",
    "%tensorboard --logdir runs --host 0.0.0.0"
   ]
  },
  {
   "cell_type": "markdown",
   "id": "890ec7a6",
   "metadata": {},
   "source": [
    "### model1 with (1 x 1) input (result is the same)"
   ]
  },
  {
   "cell_type": "code",
   "execution_count": 7,
   "id": "48aec31b",
   "metadata": {},
   "outputs": [
    {
     "data": {
      "text/plain": [
       "Reusing TensorBoard on port 6006 (pid 28876), started 0:01:02 ago. (Use '!kill 28876' to kill it.)"
      ]
     },
     "metadata": {},
     "output_type": "display_data"
    },
    {
     "data": {
      "text/html": [
       "\n",
       "      <iframe id=\"tensorboard-frame-4235858990a8c700\" width=\"100%\" height=\"800\" frameborder=\"0\">\n",
       "      </iframe>\n",
       "      <script>\n",
       "        (function() {\n",
       "          const frame = document.getElementById(\"tensorboard-frame-4235858990a8c700\");\n",
       "          const url = new URL(\"/\", window.location);\n",
       "          const port = 6006;\n",
       "          if (port) {\n",
       "            url.port = port;\n",
       "          }\n",
       "          frame.src = url;\n",
       "        })();\n",
       "      </script>\n",
       "    "
      ],
      "text/plain": [
       "<IPython.core.display.HTML object>"
      ]
     },
     "metadata": {},
     "output_type": "display_data"
    }
   ],
   "source": [
    "%reload_ext tensorboard\n",
    "\n",
    "from torch.utils.tensorboard import SummaryWriter\n",
    "\n",
    "# Define the neural network\n",
    "inp = 1\n",
    "out = 1\n",
    "hid = 100\n",
    "model1 = torch.nn.Sequential(nn.Linear(inp, hid), nn.Linear(hid, out))\n",
    "\n",
    "# Create a SummaryWriter\n",
    "writer = SummaryWriter('runs/model_visualization')\n",
    "\n",
    "# Add the model to the writer\n",
    "dummy_input = torch.zeros([1])\n",
    "writer.add_graph(model1, dummy_input)\n",
    "\n",
    "# Close the writer\n",
    "writer.close()\n",
    "\n",
    "# Launch TensorBoard inside the notebook\n",
    "%tensorboard --logdir runs --host 0.0.0.0"
   ]
  },
  {
   "cell_type": "markdown",
   "id": "9103bb8c",
   "metadata": {},
   "source": [
    "### model2 with (10 x 1) input"
   ]
  },
  {
   "cell_type": "code",
   "execution_count": 5,
   "id": "6049c03d",
   "metadata": {},
   "outputs": [
    {
     "data": {
      "text/html": [
       "\n",
       "      <iframe id=\"tensorboard-frame-f41b0d9776fbc142\" width=\"100%\" height=\"800\" frameborder=\"0\">\n",
       "      </iframe>\n",
       "      <script>\n",
       "        (function() {\n",
       "          const frame = document.getElementById(\"tensorboard-frame-f41b0d9776fbc142\");\n",
       "          const url = new URL(\"/\", window.location);\n",
       "          const port = 6005;\n",
       "          if (port) {\n",
       "            url.port = port;\n",
       "          }\n",
       "          frame.src = url;\n",
       "        })();\n",
       "      </script>\n",
       "    "
      ],
      "text/plain": [
       "<IPython.core.display.HTML object>"
      ]
     },
     "metadata": {},
     "output_type": "display_data"
    }
   ],
   "source": [
    "%reload_ext tensorboard\n",
    "\n",
    "from torch.utils.tensorboard import SummaryWriter\n",
    "\n",
    "# Define the neural network\n",
    "inp = 1\n",
    "out = 1\n",
    "hid = 100\n",
    "\n",
    "model2 = torch.nn.Sequential(\n",
    "    torch.nn.Linear(inp, hid),  # Linear layer from inp to hid\n",
    "    torch.nn.Linear(hid, hid),  # Linear layer from hid to hid\n",
    "    torch.nn.Sigmoid(),         # Sigmoid activation function\n",
    "    torch.nn.Linear(hid, out)   # Linear layer from hid to out\n",
    ")\n",
    "\n",
    "# Create a SummaryWriter\n",
    "writer = SummaryWriter('runs/model_visualization')\n",
    "\n",
    "# Add the model to the writer\n",
    "dummy_input = torch.zeros([10, 1])\n",
    "writer.add_graph(model2, dummy_input)\n",
    "\n",
    "# Close the writer\n",
    "writer.close()\n",
    "\n",
    "# Launch TensorBoard inside the notebook\n",
    "%tensorboard --logdir runs --port 6005"
   ]
  },
  {
   "cell_type": "code",
   "execution_count": null,
   "id": "7aaf06ab",
   "metadata": {},
   "outputs": [],
   "source": []
  }
 ],
 "metadata": {
  "kernelspec": {
   "display_name": "Python [conda env:pytorch_env] *",
   "language": "python",
   "name": "conda-env-pytorch_env-py"
  },
  "language_info": {
   "codemirror_mode": {
    "name": "ipython",
    "version": 3
   },
   "file_extension": ".py",
   "mimetype": "text/x-python",
   "name": "python",
   "nbconvert_exporter": "python",
   "pygments_lexer": "ipython3",
   "version": "3.7.1"
  }
 },
 "nbformat": 4,
 "nbformat_minor": 5
}
