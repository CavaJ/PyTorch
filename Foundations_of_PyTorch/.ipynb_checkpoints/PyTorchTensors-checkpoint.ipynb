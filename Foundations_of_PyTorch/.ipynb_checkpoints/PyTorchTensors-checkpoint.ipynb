{
 "cells": [
  {
   "cell_type": "markdown",
   "id": "b9fc209d",
   "metadata": {},
   "source": [
    "# Demo: Creating and Initializing Tensors"
   ]
  },
  {
   "cell_type": "code",
   "execution_count": 1,
   "id": "c85f78d4",
   "metadata": {},
   "outputs": [
    {
     "name": "stdout",
     "output_type": "stream",
     "text": [
      "1.10.1\n"
     ]
    }
   ],
   "source": [
    "import torch\n",
    "\n",
    "print(torch.__version__)"
   ]
  },
  {
   "cell_type": "code",
   "execution_count": 2,
   "id": "00a5065b",
   "metadata": {},
   "outputs": [
    {
     "data": {
      "text/plain": [
       "torch.float32"
      ]
     },
     "execution_count": 2,
     "metadata": {},
     "output_type": "execute_result"
    }
   ],
   "source": [
    "# PyTorch's default data type\n",
    "\n",
    "torch.get_default_dtype()"
   ]
  },
  {
   "cell_type": "code",
   "execution_count": 3,
   "id": "73deb3b8",
   "metadata": {},
   "outputs": [],
   "source": [
    "# TypeError: only floating-point types are supported as the default type (when torch.int is passed as an function argument)\n",
    "# torch.set_default_dtype(torch.int)\n",
    "\n",
    "torch.set_default_dtype(torch.float64)"
   ]
  },
  {
   "cell_type": "code",
   "execution_count": 4,
   "id": "d61e02e5",
   "metadata": {},
   "outputs": [
    {
     "data": {
      "text/plain": [
       "torch.float64"
      ]
     },
     "execution_count": 4,
     "metadata": {},
     "output_type": "execute_result"
    }
   ],
   "source": [
    "torch.get_default_dtype()"
   ]
  },
  {
   "cell_type": "code",
   "execution_count": 7,
   "id": "3a6fba48",
   "metadata": {},
   "outputs": [
    {
     "name": "stdout",
     "output_type": "stream",
     "text": [
      "Cuda Toolkit version: 11.3\n",
      "Cuda available: False\n",
      "Cuda device count: 0\n"
     ]
    }
   ],
   "source": [
    "# print the version of CUDA being used by pytorch\n",
    "print(\"Cuda Toolkit version:\", torch.version.cuda)\n",
    "print(\"Cuda available:\", torch.cuda.is_available())\n",
    "print(\"Cuda device count:\", torch.cuda.device_count())\n",
    "\n",
    "if torch.cuda.is_available():\n",
    "    curr_device = torch.cuda.current_device()\n",
    "    print(\"Cuda current device:\", curr_device)\n",
    "    print(\"Cuda device name:\", torch.cuda.get_device_name(curr_device))\n",
    "    print(\"Cuda device properties:\", torch.cuda.get_device_properties(curr_device))\n",
    "    # 7.5\n",
    "    print(\"Cuda compute capability:\", torch.cuda.get_device_capability(curr_device))\n",
    "    print('Memory Usage:')\n",
    "    print('Allocated:', round(torch.cuda.memory_allocated(curr_device)/1024**3,1), 'GB')\n",
    "    print('Cached:   ', round(torch.cuda.memory_reserved(curr_device)/1024**3,1), 'GB')\n",
    "\n",
    "    torch.cuda.memory_allocated(curr_device)\n",
    "\n",
    "\n",
    "    # torch.cuda.memory_reserved(curr_device)"
   ]
  },
  {
   "cell_type": "code",
   "execution_count": 8,
   "id": "a2f260f2",
   "metadata": {},
   "outputs": [
    {
     "data": {
      "text/plain": [
       "tensor([[1., 2., 3.],\n",
       "        [4., 5., 6.]])"
      ]
     },
     "execution_count": 8,
     "metadata": {},
     "output_type": "execute_result"
    }
   ],
   "source": [
    "# create a torch tensor by specifiying Python list as its input\n",
    "# when we use torch.tensor, it is an alias for the default tensor type, namely torch.FloatTensor()\n",
    "tensor_arr = torch.Tensor([[1, 2, 3], [4, 5, 6]])\n",
    "tensor_arr"
   ]
  },
  {
   "cell_type": "code",
   "execution_count": 9,
   "id": "1df71c89",
   "metadata": {},
   "outputs": [
    {
     "data": {
      "text/plain": [
       "True"
      ]
     },
     "execution_count": 9,
     "metadata": {},
     "output_type": "execute_result"
    }
   ],
   "source": [
    "# check whether the particular python object is a torch tensor\n",
    "torch.is_tensor(tensor_arr)"
   ]
  },
  {
   "cell_type": "code",
   "execution_count": 10,
   "id": "a98af731",
   "metadata": {},
   "outputs": [
    {
     "data": {
      "text/plain": [
       "6"
      ]
     },
     "execution_count": 10,
     "metadata": {},
     "output_type": "execute_result"
    }
   ],
   "source": [
    "# get number of elements in torch tensor no matter what its size and shape\n",
    "torch.numel(tensor_arr)"
   ]
  },
  {
   "cell_type": "code",
   "execution_count": 11,
   "id": "a1291cf2",
   "metadata": {},
   "outputs": [
    {
     "data": {
      "text/plain": [
       "tensor([[6.1989e-91, 6.5303e-42],\n",
       "        [6.5495e-43, 8.6044e-43]])"
      ]
     },
     "execution_count": 11,
     "metadata": {},
     "output_type": "execute_result"
    }
   ],
   "source": [
    "# When you specify torch.Tensor and you only indicate the shape of the tensor, the resulting tensor object will be uninitialized\n",
    "tensor_uninitialized = torch.Tensor(2, 2)\n",
    "\n",
    "# this means that behind the scenes PyTorch will allocate the memory for this tensor\n",
    "# but it won't set up any initial values because you have not specified any\n",
    "tensor_uninitialized"
   ]
  },
  {
   "cell_type": "code",
   "execution_count": 12,
   "id": "14687d7f",
   "metadata": {},
   "outputs": [
    {
     "data": {
      "text/plain": [
       "tensor([[0.4202, 0.2169],\n",
       "        [0.1307, 0.2994]])"
      ]
     },
     "execution_count": 12,
     "metadata": {},
     "output_type": "execute_result"
    }
   ],
   "source": [
    "# torch.rand will initialize the tensor with random values,\n",
    "# this is a quick and easy way to initialize the weights of your model parameters\n",
    "tensor_initialized = torch.rand(2, 2)\n",
    "tensor_initialized"
   ]
  },
  {
   "cell_type": "code",
   "execution_count": 13,
   "id": "8d34d19e",
   "metadata": {},
   "outputs": [
    {
     "data": {
      "text/plain": [
       "tensor([5, 3], dtype=torch.int32)"
      ]
     },
     "execution_count": 13,
     "metadata": {},
     "output_type": "execute_result"
    }
   ],
   "source": [
    "# int tensor on cpu\n",
    "tensor_int = torch.tensor([5, 3]).type(torch.IntTensor)\n",
    "tensor_int"
   ]
  },
  {
   "cell_type": "code",
   "execution_count": 14,
   "id": "a34fce25",
   "metadata": {},
   "outputs": [],
   "source": [
    "# int tensor on gpu\n",
    "# tensor_int = torch.tensor([5, 3]).type(torch.cuda.IntTensor)\n",
    "# del tensor_int\n",
    "# torch.cuda.empty_cache() "
   ]
  },
  {
   "cell_type": "code",
   "execution_count": 15,
   "id": "aad6b971",
   "metadata": {},
   "outputs": [
    {
     "data": {
      "text/plain": [
       "tensor([1, 2, 3], dtype=torch.int16)"
      ]
     },
     "execution_count": 15,
     "metadata": {},
     "output_type": "execute_result"
    }
   ],
   "source": [
    "tensor_short = torch.ShortTensor([1, 2, 3])\n",
    "tensor_short"
   ]
  },
  {
   "cell_type": "code",
   "execution_count": 16,
   "id": "c4192c71",
   "metadata": {},
   "outputs": [
    {
     "data": {
      "text/plain": [
       "tensor([1., 2., 3.], dtype=torch.float16)"
      ]
     },
     "execution_count": 16,
     "metadata": {},
     "output_type": "execute_result"
    }
   ],
   "source": [
    "# PyTorch also has support for tensors of type torch.half. This is a floating point tensor which occupies half as much memory\n",
    "# for each element as a float32, which means these are float16 elements.\n",
    "tensor_float = torch.tensor([1, 2, 3]).type(torch.half)\n",
    "tensor_float"
   ]
  },
  {
   "cell_type": "code",
   "execution_count": 17,
   "id": "537b9741",
   "metadata": {},
   "outputs": [
    {
     "data": {
      "text/plain": [
       "tensor([[10, 10, 10, 10, 10, 10],\n",
       "        [10, 10, 10, 10, 10, 10]])"
      ]
     },
     "execution_count": 17,
     "metadata": {},
     "output_type": "execute_result"
    }
   ],
   "source": [
    "tensor_fill = torch.full((2, 6), fill_value=10)\n",
    "tensor_fill"
   ]
  },
  {
   "cell_type": "code",
   "execution_count": 18,
   "id": "d1912a3b",
   "metadata": {},
   "outputs": [
    {
     "data": {
      "text/plain": [
       "tensor([[1, 1, 1, 1],\n",
       "        [1, 1, 1, 1]], dtype=torch.int32)"
      ]
     },
     "execution_count": 18,
     "metadata": {},
     "output_type": "execute_result"
    }
   ],
   "source": [
    "tensor_of_ones = torch.ones((2, 4), dtype=torch.int32)\n",
    "tensor_of_ones"
   ]
  },
  {
   "cell_type": "code",
   "execution_count": 19,
   "id": "ecab463d",
   "metadata": {},
   "outputs": [
    {
     "data": {
      "text/plain": [
       "tensor([[0, 0, 0, 0],\n",
       "        [0, 0, 0, 0]], dtype=torch.int32)"
      ]
     },
     "execution_count": 19,
     "metadata": {},
     "output_type": "execute_result"
    }
   ],
   "source": [
    "# create the tensor of zeroes in the size, shape and data type of tensor_of_ones\n",
    "tensor_of_zeros = torch.zeros_like(tensor_of_ones)\n",
    "tensor_of_zeros"
   ]
  },
  {
   "cell_type": "code",
   "execution_count": 20,
   "id": "10882239",
   "metadata": {},
   "outputs": [
    {
     "data": {
      "text/plain": [
       "tensor([[1., 0., 0., 0., 0.],\n",
       "        [0., 1., 0., 0., 0.],\n",
       "        [0., 0., 1., 0., 0.],\n",
       "        [0., 0., 0., 1., 0.],\n",
       "        [0., 0., 0., 0., 1.]])"
      ]
     },
     "execution_count": 20,
     "metadata": {},
     "output_type": "execute_result"
    }
   ],
   "source": [
    "# torch.eye will create two dimensional square matrix with the main diagonal filled with 1s.\n",
    "tensor_eye = torch.eye(5)\n",
    "tensor_eye"
   ]
  },
  {
   "cell_type": "code",
   "execution_count": 21,
   "id": "0f7dabd1",
   "metadata": {},
   "outputs": [
    {
     "data": {
      "text/plain": [
       "tensor([[0, 0],\n",
       "        [1, 1],\n",
       "        [2, 2],\n",
       "        [3, 3],\n",
       "        [4, 4]])"
      ]
     },
     "execution_count": 21,
     "metadata": {},
     "output_type": "execute_result"
    }
   ],
   "source": [
    "# if you already have a tensor instantiated and you want to figure out at what indices the nonzero elements lie, \n",
    "# you can call torch.nonzero function.\n",
    "non_zero = torch.nonzero(tensor_eye)\n",
    "# will show [i, j] indices of non-zero elements\n",
    "non_zero"
   ]
  },
  {
   "cell_type": "code",
   "execution_count": 22,
   "id": "80ec64d2",
   "metadata": {},
   "outputs": [
    {
     "data": {
      "text/plain": [
       "tensor([[0, 1, 1],\n",
       "        [2, 2, 0]])"
      ]
     },
     "execution_count": 22,
     "metadata": {},
     "output_type": "execute_result"
    }
   ],
   "source": [
    "# torch.tensor() always makes a copy of the underlying data of the tensor\n",
    "# torch.tensor() can be used to copy existing tensor or numpy array or list.\n",
    "# torch.tensor infers the dtype automatically, while torch.Tensor returns a torch.FloatTensor.\n",
    "# I would recommend to stick to torch.tensor, which also has arguments like dtype, if you would like to change the type.\n",
    "i = torch.tensor([[0, 1, 1], \n",
    "                  [2, 2, 0]])\n",
    "\n",
    "i"
   ]
  },
  {
   "cell_type": "code",
   "execution_count": 23,
   "id": "0884ff37",
   "metadata": {},
   "outputs": [
    {
     "data": {
      "text/plain": [
       "tensor([3., 4., 5.], dtype=torch.float32)"
      ]
     },
     "execution_count": 23,
     "metadata": {},
     "output_type": "execute_result"
    }
   ],
   "source": [
    "v = torch.tensor([3, 4, 5], dtype=torch.float32)\n",
    "v"
   ]
  },
  {
   "cell_type": "code",
   "execution_count": 24,
   "id": "78a94161",
   "metadata": {},
   "outputs": [
    {
     "name": "stdout",
     "output_type": "stream",
     "text": [
      "tensor(indices=tensor([[0, 1, 1],\n",
      "                       [2, 2, 0]]),\n",
      "       values=tensor([3., 4., 5.]),\n",
      "       size=(2, 5), nnz=3, dtype=torch.float32, layout=torch.sparse_coo)\n",
      "tensor(indices=tensor([[0, 1, 1],\n",
      "                       [2, 2, 0]]),\n",
      "       values=tensor([3., 4., 5.]),\n",
      "       size=(2, 5), nnz=3, dtype=torch.float32, layout=torch.sparse_coo)\n"
     ]
    },
    {
     "data": {
      "text/plain": [
       "tensor([[0., 0., 3., 0., 0.],\n",
       "        [5., 0., 4., 0., 0.]], dtype=torch.float32)"
      ]
     },
     "execution_count": 24,
     "metadata": {},
     "output_type": "execute_result"
    }
   ],
   "source": [
    "# tensors i and v above are dense tensors; all of the elements have usually nonzero values.\n",
    "# PyTorch also has a support for sparse tensors which are very commonly used. When you build your machine learning models,\n",
    "# your data may not always be dense, it would be sparse data and you might want to use a sparse tensor.\n",
    "# The sparse_coo_tensor function constructs a sparse tensor in coordinate format. The non-zero elements are at the indices\n",
    "# that you specify that is i, with the given values that you specified, which is the variable v. The resulting sparse tensor is\n",
    "# of shape 2, 5.\n",
    "\n",
    "# The tensor i that we had instantiated earlier specifies the indices at which sparse tensor contains data. And the tensor v \n",
    "# specifies the values contained in the sparse tensor.\n",
    "sparse_tensor = torch.sparse_coo_tensor(i, v, (2, 5))\n",
    "print(sparse_tensor)\n",
    "\n",
    "\n",
    "# Every PyTorch tensor has the .data variable, which you can use to access the underlying matrix.\n",
    "print(sparse_tensor.data)\n",
    "\n",
    "\n",
    "# To see what its dense equivalent contains\n",
    "# Unspecified elements in sparse_tensor are assumed to have the same value, fill value, which is zero by default.\n",
    "# (0, 2) => 3, (1, 2) => 4, (1, 0) => 5; the rest will be zero\n",
    "sparse_tensor.to_dense()"
   ]
  },
  {
   "cell_type": "code",
   "execution_count": 25,
   "id": "384ed9c0",
   "metadata": {},
   "outputs": [
    {
     "name": "stdout",
     "output_type": "stream",
     "text": [
      "tensor(indices=tensor([[0, 1, 2, 0, 2],\n",
      "                       [0, 1, 2, 2, 0]]),\n",
      "       values=tensor([89, 21, 33, 57, 94]),\n",
      "       size=(4, 5), nnz=5, layout=torch.sparse_coo)\n",
      "tensor([[89,  0, 57,  0,  0],\n",
      "        [ 0, 21,  0,  0,  0],\n",
      "        [94,  0, 33,  0,  0],\n",
      "        [ 0,  0,  0,  0,  0]])\n"
     ]
    }
   ],
   "source": [
    "# Another example for sparse tensors\n",
    "indices = torch.tensor([[0, 1, 2, 0, 2],\n",
    "                        [0, 1, 2, 2, 0]])\n",
    "# print(indices.shape)\n",
    "\n",
    "# Seed everything\n",
    "# seed = 7\n",
    "# random.seed(seed)\n",
    "# np.random.seed(seed)\n",
    "# torch.manual_seed(seed)\n",
    "# torch.cuda.manual_seed_all(seed)\n",
    "\n",
    "# https://pytorch.org/docs/stable/generated/torch.randint.html\n",
    "values = torch.tensor([89, 21, 33, 57, 94])\n",
    "s = torch.sparse_coo_tensor(indices, values, (4, 5))\n",
    "print(s)\n",
    "print(s.to_dense())"
   ]
  },
  {
   "cell_type": "markdown",
   "id": "b8ac4eb9",
   "metadata": {},
   "source": [
    "# Demo: Simple Operations on Tensors"
   ]
  },
  {
   "cell_type": "code",
   "execution_count": 26,
   "id": "8ffe2d38",
   "metadata": {},
   "outputs": [
    {
     "data": {
      "text/plain": [
       "tensor([[0.9172, 0.0934, 0.4675],\n",
       "        [0.6958, 0.3620, 0.4494]])"
      ]
     },
     "execution_count": 26,
     "metadata": {},
     "output_type": "execute_result"
    }
   ],
   "source": [
    "initial_tensor = torch.rand(2, 3)\n",
    "\n",
    "initial_tensor"
   ]
  },
  {
   "cell_type": "code",
   "execution_count": null,
   "id": "f5f4cea9",
   "metadata": {},
   "outputs": [],
   "source": []
  }
 ],
 "metadata": {
  "kernelspec": {
   "display_name": "Python [conda env:pytorch_env] *",
   "language": "python",
   "name": "conda-env-pytorch_env-py"
  },
  "language_info": {
   "codemirror_mode": {
    "name": "ipython",
    "version": 3
   },
   "file_extension": ".py",
   "mimetype": "text/x-python",
   "name": "python",
   "nbconvert_exporter": "python",
   "pygments_lexer": "ipython3",
   "version": "3.7.1"
  }
 },
 "nbformat": 4,
 "nbformat_minor": 5
}
