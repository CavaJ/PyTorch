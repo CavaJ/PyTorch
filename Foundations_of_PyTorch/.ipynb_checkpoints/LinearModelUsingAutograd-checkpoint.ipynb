{
 "cells": [
  {
   "cell_type": "code",
   "execution_count": 108,
   "id": "96b8804c",
   "metadata": {},
   "outputs": [],
   "source": [
    "# In this demo, we'll build the simplest possible neural network by hand,\n",
    "# one with a single neuron and no activation function,\n",
    "# and we'll use the Autograd package directly in order to\n",
    "# train our neural network weights.\n",
    "# We'll use this very simple neural network to perform\n",
    "# linear regression on a toy data set.\n",
    "\n",
    "# We'll set up a toy data set using NumPy arrays that we'll\n",
    "# convert to tensors and we'll use matplotlib to visualize\n",
    "# the resulting linear model.\n",
    "\n",
    "import numpy as np\n",
    "import random\n",
    "import os\n",
    "import matplotlib.pyplot as plt"
   ]
  },
  {
   "cell_type": "code",
   "execution_count": 109,
   "id": "adbf1974",
   "metadata": {},
   "outputs": [
    {
     "name": "stdout",
     "output_type": "stream",
     "text": [
      "(15, 1)\n",
      "(15, 1)\n"
     ]
    }
   ],
   "source": [
    "# Here is the toy data set that we'll use to train our very simple neural network.\n",
    "# Now this is going to be very simple, manually generated data.\n",
    "\n",
    "# x_train compromised of the features that we use to train our model.\n",
    "# Notice that these are single features, there is just one feature in x_train.\n",
    "# 15 instances and only 1 feature.\n",
    "x_train = np.array([[4.7], \n",
    "                    [2.4], \n",
    "                    [7.5], \n",
    "                    [7.1], \n",
    "                    [4.3], \n",
    "                    [7.816],\n",
    "                    [8.9],\n",
    "                    [5.2], \n",
    "                    [8.59],\n",
    "                    [2.1],\n",
    "                    [8],\n",
    "                    [10],\n",
    "                    [4.5],\n",
    "                    [6], \n",
    "                    [4]], dtype=np.float32)\n",
    "print(x_train.shape)\n",
    "# display(x_train.shape) # outputs the same thing as the print function\n",
    "\n",
    "# And y_train corresponds to the target values that we'll use to train our model.\n",
    "# actual target values for 15 instances in x_train. 15 instances and 1 target value from continuous space.\n",
    "y_train = np.array([[2.6], \n",
    "                    [1.6], \n",
    "                    [3.09], \n",
    "                    [2.4], \n",
    "                    [2.4], \n",
    "                    [3.357], \n",
    "                    [2.6],\n",
    "                    [1.96],\n",
    "                    [3.53],\n",
    "                    [1.76],\n",
    "                    [3.2],\n",
    "                    [3.5],\n",
    "                    [1.6],\n",
    "                    [2.5],\n",
    "                    [2.2]], dtype=np.float32)\n",
    "print(y_train.shape)\n",
    "# display(y_train.shape) # outputs the same thing as the print function"
   ]
  },
  {
   "cell_type": "code",
   "execution_count": 110,
   "id": "905677a1",
   "metadata": {},
   "outputs": [
    {
     "data": {
      "image/png": "[encoded data removed]",
      "text/plain": [
       "<Figure size 1200x800 with 1 Axes>"
      ]
     },
     "metadata": {},
     "output_type": "display_data"
    }
   ],
   "source": [
    "# Let's visualize this relationship between x and y using matplotlib.\n",
    "# This will help us understand how a linear model will work.\n",
    "# We'll use a scatter plot and plot x versus y,\n",
    "# and here is what our original data looks like.\n",
    "\n",
    "plt.figure(figsize=(12, 8))\n",
    "plt.scatter(x_train, y_train, label='Original data', s=150, c='g')\n",
    "plt.legend()\n",
    "plt.show()"
   ]
  },
  {
   "cell_type": "code",
   "execution_count": 111,
   "id": "7bae1a7a",
   "metadata": {},
   "outputs": [
    {
     "name": "stdout",
     "output_type": "stream",
     "text": [
      "torch.Size([15, 1])\n",
      "torch.Size([15, 1])\n",
      "requires_grad for X_train:  False\n",
      "requires_grad for Y_train:  False\n"
     ]
    }
   ],
   "source": [
    "# You can see that there is a linear relationship between x and y.\n",
    "# Let's see if our little neural network can fit a linear model on this data.\n",
    "\n",
    "\n",
    "# Import the torch library and the first order of business is to convert our x and y values to tensors.\n",
    "import torch\n",
    "\n",
    "# We use torch.from_numpy to get X_train and Y_train tensors \n",
    "# (and do not forget that they share the same memory with numpy arrays they originated from),\n",
    "# and we print out the requires_grad property for both of these tensors.\n",
    "X_train = torch.from_numpy(x_train)\n",
    "Y_train = torch.from_numpy(y_train)\n",
    "print(X_train.shape)\n",
    "print(Y_train.shape)\n",
    "\n",
    "# requires_grad property for both of these tensors are set to false by default.\n",
    "print('requires_grad for X_train: ', X_train.requires_grad)\n",
    "print('requires_grad for Y_train: ', Y_train.requires_grad)"
   ]
  },
  {
   "cell_type": "code",
   "execution_count": 112,
   "id": "ad5abade",
   "metadata": {},
   "outputs": [
    {
     "name": "stdout",
     "output_type": "stream",
     "text": [
      "Random seed set as 42\n"
     ]
    }
   ],
   "source": [
    "# Following is the code snippet you can readily use in your codebase to set up random seeds for all the \n",
    "# involved libraries in a PyTorch pipeline.\n",
    "def set_seed(seed: int = 42) -> None:\n",
    "    np.random.seed(seed)\n",
    "    random.seed(seed)\n",
    "    torch.manual_seed(seed)\n",
    "    torch.cuda.manual_seed(seed)\n",
    "    # When running on the CuDNN backend, two further options must be set\n",
    "    torch.backends.cudnn.deterministic = True\n",
    "    torch.backends.cudnn.benchmark = False\n",
    "    # Set a fixed value for the hash seed\n",
    "    os.environ[\"PYTHONHASHSEED\"] = str(seed)\n",
    "    print(f\"Random seed set as {seed}\")\n",
    "\n",
    "# What most people forget while setting random seeds in PyTorch is that you also need to set the seed for numpy,\n",
    "# random, and the inherent Python seed. This function also sets that to a unique value.\n",
    "set_seed(42)"
   ]
  },
  {
   "cell_type": "code",
   "execution_count": 113,
   "id": "e3d448dc",
   "metadata": {},
   "outputs": [
    {
     "name": "stdout",
     "output_type": "stream",
     "text": [
      "torch.Size([1, 1])\n"
     ]
    },
    {
     "data": {
      "text/plain": [
       "tensor([[0.8823]], requires_grad=True)"
      ]
     },
     "execution_count": 113,
     "metadata": {},
     "output_type": "execute_result"
    }
   ],
   "source": [
    "# We'll now set up variables specifying the size of\n",
    "# the input to our neural network, the size of the hidden layer,\n",
    "# and the size of the output.\n",
    "# All three are set to 1.\n",
    "# general setup of our model: input layer (assumes no neurons here) -> hidden_layer -> output layer (assumes no neurons here),\n",
    "# namely X -> X_ = W1 x X -> our_neuron -> W2 x X_ -> y_predicted (x represents dot product),\n",
    "# W2 x (W1 x X) is still a linear function.\n",
    "# number of hidden layers is determined by how many activation functions we want pass our input through.\n",
    "input_size = 1 # just one feature/variable in X_train\n",
    "hidden_size = 1 # just one neuron in hidden layer\n",
    "output_size = 1 # just one output (single scalar value from continous space)\n",
    "\n",
    "\n",
    "# We have just one neuron and we have just one x feature that we'll feed in as input,\n",
    "# and we have just one y value that we want to predict, that is our output size.\n",
    "# We won't use any PyTorch's built-in layers to set up this neural network,\n",
    "# we'll construct one manually using tensors.\n",
    "# Note that, since we have one feature/variable in X_train, we will also have one weight in the input layer\n",
    "# (since affine tranformation is like w1 * x[i]_1 + w2 * x[i]_2 + ... + wm * x[i]_m, for m features and \n",
    "# for every instance i in from 1 to n), \n",
    "# so weight tensor in the input layer will be 1x1. \n",
    "# X_train has a shape of 15x1, w1 has a shape of 1x1 \n",
    "# => X_train \\dot_product w1 will have a shape of 15x1 (shape of calculated intermediate matrix).\n",
    "\n",
    "\n",
    "# w1 contains the weights for the input to our neural network. The shape of w1 is input_size multiplied by hidden_size,\n",
    "# and it requires gradients.\n",
    "# Gradient calculation has to be turned on for w1 because these are\n",
    "# the model parameters that we're going to train.\n",
    "# The gradients calculated for w1 with respect to the loss\n",
    "# function will be used to train our model.\n",
    "w1 = torch.rand(input_size, hidden_size, requires_grad=True)\n",
    "\n",
    "# w1 represents the weights (i.e. the connections between input layer and hidden layer) that we applied to the input,\n",
    "# it's input_size by hidden_size.\n",
    "print(w1.shape)\n",
    "\n",
    "# w1 populated with an initial random value\n",
    "w1"
   ]
  },
  {
   "cell_type": "code",
   "execution_count": 114,
   "id": "39255a49",
   "metadata": {},
   "outputs": [
    {
     "data": {
      "text/plain": [
       "tensor([[0.9150]], requires_grad=True)"
      ]
     },
     "execution_count": 114,
     "metadata": {},
     "output_type": "execute_result"
    }
   ],
   "source": [
    "# Let's now set up w2.\n",
    "# These are the weights that correspond to the connection\n",
    "# between the hidden_layer and the final output.\n",
    "# Requires_grad is once again true.\n",
    "# These are also model parameters that will be trained using autograd.\n",
    "w2 = torch.rand(hidden_size, output_size, requires_grad=True)\n",
    "\n",
    "# w2 is also of size [1, 1], since the hidden layer size is 1 and our output size is also 1.\n",
    "w2.shape\n",
    "\n",
    "# w2 also populated with an initial random value\n",
    "w2"
   ]
  },
  {
   "cell_type": "code",
   "execution_count": 75,
   "id": "6e013c95",
   "metadata": {},
   "outputs": [],
   "source": [
    "# Next we specify a design hyper parameter for any neural network,\n",
    "# and that is the learning_rate.\n",
    "# The learning_rate determines the size of the step that your model parameters take towards the optimum.\n",
    "learning_rate = 1e-6\n",
    "\n",
    "# When you're tweaking your model parameters using gradients in the backward pass,\n",
    "# you multiply your gradient values by the learning_rate to\n",
    "# determine by how much you tweak your model parameters.\n",
    "\n",
    "# With all of this in place, we are now ready to set up training for our simple neural network,\n",
    "# and we'll train our neural network for a number of iterations specified using this for loop.\n",
    "# This for loop runs for 10 iterations first.\n",
    "# Now this is not very many iterations.\n",
    "# We'll increase this number in a bit and see how our model performs.\n",
    "# NOTE: torch.mm(input, mat2, *, out=None) → Tensor; mm is a dot product between two matrices.\n",
    "# Performs a matrix multiplication of the matrices input and mat2. Namely,\n",
    "# If input is a (n×m) tensor, mat2 is a  (m×p) tensor, out will be a (n×p) tensor.\n",
    "for iter in range(1, 10):\n",
    "    # Perform a forward pass through the neural network constructed using a single linear neuron with no activation function.\n",
    "    # The first step here is to make a forward pass through our\n",
    "    # neural network in order to get predicted values.\n",
    "    # The forward pass will work with the current weights of our model parameters.\n",
    "    # The weights are w1 and w2 that we initialized at random.\n",
    "    # So we multiply X_train by w1 and multiply the result by w2.\n",
    "    # This is the simplest possible neural network with a single neuron.\n",
    "    # And no activation function, because we want to learn a linear model.\n",
    "    y_pred = X_train.mm(w1).mm(w2)\n",
    "    \n",
    "    # After having made the forward pass through our neural network,\n",
    "    # we get y_pred, that is our current predicated values.\n",
    "    # Once we have predicated values for this forward pass,\n",
    "    # we can now use these predicted values against the actual\n",
    "    # values that we have in Y_train to calculate the least square\n",
    "    # error loss for linear regression.\n",
    "    # Least squares error (LSE) loss. When you're performing linear regression, this is the standard error function.\n",
    "    # Least squares error is calculated by subtracting actual values from\n",
    "    # predicted values and finding the sum of the squares.\n",
    "    loss = (y_pred - Y_train).pow(2).sum()\n",
    "\n",
    "    \n",
    "    # For every 50 iterations of training, let's print out the current value of loss.\n",
    "    # This will allow us to see that we are converging towards a result.\n",
    "    if iter % 50 == 0:\n",
    "        print(iter, loss.item())# item() returns value of this tensor as a number. This only works for tensors with one element.\n",
    "    \n",
    "    \n",
    "    # After having performed the forward pass through our neural network,\n",
    "    # the next step is to calculate gradients,\n",
    "    # and this can be done by performing the backward pass,\n",
    "    # called loss.backward(), in order to calculate gradients for our model parameters.\n",
    "    # calculate gradients in the backward phase using backward() function.\n",
    "    loss.backward()\n",
    "    \n",
    "    \n",
    "    # Gradient vectors will now be available for the tensors w1 and w2.\n",
    "    # Now within a torch.no_grad() block, let's tweak our model parameters.\n",
    "    # Now we have torch.no_grad() because for the operations that we are\n",
    "    # about to perform to update our model weights,\n",
    "    # our model parameters, we don't really need to enable gradient tracking.\n",
    "    # So we call torch.no_grad() and we update w1 and w2.\n",
    "    with torch.no_grad():\n",
    "        # The gradients calculated for w1 and w2 with respect to the least\n",
    "        # squares error loss are stored in w1.grad and w2.grad.\n",
    "        # We multiply these gradients by the learning_rate and subtract this\n",
    "        # result from the current values of w1 and w2.\n",
    "        w1 -= learning_rate * w1.grad\n",
    "        w2 -= learning_rate * w2.grad\n",
    "        # print(\"w1.grad: \", w1.grad)\n",
    "        # print(\"w2.grad: \", w2.grad)\n",
    "        \n",
    "        #  -= operation above is an in-place operation and updates w1 in-place, \n",
    "        # therefore its original requires_grad property is retained even if we are inside torch.no_grad() block.\n",
    "        # However this is not case for w1 = w1 - learning_rate * w1.grad, in this case requires_grad will be false,\n",
    "        # since w1 = w1 - learning_rate * w1.grad is not an in-place operation, and new tensor is created.\n",
    "        # it is generally recommended to use the torch.no_grad() block when updating model parameters \n",
    "        # to ensure that no gradients are computed during the update operation, as it can save computation resources \n",
    "        # and help prevent potential bugs.\n",
    "        # print(\"w1.requires_grad: \", w1.requires_grad)\n",
    "        # print(\"w2.requires_grad: \", w2.requires_grad)\n",
    "        \n",
    "        \n",
    "        # Update operation above give us new values for w1 and w2 and we zero out the\n",
    "        # existing gradients on both of these weight tensors.\n",
    "        # In the next iteration,\n",
    "        # when we perform the next backward pass through this network,\n",
    "        # we'll calculate gradients afresh.\n",
    "        w1.grad.zero_()\n",
    "        w2.grad.zero_()\n",
    "        # print(\"w1.grad: \", w1.grad)\n",
    "        # print(\"w2.grad: \", w2.grad)"
   ]
  },
  {
   "cell_type": "code",
   "execution_count": 116,
   "id": "3e2055cc",
   "metadata": {},
   "outputs": [
    {
     "name": "stdout",
     "output_type": "stream",
     "text": [
      "w1:  tensor([[0.6151]], requires_grad=True)\n",
      "w2:  tensor([[0.6612]], requires_grad=True)\n"
     ]
    }
   ],
   "source": [
    "# We have the final weights for our model.\n",
    "# Let's print out values for w1 and w2 and you can see that it's 0.8780 and 0.9109.\n",
    "# Since this is just a toy model,\n",
    "# let's evaluate this model by running a few predictions\n",
    "# and then visualizing the result.\n",
    "print('w1: ', w1)\n",
    "print('w2: ', w2)"
   ]
  },
  {
   "cell_type": "code",
   "execution_count": 117,
   "id": "522ca97f",
   "metadata": {},
   "outputs": [
    {
     "data": {
      "text/plain": [
       "tensor([[ 4.7000],\n",
       "        [ 2.4000],\n",
       "        [ 7.5000],\n",
       "        [ 7.1000],\n",
       "        [ 4.3000],\n",
       "        [ 7.8160],\n",
       "        [ 8.9000],\n",
       "        [ 5.2000],\n",
       "        [ 8.5900],\n",
       "        [ 2.1000],\n",
       "        [ 8.0000],\n",
       "        [10.0000],\n",
       "        [ 4.5000],\n",
       "        [ 6.0000],\n",
       "        [ 4.0000]])"
      ]
     },
     "execution_count": 117,
     "metadata": {},
     "output_type": "execute_result"
    }
   ],
   "source": [
    "# We'll now use our final model weights to perform predictions and we'll\n",
    "# perform predictions on our training data itself.\n",
    "# Convert the x_train from a NumPy array to a tensor so\n",
    "# that we can use it for predictions.\n",
    "x_train_tensor = torch.from_numpy(x_train)\n",
    "x_train_tensor"
   ]
  },
  {
   "cell_type": "code",
   "execution_count": 118,
   "id": "3ea25faf",
   "metadata": {},
   "outputs": [
    {
     "data": {
      "text/plain": [
       "tensor([[1.9113],\n",
       "        [0.9760],\n",
       "        [3.0499],\n",
       "        [2.8872],\n",
       "        [1.7486],\n",
       "        [3.1784],\n",
       "        [3.6192],\n",
       "        [2.1146],\n",
       "        [3.4931],\n",
       "        [0.8540],\n",
       "        [3.2532],\n",
       "        [4.0665],\n",
       "        [1.8299],\n",
       "        [2.4399],\n",
       "        [1.6266]], grad_fn=<MmBackward0>)"
      ]
     },
     "execution_count": 118,
     "metadata": {},
     "output_type": "execute_result"
    }
   ],
   "source": [
    "# Let's get the predicted values of y by running our x_train tensor through\n",
    "# a matrix multiplication operation with w1 and then w2.\n",
    "# These are the train model weights that we calculated using\n",
    "# the Autograd package when we train the model for 10\n",
    "# iterations this first time around.\n",
    "predicted_in_tensor = x_train_tensor.mm(w1).mm(w2)\n",
    "\n",
    "# These are the predicted values in the tensor format from our neural network.\n",
    "predicted_in_tensor"
   ]
  },
  {
   "cell_type": "code",
   "execution_count": 119,
   "id": "886c9c89",
   "metadata": {},
   "outputs": [
    {
     "data": {
      "text/plain": [
       "array([[1.9112655 ],\n",
       "       [0.97596544],\n",
       "       [3.0498922 ],\n",
       "       [2.887231  ],\n",
       "       [1.7486049 ],\n",
       "       [3.178394  ],\n",
       "       [3.619205  ],\n",
       "       [2.1145916 ],\n",
       "       [3.493143  ],\n",
       "       [0.8539697 ],\n",
       "       [3.2532182 ],\n",
       "       [4.0665226 ],\n",
       "       [1.8299352 ],\n",
       "       [2.4399135 ],\n",
       "       [1.6266091 ]], dtype=float32)"
      ]
     },
     "execution_count": 119,
     "metadata": {},
     "output_type": "execute_result"
    }
   ],
   "source": [
    "# Let's convert these to the NumPy formats that we can\n",
    "# visualize this using matplotlib.\n",
    "# I detach the predicted values from our computation graph and call\n",
    "# .numpy to get predicted values in the numpy format.\n",
    "\n",
    "predicted = predicted_in_tensor.detach().numpy()\n",
    "predicted"
   ]
  },
  {
   "cell_type": "code",
   "execution_count": 120,
   "id": "af0e283a",
   "metadata": {},
   "outputs": [
    {
     "data": {
      "image/png": "[encoded data removed]",
      "text/plain": [
       "<Figure size 1200x800 with 1 Axes>"
      ]
     },
     "metadata": {},
     "output_type": "display_data"
    }
   ],
   "source": [
    "# Now let's set up a simple matplotlib scatter plot that will allow us to view the training data,\n",
    "# the x and the y training values,\n",
    "# and then the x training values against the y predicted values.\n",
    "# Since this is a linear model,\n",
    "# the predicted values should be in the form of a straight line.\n",
    "\n",
    "plt.figure(figsize=(12, 8))\n",
    "plt.scatter(x_train, y_train, label='Original data', s=150, c='g')\n",
    "plt.plot(x_train, predicted, label='Fitted line')\n",
    "plt.legend()\n",
    "\n",
    "# This is our fitted line, found using linear regression on a simple neural network.\n",
    "# And if you take a look at the resulting chart,\n",
    "# you'll see that we performed pretty badly.\n",
    "# Our line is nowhere near the original data.\n",
    "plt.show()"
   ]
  },
  {
   "cell_type": "code",
   "execution_count": 115,
   "id": "433988f4",
   "metadata": {},
   "outputs": [
    {
     "name": "stdout",
     "output_type": "stream",
     "text": [
      "50 92.0448989868164\n",
      "100 76.73837280273438\n",
      "150 64.58138275146484\n",
      "200 54.815345764160156\n",
      "250 46.89157485961914\n",
      "300 40.40555191040039\n",
      "350 35.054420471191406\n",
      "400 30.608638763427734\n",
      "450 26.89166831970215\n",
      "500 23.766273498535156\n",
      "550 21.124757766723633\n",
      "600 18.881675720214844\n",
      "650 16.96889877319336\n",
      "700 15.331315994262695\n",
      "750 13.924382209777832\n",
      "800 12.711577415466309\n",
      "850 11.662955284118652\n",
      "900 10.753769874572754\n",
      "950 9.963409423828125\n",
      "1000 9.274742126464844\n",
      "1050 8.673320770263672\n",
      "1100 8.147025108337402\n",
      "1150 7.685596466064453\n",
      "1200 7.280288219451904\n",
      "1250 6.923697471618652\n",
      "1300 6.609473705291748\n",
      "1350 6.332193851470947\n",
      "1400 6.087132453918457\n",
      "1450 5.870326995849609\n",
      "1500 5.678282260894775\n",
      "1550 5.507970809936523\n",
      "1600 5.356778144836426\n",
      "1650 5.222411632537842\n",
      "1700 5.102904319763184\n",
      "1750 4.996510982513428\n",
      "1800 4.9017181396484375\n",
      "1850 4.817193984985352\n",
      "1900 4.7417731285095215\n",
      "1950 4.674427032470703\n",
      "2000 4.614253044128418\n",
      "2050 4.560454368591309\n",
      "2100 4.512324333190918\n",
      "2150 4.469245433807373\n",
      "2200 4.430666923522949\n",
      "2250 4.396104335784912\n",
      "2300 4.3651251792907715\n",
      "2350 4.33734130859375\n",
      "2400 4.3124189376831055\n",
      "2450 4.290050506591797\n",
      "2500 4.269967555999756\n",
      "2550 4.251929759979248\n",
      "2600 4.2357258796691895\n",
      "2650 4.221164226531982\n",
      "2700 4.208073139190674\n",
      "2750 4.1963019371032715\n",
      "2800 4.185715675354004\n",
      "2850 4.176187992095947\n",
      "2900 4.16761589050293\n",
      "2950 4.159902095794678\n"
     ]
    }
   ],
   "source": [
    "# 1 . Now an important reason for this is that we didn't train for long enough.\n",
    "# Neural networks take longer to converge.\n",
    "# So let's go ahead and change the number of iterations from the original 10 to 100.\n",
    "\n",
    "# Having increased the number of epochs for which we train our model,\n",
    "# I'm going to hit Shift+Enter through all of the previous code,\n",
    "#which will print out the model weights, find the predicted values,\n",
    "# and so on.\n",
    "# And after that we'll go right to the bottom to the interesting\n",
    "# bit where we visualize the result.\n",
    "\n",
    "for iter in range(1, 3000):\n",
    "    y_pred = X_train.mm(w1).mm(w2)\n",
    "    \n",
    "    loss = (y_pred - Y_train).pow(2).sum()\n",
    "\n",
    "    if iter % 50 == 0:\n",
    "        print(iter, loss.item())# item() returns value of this tensor as a number. This only works for tensors with one element.\n",
    "\n",
    "    loss.backward()\n",
    "\n",
    "    with torch.no_grad():\n",
    "\n",
    "        w1 -= learning_rate * w1.grad\n",
    "        w2 -= learning_rate * w2.grad\n",
    "        \n",
    "        w1.grad.zero_()\n",
    "        w2.grad.zero_()\n",
    "        \n",
    "\n",
    "# 2. And here you can see that the model didn't improve much at all.\n",
    "# The line here is still at the bottom and the data is\n",
    "# far away from our fitted line.\n",
    "# Let's go back up here and change to 1000 iterations.\n",
    "# Hit Shift+Enter all the way through,\n",
    "# and you can see that the fitted line here is a little better.\n",
    "\n",
    "\n",
    "\n",
    "\n",
    "# 3. As we run our model for more epochs,\n",
    "# you can see that the line is moving closer to the data.\n",
    "# Our fitted line, our linear model, is improving.\n",
    "# Let's go back up here and run for 3000 iterations.\n",
    "# Now hit Shift+Enter through all of the rest of the code\n",
    "# until we come to the final visualization.\n",
    "# You can see that our fitted line fits the data perfectly.\n",
    "# We have trained a reasonably good linear model.\n",
    "# This was, of course,\n",
    "# only for demo purposes in order to understand how we can use the\n",
    "# Autograd package directly to train a neural network."
   ]
  },
  {
   "cell_type": "code",
   "execution_count": null,
   "id": "7b2372ec",
   "metadata": {},
   "outputs": [],
   "source": []
  }
 ],
 "metadata": {
  "kernelspec": {
   "display_name": "Python [conda env:pytorch_env] *",
   "language": "python",
   "name": "conda-env-pytorch_env-py"
  },
  "language_info": {
   "codemirror_mode": {
    "name": "ipython",
    "version": 3
   },
   "file_extension": ".py",
   "mimetype": "text/x-python",
   "name": "python",
   "nbconvert_exporter": "python",
   "pygments_lexer": "ipython3",
   "version": "3.7.1"
  }
 },
 "nbformat": 4,
 "nbformat_minor": 5
}
