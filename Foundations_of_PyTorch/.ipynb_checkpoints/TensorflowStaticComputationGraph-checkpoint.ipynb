{
 "cells": [
  {
   "cell_type": "markdown",
   "id": "97d655e2",
   "metadata": {},
   "source": [
    "# Demo: Building Static Computation Graphs with Tensorflow"
   ]
  },
  {
   "cell_type": "code",
   "execution_count": 1,
   "id": "0a93f752",
   "metadata": {},
   "outputs": [],
   "source": [
    "import tensorflow as tf"
   ]
  },
  {
   "cell_type": "code",
   "execution_count": 2,
   "id": "0ccc7dff",
   "metadata": {},
   "outputs": [
    {
     "name": "stdout",
     "output_type": "stream",
     "text": [
      "WARNING:tensorflow:From C:\\Users\\CavaJ\\AppData\\Local\\Temp\\ipykernel_9404\\171085627.py:21: The name tf.placeholder is deprecated. Please use tf.compat.v1.placeholder instead.\n",
      "\n"
     ]
    }
   ],
   "source": [
    "# I'm going to set up the same computation graph that we worked with earlier in PyTorch.\n",
    "# Y is equal to W*x plus b.\n",
    "# but notice that we now have to instantiate all of these W\n",
    "# x, and b values a little differently based on how we want to use them.\n",
    "\n",
    "# Now in the neural network or in our computation graph,\n",
    "# W will be instantiated as a variable if it is a trainable parameter.\n",
    "# This variable is a tensor,\n",
    "# but only variables can be trained in TensorFlow neural networks.\n",
    "# Constants and placeholders cannot.\n",
    "# So during the training of our neural network, the value of W can change.\n",
    "# It's initial value is 6.\n",
    "W = tf.Variable(6, name=\"var_W\")\n",
    "\n",
    "\n",
    "# Let's move to x, which I've instantiated as a placeholder.\n",
    "# Placeholders in TensorFlow don't hold any data when they're first created.\n",
    "# They're exactly what their name implies.\n",
    "# There is no initial value for a placeholder,\n",
    "# the values will be fed in when we execute our computation graph.\n",
    "x = tf.placeholder(tf.int32, shape = [3], name = 'x')\n",
    "# What we want to do here in TensorFlow is define our\n",
    "# computation graph before we run it.\n",
    "# X is a placeholder for values that we'll feed in later on,\n",
    "# it's of type int32 and shape 3.\n",
    "\n",
    "\n",
    "# b here is a TensorFlow constant.\n",
    "# The value for TensorFlow constants are specified up front and these\n",
    "# values cannot change over the lifetime of this object.\n",
    "# Constants cannot be a learnable or a trainable parameter of a neural network.\n",
    "# For b, we have assigned the value 3.\n",
    "b = tf.constant(3, name = 'constant_b')"
   ]
  },
  {
   "cell_type": "code",
   "execution_count": 3,
   "id": "7db434b5",
   "metadata": {},
   "outputs": [
    {
     "data": {
      "text/plain": [
       "<tf.Variable 'var_W:0' shape=() dtype=int32_ref>"
      ]
     },
     "execution_count": 3,
     "metadata": {},
     "output_type": "execute_result"
    }
   ],
   "source": [
    "# Observe that our variable, placeholder and constant have all\n",
    "# been specified using a name parameter.\n",
    "# This name uniquely identifies this variable when we\n",
    "# visualize this as a graph on TensorBoard.\n",
    "# Static computation graphs are defined and then run,\n",
    "# which means they can be visualized in a straightforward\n",
    "# manner using visualization tools,\n",
    "# and TensorBoard is a really cool tool available along with TensorFlow.\n",
    "\n",
    "\n",
    "# If you remember, we had initialized W with some initial values.\n",
    "# Let's take a look at what W contains, and \n",
    "# you'll find that you get a bunch of different\n",
    "# information about the variable itself, but you don't get the value that it holds.\n",
    "W\n",
    "\n",
    "\n",
    "# You can see that it's a TensorFlow variable,\n",
    "# you can see its shape,\n",
    "# you can see the name that has been assigned to it by TensorFlow.\n",
    "\n",
    "# But what about the contents?\n",
    "# You can't see it.\n",
    "# This is because the static computation graph basically doesn't assign the\n",
    "# contents to TensorFlow until you execute the graph.\n",
    "# So far we're still in the process of defining our computation graph."
   ]
  },
  {
   "cell_type": "code",
   "execution_count": 4,
   "id": "1798d4ed",
   "metadata": {},
   "outputs": [
    {
     "data": {
      "text/plain": [
       "<tf.Tensor 'x:0' shape=(3,) dtype=int32>"
      ]
     },
     "execution_count": 4,
     "metadata": {},
     "output_type": "execute_result"
    }
   ],
   "source": [
    "# And you'll find that if you try to view the placeholder that we had set up,\n",
    "# you can see details such as this placeholder is a tensor,\n",
    "# the shape, the type, and so on, but no actual value.\n",
    "# In fact, the placeholder does not have a value until you run your graph.\n",
    "x"
   ]
  },
  {
   "cell_type": "code",
   "execution_count": 5,
   "id": "0c927d1e",
   "metadata": {},
   "outputs": [
    {
     "data": {
      "text/plain": [
       "<tf.Tensor 'constant_b:0' shape=() dtype=int32>"
      ]
     },
     "execution_count": 5,
     "metadata": {},
     "output_type": "execute_result"
    }
   ],
   "source": [
    "# What about the constant b?\n",
    "# If you print out b, you'll see other details, but not the actual value.\n",
    "\n",
    "b\n",
    "\n",
    "# You can see that all of the assignments are done at the time of graph execution."
   ]
  },
  {
   "cell_type": "code",
   "execution_count": 6,
   "id": "be67cb06",
   "metadata": {},
   "outputs": [],
   "source": [
    "# Let's go ahead and set up the computation that we want to perform.\n",
    "# Y is equal to W multiplied by x plus b.\n",
    "# Now when we ran this operation in PyTorch, we immediately got the result.\n",
    "# Here in TensorFlow, this only serves to define the computation graph,\n",
    "# including the tensors and the operations we want to perform on those tensors.\n",
    "y = W*x + b"
   ]
  },
  {
   "cell_type": "code",
   "execution_count": 7,
   "id": "ea2eb763",
   "metadata": {},
   "outputs": [
    {
     "data": {
      "text/plain": [
       "<tf.Tensor 'add:0' shape=(3,) dtype=int32>"
      ]
     },
     "execution_count": 7,
     "metadata": {},
     "output_type": "execute_result"
    }
   ],
   "source": [
    "# Now if you try having a look at the contents of y,\n",
    "# you'll find that we've defined our computation graph\n",
    "# because we haven't executed it, y has no values.\n",
    "y\n",
    "\n",
    "# You can see that y is a tensor, you can see its shape,\n",
    "# you can see its type, you can also see its name.\n",
    "# But there are no contents."
   ]
  },
  {
   "cell_type": "code",
   "execution_count": 8,
   "id": "3cf491d2",
   "metadata": {},
   "outputs": [
    {
     "name": "stdout",
     "output_type": "stream",
     "text": [
      "WARNING:tensorflow:From C:\\Users\\CavaJ\\AppData\\Local\\Temp\\ipykernel_9404\\2526742311.py:6: The name tf.global_variables_initializer is deprecated. Please use tf.compat.v1.global_variables_initializer instead.\n",
      "\n"
     ]
    }
   ],
   "source": [
    "# Now that we have defined the computation graph in TensorFlow,\n",
    "# let's go ahead and execute the static computation graph.\n",
    "# The first thing we need to do is to call tf.global_variables_initializer,\n",
    "# which will initialize all of the variables that we have\n",
    "# created in our computation graph.\n",
    "init = tf.global_variables_initializer()\n",
    "\n",
    "# You'll see that this initialize is a part of our computation graph,\n",
    "# so we have created this initializer, we haven't executed it."
   ]
  },
  {
   "cell_type": "code",
   "execution_count": 9,
   "id": "59f7ba52",
   "metadata": {},
   "outputs": [
    {
     "name": "stdout",
     "output_type": "stream",
     "text": [
      "WARNING:tensorflow:From C:\\Users\\CavaJ\\AppData\\Local\\Temp\\ipykernel_9404\\927314148.py:17: The name tf.Session is deprecated. Please use tf.compat.v1.Session instead.\n",
      "\n",
      "Wx + b =  [ 63 123 183]\n"
     ]
    }
   ],
   "source": [
    "# The execution of your static computation graph in\n",
    "# TensorFlow occurs within a session.\n",
    "# So you have to explicitly instantiate a session and\n",
    "# use that to execute your graph.\n",
    "\n",
    "# And what is a session?\n",
    "# A session is a bridge between the client program,\n",
    "# which in this case is our Python program that we've written,\n",
    "# and the C++ libraries of TensorFlow.\n",
    "# You can think of the session as an execution\n",
    "# environment for your TensorFlow program.\n",
    "# This is how your Python code accesses the C++ runtime to execute your\n",
    "# neural network training and whatever else you're doing.\n",
    "# A session holds references to resources on your machine,\n",
    "# so it's best practice to instantiate a session with a with statement so that\n",
    "# the session is automatically closed when you exit this block (releasing the resources).\n",
    "with tf.Session() as sess:\n",
    "    # Before you exit your computation graph,\n",
    "    # you need to explicitly initialize the variables in your graph.\n",
    "    # This, you do by calling session.run on the variables initializer that is in it.\n",
    "    # This is the line of code that will actually initialize your W variable.\n",
    "    sess.run(init)\n",
    "    \n",
    "    # The next step is to execute our computation graph (now that\n",
    "    # our variables have been initialized, and this is done),\n",
    "    # once again, by calling session.run.\n",
    "    # The first parameter that you pass into session.run\n",
    "    # is what you want to calculate, the result you want to find.\n",
    "    # You want to find the result y,\n",
    "    # and for this you also need the value for your placeholder x.\n",
    "    # And you specify the value for the placeholder using\n",
    "    # something called a feed dictionary.\n",
    "    # The feed dictionary is an input parameter to your session.run statement that\n",
    "    # executes your computation graph and it feeds in the right values for all of\n",
    "    # the placeholders in your computation graph.\n",
    "    # Feed dictionaries in TensorFlow are typically used to\n",
    "    # feed in training data in batches.\n",
    "    # So here is our feed dictionary,\n",
    "    # and the result of this computation will be stored in y_result.\n",
    "    y_result = sess.run(y, feed_dict={x:[10, 20, 30]})\n",
    "    \n",
    "    # Now y_result will contain the actual result and you can print it out to view.\n",
    "    print(\"Wx + b = \", y_result)\n",
    "    \n",
    "\n",
    "# And this entire process that we followed to define a computation graph\n",
    "# first and then use a session to execute it should have brought home to you\n",
    "# the differences between TensorFlow and PyTorch,\n",
    "# between a static computation graph and a dynamic computation graph."
   ]
  },
  {
   "cell_type": "code",
   "execution_count": 10,
   "id": "a8055d77",
   "metadata": {},
   "outputs": [
    {
     "name": "stdout",
     "output_type": "stream",
     "text": [
      "WARNING:tensorflow:From C:\\Users\\CavaJ\\AppData\\Local\\Temp\\ipykernel_9404\\880576006.py:13: The name tf.summary.FileWriter is deprecated. Please use tf.compat.v1.summary.FileWriter instead.\n",
      "\n"
     ]
    }
   ],
   "source": [
    "# The cool thing about your static computation graph is that you can build\n",
    "# visualization tools to view how your neural network looks.\n",
    "# This is a small detail,\n",
    "# in addition to the other differences that we've discussed between static\n",
    "# computation graphs and dynamic computation graphs.\n",
    "\n",
    "\n",
    "# Within TensorFlow,\n",
    "# you can use the tf.summary.FileWriter to write out the\n",
    "# graph nodes and edges out to a file.\n",
    "# You're going to write this out to the /graphs directory\n",
    "# under our current working directory.\n",
    "writer = tf.summary.FileWriter('./graphs', sess.graph)"
   ]
  },
  {
   "cell_type": "code",
   "execution_count": 11,
   "id": "1e630dba",
   "metadata": {},
   "outputs": [],
   "source": [
    "# Once you've used the FileWriter,\n",
    "# it's good practice to call close on it so that we're not\n",
    "# holding a handle to this FileWriter.\n",
    "writer.close()"
   ]
  },
  {
   "cell_type": "code",
   "execution_count": 12,
   "id": "da79f61a",
   "metadata": {},
   "outputs": [
    {
     "name": "stdout",
     "output_type": "stream",
     "text": [
      "WARNING:tensorflow:From C:\\Users\\CavaJ\\AppData\\Local\\Temp\\ipykernel_9404\\440654689.py:5: The name tf.get_default_graph is deprecated. Please use tf.compat.v1.get_default_graph instead.\n",
      "\n"
     ]
    }
   ],
   "source": [
    "# Now you can set up different computation graphs within your TensorFlow program.\n",
    "# The computation graph that we built was added to the default graph for the session.\n",
    "# You can access the default graph by calling tf.get_default_graph().\n",
    "\n",
    "graph = tf.get_default_graph()"
   ]
  },
  {
   "cell_type": "code",
   "execution_count": 13,
   "id": "600d4809",
   "metadata": {},
   "outputs": [
    {
     "name": "stdout",
     "output_type": "stream",
     "text": [
      "[<tf.Operation 'var_W/initial_value' type=Const>, <tf.Operation 'var_W' type=VariableV2>, <tf.Operation 'var_W/Assign' type=Assign>, <tf.Operation 'var_W/read' type=Identity>, <tf.Operation 'x' type=Placeholder>, <tf.Operation 'constant_b' type=Const>, <tf.Operation 'mul' type=Mul>, <tf.Operation 'add' type=AddV2>, <tf.Operation 'init' type=NoOp>]\n"
     ]
    }
   ],
   "source": [
    "# There are several methods that you can invoke on this graph object,\n",
    "# for example, you can print out all of the operations that are\n",
    "# included in the graph that we just built.\n",
    "# You can see that a number of operations here are ones\n",
    "# that we have abstracted away from, the initialization of variables,\n",
    "# assignment to tensors, and so on.\n",
    "print(graph.get_operations())"
   ]
  },
  {
   "cell_type": "markdown",
   "id": "68690e8c",
   "metadata": {},
   "source": [
    "# We'll now switch over to a terminal window.\n",
    "\n",
    "Here we are in our current working directory where a\n",
    "\n",
    "graphs folder would have been created.\n",
    "\n",
    "We can run TensorBoard by calling tensorboard--logdir=graphs.\n",
    "\n",
    "Once TensorBoard is up and running,\n",
    "\n",
    "you can switch to your browser and hit localhost:6006.\n",
    "\n",
    "And you'll find your computation graph there nicely displayed.\n",
    "\n",
    "You can select this graph here by clicking on it and moving it around.\n",
    "\n",
    "You can also use the scroll button on your mouse to zoom in and out.\n",
    "\n",
    "Observe that all of your TensorFlow operations are\n",
    "\n",
    "specified in the form of nodes.\n",
    "\n",
    "Here is the init node.\n",
    "\n",
    "This is the initialization operation that we used to\n",
    "\n",
    "initialize our TensorFlow variables.\n",
    "\n",
    "Here is our learnable parameter, the variable W,\n",
    "\n",
    "and each time you select one of the nodes,\n",
    "\n",
    "you can see that at the top right this will give you details on that node.\n",
    "\n",
    "Here off to the right is our x placeholder.\n",
    "\n",
    "Now x and W were involved in a multiplication operation.\n",
    "\n",
    "Here is our mul operation, and this was then,\n",
    "\n",
    "along with constant_b, passed to an add operation.\n",
    "\n",
    "TensorBoard is an amazing tool that TensorFlow offers in\n",
    "\n",
    "order to visualize your computation graph.\n",
    "\n",
    "This works even with very complex neural networks. "
   ]
  },
  {
   "cell_type": "code",
   "execution_count": null,
   "id": "d9d0764f",
   "metadata": {},
   "outputs": [],
   "source": []
  }
 ],
 "metadata": {
  "kernelspec": {
   "display_name": "Python [conda env:pytorch_env] *",
   "language": "python",
   "name": "conda-env-pytorch_env-py"
  },
  "language_info": {
   "codemirror_mode": {
    "name": "ipython",
    "version": 3
   },
   "file_extension": ".py",
   "mimetype": "text/x-python",
   "name": "python",
   "nbconvert_exporter": "python",
   "pygments_lexer": "ipython3",
   "version": "3.7.1"
  }
 },
 "nbformat": 4,
 "nbformat_minor": 5
}
