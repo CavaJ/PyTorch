{
 "cells": [
  {
   "cell_type": "markdown",
   "id": "1d3a7d7e",
   "metadata": {},
   "source": [
    "# Demo: Converting between PyTorch Tensors and Numpy Arrays"
   ]
  },
  {
   "cell_type": "code",
   "execution_count": 2,
   "id": "ae7afc1b",
   "metadata": {},
   "outputs": [],
   "source": [
    "import numpy as np\n",
    "import torch"
   ]
  },
  {
   "cell_type": "code",
   "execution_count": 3,
   "id": "6a94e5bb",
   "metadata": {},
   "outputs": [
    {
     "data": {
      "text/plain": [
       "tensor([[0.3291, 0.2994, 0.6400],\n",
       "        [0.4036, 0.9327, 0.3254],\n",
       "        [0.5153, 0.0018, 0.4470],\n",
       "        [0.3902, 0.7490, 0.9300]])"
      ]
     },
     "execution_count": 3,
     "metadata": {},
     "output_type": "execute_result"
    }
   ],
   "source": [
    "tensor = torch.rand(4, 3)\n",
    "\n",
    "tensor"
   ]
  },
  {
   "cell_type": "code",
   "execution_count": 4,
   "id": "87f986db",
   "metadata": {},
   "outputs": [
    {
     "data": {
      "text/plain": [
       "torch.Tensor"
      ]
     },
     "execution_count": 4,
     "metadata": {},
     "output_type": "execute_result"
    }
   ],
   "source": [
    "type(tensor)"
   ]
  },
  {
   "cell_type": "code",
   "execution_count": 6,
   "id": "55c8aca5",
   "metadata": {},
   "outputs": [
    {
     "data": {
      "text/plain": [
       "array([[0.3291142 , 0.29939938, 0.6399614 ],\n",
       "       [0.4036371 , 0.9326941 , 0.32536733],\n",
       "       [0.51527244, 0.00182742, 0.44703335],\n",
       "       [0.390154  , 0.7490038 , 0.93002915]], dtype=float32)"
      ]
     },
     "execution_count": 6,
     "metadata": {},
     "output_type": "execute_result"
    }
   ],
   "source": [
    "# Now we know that torch tensors are simply Numpy Arrays with the ability to be executed on GPUs,\n",
    "# that is the crucial difference\n",
    "\n",
    "numpy_from_tensor = tensor.numpy()\n",
    "\n",
    "# observe that the resulting numpy array has the data type, float32, remember that torch tensors are created using \n",
    "# the torch.float32 type by default.\n",
    "numpy_from_tensor"
   ]
  },
  {
   "cell_type": "code",
   "execution_count": 7,
   "id": "c2cda901",
   "metadata": {},
   "outputs": [
    {
     "data": {
      "text/plain": [
       "numpy.ndarray"
      ]
     },
     "execution_count": 7,
     "metadata": {},
     "output_type": "execute_result"
    }
   ],
   "source": [
    "type(numpy_from_tensor)"
   ]
  },
  {
   "cell_type": "code",
   "execution_count": 8,
   "id": "5f6bfa46",
   "metadata": {},
   "outputs": [
    {
     "data": {
      "text/plain": [
       "True"
      ]
     },
     "execution_count": 8,
     "metadata": {},
     "output_type": "execute_result"
    }
   ],
   "source": [
    "# torch.is_tensor() function will return true for the original tensor\n",
    "torch.is_tensor(tensor)"
   ]
  },
  {
   "cell_type": "code",
   "execution_count": 9,
   "id": "a23cdb02",
   "metadata": {},
   "outputs": [
    {
     "data": {
      "text/plain": [
       "False"
      ]
     },
     "execution_count": 9,
     "metadata": {},
     "output_type": "execute_result"
    }
   ],
   "source": [
    "torch.is_tensor(numpy_from_tensor)"
   ]
  },
  {
   "cell_type": "code",
   "execution_count": 10,
   "id": "bf19d294",
   "metadata": {},
   "outputs": [
    {
     "name": "stdout",
     "output_type": "stream",
     "text": [
      "[[1.0000000e+02 2.9939938e-01 6.3996142e-01]\n",
      " [4.0363711e-01 9.3269408e-01 3.2536733e-01]\n",
      " [5.1527244e-01 1.8274188e-03 4.4703335e-01]\n",
      " [3.9015400e-01 7.4900383e-01 9.3002915e-01]]\n",
      "tensor([[1.0000e+02, 2.9940e-01, 6.3996e-01],\n",
      "        [4.0364e-01, 9.3269e-01, 3.2537e-01],\n",
      "        [5.1527e-01, 1.8274e-03, 4.4703e-01],\n",
      "        [3.9015e-01, 7.4900e-01, 9.3003e-01]])\n"
     ]
    }
   ],
   "source": [
    "# Here is something important to remember; the original PyTorch tensor and the Numpy array we created from it share the same\n",
    "# underlying memory.\n",
    "\n",
    "# so, if you change a particular element in the NumPy array, it will be reflected in the original tensor\n",
    "numpy_from_tensor[0, 0] = 100.0\n",
    "\n",
    "print(numpy_from_tensor)\n",
    "print(tensor)"
   ]
  },
  {
   "cell_type": "code",
   "execution_count": 12,
   "id": "81b7e477",
   "metadata": {},
   "outputs": [
    {
     "data": {
      "text/plain": [
       "array([[  1.,   2.,   3.],\n",
       "       [ 10.,  20.,  30.],\n",
       "       [100., 200., 300.]])"
      ]
     },
     "execution_count": 12,
     "metadata": {},
     "output_type": "execute_result"
    }
   ],
   "source": [
    "# Let's now do the reverse\n",
    "numpy_arr = np.array([[1.0, 2.0, 3.0],\n",
    "                        [10.0, 20.0, 30.0],\n",
    "                        [100.0, 200.0, 300.0]])\n",
    "\n",
    "numpy_arr"
   ]
  },
  {
   "cell_type": "code",
   "execution_count": 15,
   "id": "82f08d93",
   "metadata": {},
   "outputs": [
    {
     "data": {
      "text/plain": [
       "tensor([[  1.,   2.,   3.],\n",
       "        [ 10.,  20.,  30.],\n",
       "        [100., 200., 300.]], dtype=torch.float64)"
      ]
     },
     "execution_count": 15,
     "metadata": {},
     "output_type": "execute_result"
    }
   ],
   "source": [
    "# Let's create a tensor from this NumPy array\n",
    "tensor_from_numpy = torch.from_numpy(numpy_arr)\n",
    "\n",
    "# Observe that the type of this tensor is float64.\n",
    "# Numpy data type has been converted to the corresponding torch data type.\n",
    "tensor_from_numpy"
   ]
  },
  {
   "cell_type": "code",
   "execution_count": 16,
   "id": "0d954332",
   "metadata": {},
   "outputs": [
    {
     "data": {
      "text/plain": [
       "torch.Tensor"
      ]
     },
     "execution_count": 16,
     "metadata": {},
     "output_type": "execute_result"
    }
   ],
   "source": [
    "type(tensor_from_numpy)"
   ]
  },
  {
   "cell_type": "code",
   "execution_count": 17,
   "id": "8c87d8c4",
   "metadata": {},
   "outputs": [
    {
     "data": {
      "text/plain": [
       "numpy.ndarray"
      ]
     },
     "execution_count": 17,
     "metadata": {},
     "output_type": "execute_result"
    }
   ],
   "source": [
    "type(numpy_arr)"
   ]
  },
  {
   "cell_type": "code",
   "execution_count": 18,
   "id": "29ef3d04",
   "metadata": {},
   "outputs": [
    {
     "data": {
      "text/plain": [
       "True"
      ]
     },
     "execution_count": 18,
     "metadata": {},
     "output_type": "execute_result"
    }
   ],
   "source": [
    "torch.is_tensor(tensor_from_numpy)"
   ]
  },
  {
   "cell_type": "code",
   "execution_count": 21,
   "id": "d9872067",
   "metadata": {},
   "outputs": [
    {
     "name": "stdout",
     "output_type": "stream",
     "text": [
      "tensor([[  1.,   1.,   1.],\n",
      "        [ 10.,  20.,  30.],\n",
      "        [100., 200., 300.]], dtype=torch.float64)\n"
     ]
    },
    {
     "data": {
      "text/plain": [
       "array([[  1.,   1.,   1.],\n",
       "       [ 10.,  20.,  30.],\n",
       "       [100., 200., 300.]])"
      ]
     },
     "execution_count": 21,
     "metadata": {},
     "output_type": "execute_result"
    }
   ],
   "source": [
    "# Once again, the original NumPy array and the torch tensor that we created using from_numpy share the same underlying memory.\n",
    "\n",
    "# changes made to the one will be reflected on the other.\n",
    "# let's set 1 to all elements in the first row.\n",
    "tensor_from_numpy[0] = 1\n",
    "\n",
    "print(tensor_from_numpy)\n",
    "numpy_arr"
   ]
  },
  {
   "cell_type": "code",
   "execution_count": 22,
   "id": "420c9e0b",
   "metadata": {},
   "outputs": [
    {
     "data": {
      "text/plain": [
       "array([4, 8])"
      ]
     },
     "execution_count": 22,
     "metadata": {},
     "output_type": "execute_result"
    }
   ],
   "source": [
    "# Torch offers other ways to convert your NumPy arrays to tensors\n",
    "\n",
    "np_array_one = np.array([4, 8])\n",
    "np_array_one"
   ]
  },
  {
   "cell_type": "code",
   "execution_count": 23,
   "id": "b890c435",
   "metadata": {},
   "outputs": [
    {
     "data": {
      "text/plain": [
       "tensor([4, 8], dtype=torch.int32)"
      ]
     },
     "execution_count": 23,
     "metadata": {},
     "output_type": "execute_result"
    }
   ],
   "source": [
    "# Let's create a tensor from np_array_one using the torch.as_tensor function. \n",
    "# Now this function performs a COPY if the data is NOT already a tensor. So the copy is performed only when needed.\n",
    "\n",
    "# Here since we are not changing the data type or device on which the tensor is located, device meaning CPU or GPU, \n",
    "# the new tensor will just use the same memory.\n",
    "tensor_from_array_one = torch.as_tensor(np_array_one)\n",
    "tensor_from_array_one"
   ]
  },
  {
   "cell_type": "code",
   "execution_count": 25,
   "id": "ef6fd4b3",
   "metadata": {},
   "outputs": [
    {
     "data": {
      "text/plain": [
       "array([4, 5])"
      ]
     },
     "metadata": {},
     "output_type": "display_data"
    },
    {
     "data": {
      "text/plain": [
       "tensor([4, 5], dtype=torch.int32)"
      ]
     },
     "metadata": {},
     "output_type": "display_data"
    }
   ],
   "source": [
    "# Using torch.as_tensor() is a way for you to ensure that unncessary copies of your tensor are NOT created.\n",
    "# If the data is already a tensor with the same data type and device then NO COPY is performed and a new tensor is part of\n",
    "# the same computational graph as the original.\n",
    "\n",
    "# Again any changes you make to the original Numpy array will be reflected in the tensor created from it.\n",
    "np_array_one[1] = 5\n",
    "display(np_array_one)\n",
    "display(tensor_from_array_one)"
   ]
  },
  {
   "cell_type": "code",
   "execution_count": 26,
   "id": "84c98a5a",
   "metadata": {},
   "outputs": [
    {
     "data": {
      "text/plain": [
       "array([2, 2])"
      ]
     },
     "execution_count": 26,
     "metadata": {},
     "output_type": "execute_result"
    }
   ],
   "source": [
    "# If you are sure that you want to make a copy of the underlying date while creating your tensor, \n",
    "# you will use a slightly different function.\n",
    "\n",
    "np_array_two = np.array([2, 2])\n",
    "np_array_two"
   ]
  },
  {
   "cell_type": "code",
   "execution_count": 27,
   "id": "18f3bb12",
   "metadata": {},
   "outputs": [
    {
     "data": {
      "text/plain": [
       "tensor([2, 2], dtype=torch.int32)"
      ]
     },
     "execution_count": 27,
     "metadata": {},
     "output_type": "execute_result"
    }
   ],
   "source": [
    "# In order to create a copy of the underlying data, use torch.tensor() function. \n",
    "# It makes a copy of the data to create a new tensor.\n",
    "\n",
    "tensor_from_array_two = torch.tensor(np_array_two)\n",
    "\n",
    "tensor_from_array_two"
   ]
  },
  {
   "cell_type": "code",
   "execution_count": 28,
   "id": "82b392e2",
   "metadata": {},
   "outputs": [
    {
     "data": {
      "text/plain": [
       "array([2, 4])"
      ]
     },
     "metadata": {},
     "output_type": "display_data"
    },
    {
     "data": {
      "text/plain": [
       "tensor([2, 2], dtype=torch.int32)"
      ]
     },
     "metadata": {},
     "output_type": "display_data"
    }
   ],
   "source": [
    "# Let's make a change to the original numpy array\n",
    "np_array_two[1] = 4\n",
    "\n",
    "# since, the tensor made a copy of the data of np_array_two, changes are not reflected on tensor_from_array_two.\n",
    "display(np_array_two)\n",
    "display(tensor_from_array_two)"
   ]
  },
  {
   "cell_type": "code",
   "execution_count": null,
   "id": "a1af3c4a",
   "metadata": {},
   "outputs": [],
   "source": []
  }
 ],
 "metadata": {
  "kernelspec": {
   "display_name": "Python [conda env:pytorch_env] *",
   "language": "python",
   "name": "conda-env-pytorch_env-py"
  },
  "language_info": {
   "codemirror_mode": {
    "name": "ipython",
    "version": 3
   },
   "file_extension": ".py",
   "mimetype": "text/x-python",
   "name": "python",
   "nbconvert_exporter": "python",
   "pygments_lexer": "ipython3",
   "version": "3.7.1"
  }
 },
 "nbformat": 4,
 "nbformat_minor": 5
}
